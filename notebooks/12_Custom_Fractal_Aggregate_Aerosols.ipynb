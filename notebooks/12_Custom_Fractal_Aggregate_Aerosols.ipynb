{
 "cells": [
  {
   "cell_type": "markdown",
   "id": "02b47774",
   "metadata": {},
   "source": [
    "# Custom Fractal Aggregate Aerosols\n",
    "\n",
    "In this tutorial, we will learn:\n",
    "\n",
    "1. How to generate your own .mieff files for custom paticle sizes, numbers of monomers, monomer radii, or fractal dimension values. \n",
    "\n",
    "The VIRGA v2.0 aerosol database makes the assumption that $N_{mon}$=1000 for all species. To explore other options, you need to calculate your own .mieff grids by calculating $Q_{ext}$, $Q_{sca}$ and the asymmetry parameter $g$ for each wavelength, particle size, shape and condensible species that forms in the clouds. We do this using Modified Mean Field theory, which is built into the code optool : https://github.com/cdominik/optool . For more details on MMF calculations in general, see the following papers:\n",
    "\n",
    "- https://doi.org/10.3847/1538-4357/aac32d (Tazaki R. and Tanaka H., 2018)\n",
    "- https://doi.org/10.1093/mnras/stad3743 (Lodge M. et al., 2024)\n",
    "\n",
    "Optool should be compiled before starting this tutorial (with \"make multi=True\", if possible, to massively speed up calculations). See optool documentation for further install instructions.\n",
    "\n",
    "Once compiled, add the filepaths into the cell below."
   ]
  },
  {
   "cell_type": "code",
   "execution_count": null,
   "id": "9fb3885c",
   "metadata": {},
   "outputs": [],
   "source": [
    "# --------------------------------------------- UPDATE THESE FILEPATHS FOR YOUR OWN SETUP ------------------------------------------------------------------\n",
    "\n",
    "# set the required filepaths\n",
    "virga_dir = '/PICASO/virga_refractive_indices' # set filepath for VIRGA refractive index files (.refrind). These are usually located wherever you placed the .mieff database\n",
    "output_dir = '/optical_db' # set filepath for the output .mieff files that you want to create\n",
    "optool_dir = '/Programs/optool' # set root filepath for main OPTOOL code (code should be compiled already). IMPORTANT: It is assumed that .lnk files are stored within this directory in a \"/lnk_data\" subdirectory, as standard for installations of optool.\n",
    " \n",
    "# --------------------------------------------------------------------------------------------------------------------------------------------"
   ]
  },
  {
   "cell_type": "code",
   "execution_count": null,
   "id": "6a2790ca",
   "metadata": {},
   "outputs": [],
   "source": [
    "# standard import statements\n",
    "import numpy as np\n",
    "import virga.justdoit as jdi"
   ]
  },
  {
   "cell_type": "markdown",
   "id": "c0ad1da0",
   "metadata": {},
   "source": [
    "## Choose gas and define radius grid\n",
    "\n",
    "You can choose any gas or gasses that you would like to consider as aggregates -- they just need to be from the VIRGA database to be able to make clouds out of them. For this example, we will choose KCl."
   ]
  },
  {
   "cell_type": "code",
   "execution_count": null,
   "id": "079d81a8",
   "metadata": {},
   "outputs": [],
   "source": [
    "aggregate_list = ['KCl'] # choose gas or list of gasses (submit as an array of strings)\n",
    "\n",
    "# optool needs to read the refractive index for each gas, so this function will convert the refractive index file from the virga refractive index database (.refrind format) into a format \n",
    "# that optool can read (.lnk format), and then save it in the \"lnk_data\" folder within the optool directory. This only needs to be done once per gas, but it's a very quick function anyway.\n",
    "\n",
    "jdi.convert_refrind_to_lnk(aggregate_list, virga_dir, optool_dir)\n",
    "    \n",
    "# SET RADIUS GRID -- (in cm!)\n",
    "\n",
    "radius_min = 1e-8 # in cm, so this is 0.0001 um - set minimum radius of particles to calculate optical properties for\n",
    "radius_max = 1e-2 # in cm, so this is 100 um - set maximum radius of particles to calculate optical properties for\n",
    "num_radii = 40 # number of radii that we want to calculate properties for\n",
    "logspace=True # make the radius grid in log-space (this is the default option)\n",
    "# the wavelength grid will simply be all of the wavelengths that are in the .refrind file."
   ]
  },
  {
   "cell_type": "markdown",
   "id": "5d18f059",
   "metadata": {},
   "source": [
    "## Spheres\n",
    "\n",
    "First, calculate optical properties for spheres on the radius grid made above. VIRGA should print the number of wavelengths and details about the radius bins that are analysed (note: it calculates an average of the optical properties from 6 sub-bins centered around each of these mean radii to smooth out resonance features).\n",
    "\n",
    "If this process takes a really long time, consider the following:\n",
    "\n",
    "1) Check that your radii are <b>in cm</b>. Larger particles take longer computation times, so check your units.\n",
    "2) Do you need all of the wavelengths in your .refrind file? If not, you may wish to delete some of them, especially if you are using an experimental dataset that has UV wavelengths in there but not actually analysing them in the clouds (short wavelengths take longer).\n",
    "3) Consider decreasing the resolution of your wavelength grid. Fewer wavelengths = Fewer calculations\n",
    "\n"
   ]
  },
  {
   "cell_type": "code",
   "execution_count": null,
   "id": "79c82e56",
   "metadata": {},
   "outputs": [],
   "source": [
    "# ------------------------------------------ SPHERES ------------------------------------------\n",
    "\n",
    "# First, calculate optical properties for spheres\n",
    "\n",
    "# Calculate extinction, absorption and scattering efficiencies for the radius grid specified within the function below\n",
    "optical_properties = jdi.calc_mie_db(aggregate_list, virga_dir, output_dir, optool_dir, \n",
    "                                    rmin = radius_min, # 0.0001 um \n",
    "                                    rmax = radius_max, # 100 um \n",
    "                                    nradii = num_radii, # number of radii that we want to calculate properties for\n",
    "                                    aggregates=False, # consider condensed gas as spheres\n",
    "                                    logspace=True)"
   ]
  },
  {
   "cell_type": "markdown",
   "id": "1cb11f86",
   "metadata": {},
   "source": [
    "## Aggregates\n",
    "\n",
    "The code for calculating .mieff files for aggregates is very similar, but we have to provide it with a few more details about the particle shape:\n",
    "\n",
    "    a) The fractal dimension (general shape) of the aerosols\n",
    "    b) EITHER the number of monomers (N_mon) OR the radius of the monomer (r_mon).\n",
    "\n",
    "Below we create files for 5 different fractal dimensions: Df = [1.2, 1.6, 2.0, 2.4, 2.8] and $N_{mon}$ = 2,000. To guide you through the creation of the .mieff grid, VIRGA will print each sub-bin that it is currently calculating optical properties for, as well as the exact aggregate properties in each sub-bin. It does calculations for 6 sub-bins, finds the average, and then moves onto the next radius bin (separated by dashed lines). The calculation order is:\n",
    "\n",
    "- Pick a sub-bin radius, beginning with the smallest particles.\n",
    "    - Calculate optical properties for all wavelengths at this radius.\n",
    "\n",
    "\n",
    "### Additional guidance\n",
    "\n",
    "- <b>Tip:</b> If optool is compiled with the \"make multi=True\" command, it will calculate properties for multiple wavelengths on different cores, giving a signficant speed boost (especially if combined with HPC architecture).\n",
    "\n",
    "- If you want to calculate optical properties for fixed $r_{mon}$ instead of $N_{mon}$, a second example codeblock is commented out below (see Figure 2 and discussion in Moran & Lodge (2025) for details on both methods).\n",
    "\n",
    "- You may notice that you set $N_{mon}$ = 2,000 but for the smallest particle in the grid, the N_mon value printed is much smaller. This is because $r_{mon}$ is not allowed to be smaller than an atom, but VIRGA may still require small particles, so the smallest particles in the grid are allowed to deviate from the fixed N_mon value to remain physical. See Figure 2 and discussion in Moran & Lodge (2025) for more details on this. In each sub-bin, the values of $N_{mon}$, $R_{gyr}$, $k_{0}$ and $r_{mon}$ are printed for clarity on the exact parameters that MMF is using to calculate optical properties.\n",
    "\n",
    "- If your calculations are taking a long time, check the guidance on reducing calculation time for spheres above. However, note that MMF calculations for large numbers of radii and wavelengths can just take a while.\n",
    "\n",
    "- Finally, check your wavelength ranges in the .refrind files. If the wavelength range spans > 3 orders of magnitude, due to computational memory issues multithreading may be disabled and calculations can be limited to one core at a time, which can slow things down (a warning will be printed if this happens). Avoid this by only submitting wavelengths that you NEED in your .refrind file (and subsequent optool .lnk file)."
   ]
  },
  {
   "cell_type": "code",
   "execution_count": null,
   "id": "3d520e07",
   "metadata": {},
   "outputs": [],
   "source": [
    "d_f = np.linspace(1.2,2.8,5) # test 5 different values of fractal dimension\n",
    "N_monomers = 2000 # Number of monomers in an aggregate\n",
    "\n",
    "# k0 will be prescribed using Tazeki Eq. 2, if not set by the user\n",
    "# R_gyr will be calculated within the code\n",
    "\n",
    "for i_fractal in range(len(d_f)):\n",
    "\n",
    "    # Calculate extinction, absorption and scattering efficiencies for the radius grid specified within the function below\n",
    "    optical_properties = jdi.calc_mie_db(aggregate_list, virga_dir, output_dir, optool_dir, \n",
    "                                        rmin = radius_min, # 0.001 um \n",
    "                                        rmax = radius_max, # 0.5 um \n",
    "                                        nradii = num_radii, # number of radii that we want to calculate properties for\n",
    "                                        aggregates=True, # consider condensed gas as aggregates\n",
    "                                        Df=d_f[i_fractal], # loop through each fractal dimension in the array\n",
    "                                        N_mon=N_monomers, # number of monomers\n",
    "                                        logspace=True)\n",
    "    \n",
    "\n",
    "\n",
    "'''\n",
    "\n",
    "# OR if you want to fix r_mon instead of N_mon, use the following code:\n",
    "\n",
    "d_f = np.linspace(1.2,2.8,5) # test 5 different values of fractal dimension\n",
    "r_monomers = 1e-6 # Here we provide r_mon in cm, so this would be r_mon = 0.01 um\n",
    "\n",
    "# k0 will be prescribed using Tazeki Eq. 2, if not set by the user\n",
    "# R_gyr will be calculated within the code\n",
    "\n",
    "for i_fractal in range(len(d_f)):\n",
    "\n",
    "    # Calculate extinction, absorption and scattering efficiencies for the radius grid specified within the function below\n",
    "    optical_properties = jdi.calc_mie_db(aggregate_list, virga_dir, output_dir, optool_dir, \n",
    "                                        rmin = radius_min, # 0.001 um \n",
    "                                        rmax = radius_max, # 0.5 um \n",
    "                                        nradii = num_radii, # number of radii that we want to calculate properties for\n",
    "                                        aggregates=True, # consider condensed gas as aggregates\n",
    "                                        Df=d_f[i_fractal], # loop through each fractal dimension in the array\n",
    "                                        r_mon=r_monomers, # monomer radius\n",
    "                                        logspace=True)\n",
    "\n",
    "'''\n"
   ]
  }
 ],
 "metadata": {
  "kernelspec": {
   "display_name": "base",
   "language": "python",
   "name": "python3"
  },
  "language_info": {
   "codemirror_mode": {
    "name": "ipython",
    "version": 3
   },
   "file_extension": ".py",
   "mimetype": "text/x-python",
   "name": "python",
   "nbconvert_exporter": "python",
   "pygments_lexer": "ipython3",
   "version": "3.9.7"
  },
  "nbsphinx": {
   "execute": "never"
  },
  "toc": {
   "base_numbering": 1,
   "nav_menu": {},
   "number_sections": true,
   "sideBar": true,
   "skip_h1_title": false,
   "title_cell": "Table of Contents",
   "title_sidebar": "Contents",
   "toc_cell": true,
   "toc_position": {},
   "toc_section_display": true,
   "toc_window_display": false
  }
 },
 "nbformat": 4,
 "nbformat_minor": 5
}
