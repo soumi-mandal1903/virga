{
 "cells": [
  {
   "cell_type": "markdown",
   "metadata": {},
   "source": [
    "# Options for K$_z$\n",
    "\n",
    "In this tutorial you will learn: \n",
    "\n",
    "1. The hierarchy of K$_z$ assumptions \n",
    "\n",
    "You should already be familiar with: \n",
    "\n",
    "1. How to pick condensates to run in a cloud model \n",
    "2. What is $f_{sed}$ and what number is right for my model? \n",
    "3. What are the chemical limitations in the code \n",
    "4. How to compute initial Mie scattering grid\n",
    "5. Generally how to run the code \n"
   ]
  },
  {
   "cell_type": "code",
   "execution_count": 1,
   "metadata": {
    "execution": {
     "iopub.execute_input": "2025-09-05T22:30:11.666394Z",
     "iopub.status.busy": "2025-09-05T22:30:11.665885Z",
     "iopub.status.idle": "2025-09-05T22:30:13.886144Z",
     "shell.execute_reply": "2025-09-05T22:30:13.885867Z"
    }
   },
   "outputs": [
    {
     "data": {
      "text/html": [
       "    <style>\n",
       "        .bk-notebook-logo {\n",
       "            display: block;\n",
       "            width: 20px;\n",
       "            height: 20px;\n",
       "            background-image: url(data:image/png;base64,iVBORw0KGgoAAAANSUhEUgAAABQAAAAUCAYAAACNiR0NAAAABHNCSVQICAgIfAhkiAAAAAlwSFlzAAALEgAACxIB0t1+/AAAABx0RVh0U29mdHdhcmUAQWRvYmUgRmlyZXdvcmtzIENTNui8sowAAAOkSURBVDiNjZRtaJVlGMd/1/08zzln5zjP1LWcU9N0NkN8m2CYjpgQYQXqSs0I84OLIC0hkEKoPtiH3gmKoiJDU7QpLgoLjLIQCpEsNJ1vqUOdO7ppbuec5+V+rj4ctwzd8IIbbi6u+8f1539dt3A78eXC7QizUF7gyV1fD1Yqg4JWz84yffhm0qkFqBogB9rM8tZdtwVsPUhWhGcFJngGeWrPzHm5oaMmkfEg1usvLFyc8jLRqDOMru7AyC8saQr7GG7f5fvDeH7Ej8CM66nIF+8yngt6HWaKh7k49Soy9nXurCi1o3qUbS3zWfrYeQDTB/Qj6kX6Ybhw4B+bOYoLKCC9H3Nu/leUTZ1JdRWkkn2ldcCamzrcf47KKXdAJllSlxAOkRgyHsGC/zRday5Qld9DyoM4/q/rUoy/CXh3jzOu3bHUVZeU+DEn8FInkPBFlu3+nW3Nw0mk6vCDiWg8CeJaxEwuHS3+z5RgY+YBR6V1Z1nxSOfoaPa4LASWxxdNp+VWTk7+4vzaou8v8PN+xo+KY2xsw6une2frhw05CTYOmQvsEhjhWjn0bmXPjpE1+kplmmkP3suftwTubK9Vq22qKmrBhpY4jvd5afdRA3wGjFAgcnTK2s4hY0/GPNIb0nErGMCRxWOOX64Z8RAC4oCXdklmEvcL8o0BfkNK4lUg9HTl+oPlQxdNo3Mg4Nv175e/1LDGzZen30MEjRUtmXSfiTVu1kK8W4txyV6BMKlbgk3lMwYCiusNy9fVfvvwMxv8Ynl6vxoByANLTWplvuj/nF9m2+PDtt1eiHPBr1oIfhCChQMBw6Aw0UulqTKZdfVvfG7VcfIqLG9bcldL/+pdWTLxLUy8Qq38heUIjh4XlzZxzQm19lLFlr8vdQ97rjZVOLf8nclzckbcD4wxXMidpX30sFd37Fv/GtwwhzhxGVAprjbg0gCAEeIgwCZyTV2Z1REEW8O4py0wsjeloKoMr6iCY6dP92H6Vw/oTyICIthibxjm/DfN9lVz8IqtqKYLUXfoKVMVQVVJOElGjrnnUt9T9wbgp8AyYKaGlqingHZU/uG2NTZSVqwHQTWkx9hxjkpWDaCg6Ckj5qebgBVbT3V3NNXMSiWSDdGV3hrtzla7J+duwPOToIg42ChPQOQjspnSlp1V+Gjdged7+8UN5CRAV7a5EdFNwCjEaBR27b3W890TE7g24NAP/mMDXRWrGoFPQI9ls/MWO2dWFAar/xcOIImbbpA3zgAAAABJRU5ErkJggg==);\n",
       "        }\n",
       "    </style>\n",
       "    <div>\n",
       "        <a href=\"https://bokeh.org\" target=\"_blank\" class=\"bk-notebook-logo\"></a>\n",
       "        <span id=\"f0829964-974e-405c-a7f9-8e8d852de125\">Loading BokehJS ...</span>\n",
       "    </div>\n"
      ]
     },
     "metadata": {},
     "output_type": "display_data"
    },
    {
     "data": {
      "application/javascript": [
       "'use strict';\n",
       "(function(root) {\n",
       "  function now() {\n",
       "    return new Date();\n",
       "  }\n",
       "\n",
       "  const force = true;\n",
       "\n",
       "  if (typeof root._bokeh_onload_callbacks === \"undefined\" || force === true) {\n",
       "    root._bokeh_onload_callbacks = [];\n",
       "    root._bokeh_is_loading = undefined;\n",
       "  }\n",
       "\n",
       "const JS_MIME_TYPE = 'application/javascript';\n",
       "  const HTML_MIME_TYPE = 'text/html';\n",
       "  const EXEC_MIME_TYPE = 'application/vnd.bokehjs_exec.v0+json';\n",
       "  const CLASS_NAME = 'output_bokeh rendered_html';\n",
       "\n",
       "  /**\n",
       "   * Render data to the DOM node\n",
       "   */\n",
       "  function render(props, node) {\n",
       "    const script = document.createElement(\"script\");\n",
       "    node.appendChild(script);\n",
       "  }\n",
       "\n",
       "  /**\n",
       "   * Handle when an output is cleared or removed\n",
       "   */\n",
       "  function handleClearOutput(event, handle) {\n",
       "    function drop(id) {\n",
       "      const view = Bokeh.index.get_by_id(id)\n",
       "      if (view != null) {\n",
       "        view.model.document.clear()\n",
       "        Bokeh.index.delete(view)\n",
       "      }\n",
       "    }\n",
       "\n",
       "    const cell = handle.cell;\n",
       "\n",
       "    const id = cell.output_area._bokeh_element_id;\n",
       "    const server_id = cell.output_area._bokeh_server_id;\n",
       "\n",
       "    // Clean up Bokeh references\n",
       "    if (id != null) {\n",
       "      drop(id)\n",
       "    }\n",
       "\n",
       "    if (server_id !== undefined) {\n",
       "      // Clean up Bokeh references\n",
       "      const cmd_clean = \"from bokeh.io.state import curstate; print(curstate().uuid_to_server['\" + server_id + \"'].get_sessions()[0].document.roots[0]._id)\";\n",
       "      cell.notebook.kernel.execute(cmd_clean, {\n",
       "        iopub: {\n",
       "          output: function(msg) {\n",
       "            const id = msg.content.text.trim()\n",
       "            drop(id)\n",
       "          }\n",
       "        }\n",
       "      });\n",
       "      // Destroy server and session\n",
       "      const cmd_destroy = \"import bokeh.io.notebook as ion; ion.destroy_server('\" + server_id + \"')\";\n",
       "      cell.notebook.kernel.execute(cmd_destroy);\n",
       "    }\n",
       "  }\n",
       "\n",
       "  /**\n",
       "   * Handle when a new output is added\n",
       "   */\n",
       "  function handleAddOutput(event, handle) {\n",
       "    const output_area = handle.output_area;\n",
       "    const output = handle.output;\n",
       "\n",
       "    // limit handleAddOutput to display_data with EXEC_MIME_TYPE content only\n",
       "    if ((output.output_type != \"display_data\") || (!Object.prototype.hasOwnProperty.call(output.data, EXEC_MIME_TYPE))) {\n",
       "      return\n",
       "    }\n",
       "\n",
       "    const toinsert = output_area.element.find(\".\" + CLASS_NAME.split(' ')[0]);\n",
       "\n",
       "    if (output.metadata[EXEC_MIME_TYPE][\"id\"] !== undefined) {\n",
       "      toinsert[toinsert.length - 1].firstChild.textContent = output.data[JS_MIME_TYPE];\n",
       "      // store reference to embed id on output_area\n",
       "      output_area._bokeh_element_id = output.metadata[EXEC_MIME_TYPE][\"id\"];\n",
       "    }\n",
       "    if (output.metadata[EXEC_MIME_TYPE][\"server_id\"] !== undefined) {\n",
       "      const bk_div = document.createElement(\"div\");\n",
       "      bk_div.innerHTML = output.data[HTML_MIME_TYPE];\n",
       "      const script_attrs = bk_div.children[0].attributes;\n",
       "      for (let i = 0; i < script_attrs.length; i++) {\n",
       "        toinsert[toinsert.length - 1].firstChild.setAttribute(script_attrs[i].name, script_attrs[i].value);\n",
       "        toinsert[toinsert.length - 1].firstChild.textContent = bk_div.children[0].textContent\n",
       "      }\n",
       "      // store reference to server id on output_area\n",
       "      output_area._bokeh_server_id = output.metadata[EXEC_MIME_TYPE][\"server_id\"];\n",
       "    }\n",
       "  }\n",
       "\n",
       "  function register_renderer(events, OutputArea) {\n",
       "\n",
       "    function append_mime(data, metadata, element) {\n",
       "      // create a DOM node to render to\n",
       "      const toinsert = this.create_output_subarea(\n",
       "        metadata,\n",
       "        CLASS_NAME,\n",
       "        EXEC_MIME_TYPE\n",
       "      );\n",
       "      this.keyboard_manager.register_events(toinsert);\n",
       "      // Render to node\n",
       "      const props = {data: data, metadata: metadata[EXEC_MIME_TYPE]};\n",
       "      render(props, toinsert[toinsert.length - 1]);\n",
       "      element.append(toinsert);\n",
       "      return toinsert\n",
       "    }\n",
       "\n",
       "    /* Handle when an output is cleared or removed */\n",
       "    events.on('clear_output.CodeCell', handleClearOutput);\n",
       "    events.on('delete.Cell', handleClearOutput);\n",
       "\n",
       "    /* Handle when a new output is added */\n",
       "    events.on('output_added.OutputArea', handleAddOutput);\n",
       "\n",
       "    /**\n",
       "     * Register the mime type and append_mime function with output_area\n",
       "     */\n",
       "    OutputArea.prototype.register_mime_type(EXEC_MIME_TYPE, append_mime, {\n",
       "      /* Is output safe? */\n",
       "      safe: true,\n",
       "      /* Index of renderer in `output_area.display_order` */\n",
       "      index: 0\n",
       "    });\n",
       "  }\n",
       "\n",
       "  // register the mime type if in Jupyter Notebook environment and previously unregistered\n",
       "  if (root.Jupyter !== undefined) {\n",
       "    const events = require('base/js/events');\n",
       "    const OutputArea = require('notebook/js/outputarea').OutputArea;\n",
       "\n",
       "    if (OutputArea.prototype.mime_types().indexOf(EXEC_MIME_TYPE) == -1) {\n",
       "      register_renderer(events, OutputArea);\n",
       "    }\n",
       "  }\n",
       "  if (typeof (root._bokeh_timeout) === \"undefined\" || force === true) {\n",
       "    root._bokeh_timeout = Date.now() + 5000;\n",
       "    root._bokeh_failed_load = false;\n",
       "  }\n",
       "\n",
       "  const NB_LOAD_WARNING = {'data': {'text/html':\n",
       "     \"<div style='background-color: #fdd'>\\n\"+\n",
       "     \"<p>\\n\"+\n",
       "     \"BokehJS does not appear to have successfully loaded. If loading BokehJS from CDN, this \\n\"+\n",
       "     \"may be due to a slow or bad network connection. Possible fixes:\\n\"+\n",
       "     \"</p>\\n\"+\n",
       "     \"<ul>\\n\"+\n",
       "     \"<li>re-rerun `output_notebook()` to attempt to load from CDN again, or</li>\\n\"+\n",
       "     \"<li>use INLINE resources instead, as so:</li>\\n\"+\n",
       "     \"</ul>\\n\"+\n",
       "     \"<code>\\n\"+\n",
       "     \"from bokeh.resources import INLINE\\n\"+\n",
       "     \"output_notebook(resources=INLINE)\\n\"+\n",
       "     \"</code>\\n\"+\n",
       "     \"</div>\"}};\n",
       "\n",
       "  function display_loaded(error = null) {\n",
       "    const el = document.getElementById(\"f0829964-974e-405c-a7f9-8e8d852de125\");\n",
       "    if (el != null) {\n",
       "      const html = (() => {\n",
       "        if (typeof root.Bokeh === \"undefined\") {\n",
       "          if (error == null) {\n",
       "            return \"BokehJS is loading ...\";\n",
       "          } else {\n",
       "            return \"BokehJS failed to load.\";\n",
       "          }\n",
       "        } else {\n",
       "          const prefix = `BokehJS ${root.Bokeh.version}`;\n",
       "          if (error == null) {\n",
       "            return `${prefix} successfully loaded.`;\n",
       "          } else {\n",
       "            return `${prefix} <b>encountered errors</b> while loading and may not function as expected.`;\n",
       "          }\n",
       "        }\n",
       "      })();\n",
       "      el.innerHTML = html;\n",
       "\n",
       "      if (error != null) {\n",
       "        const wrapper = document.createElement(\"div\");\n",
       "        wrapper.style.overflow = \"auto\";\n",
       "        wrapper.style.height = \"5em\";\n",
       "        wrapper.style.resize = \"vertical\";\n",
       "        const content = document.createElement(\"div\");\n",
       "        content.style.fontFamily = \"monospace\";\n",
       "        content.style.whiteSpace = \"pre-wrap\";\n",
       "        content.style.backgroundColor = \"rgb(255, 221, 221)\";\n",
       "        content.textContent = error.stack ?? error.toString();\n",
       "        wrapper.append(content);\n",
       "        el.append(wrapper);\n",
       "      }\n",
       "    } else if (Date.now() < root._bokeh_timeout) {\n",
       "      setTimeout(() => display_loaded(error), 100);\n",
       "    }\n",
       "  }\n",
       "\n",
       "  function run_callbacks() {\n",
       "    try {\n",
       "      root._bokeh_onload_callbacks.forEach(function(callback) {\n",
       "        if (callback != null)\n",
       "          callback();\n",
       "      });\n",
       "    } finally {\n",
       "      delete root._bokeh_onload_callbacks\n",
       "    }\n",
       "    console.debug(\"Bokeh: all callbacks have finished\");\n",
       "  }\n",
       "\n",
       "  function load_libs(css_urls, js_urls, callback) {\n",
       "    if (css_urls == null) css_urls = [];\n",
       "    if (js_urls == null) js_urls = [];\n",
       "\n",
       "    root._bokeh_onload_callbacks.push(callback);\n",
       "    if (root._bokeh_is_loading > 0) {\n",
       "      console.debug(\"Bokeh: BokehJS is being loaded, scheduling callback at\", now());\n",
       "      return null;\n",
       "    }\n",
       "    if (js_urls == null || js_urls.length === 0) {\n",
       "      run_callbacks();\n",
       "      return null;\n",
       "    }\n",
       "    console.debug(\"Bokeh: BokehJS not loaded, scheduling load and callback at\", now());\n",
       "    root._bokeh_is_loading = css_urls.length + js_urls.length;\n",
       "\n",
       "    function on_load() {\n",
       "      root._bokeh_is_loading--;\n",
       "      if (root._bokeh_is_loading === 0) {\n",
       "        console.debug(\"Bokeh: all BokehJS libraries/stylesheets loaded\");\n",
       "        run_callbacks()\n",
       "      }\n",
       "    }\n",
       "\n",
       "    function on_error(url) {\n",
       "      console.error(\"failed to load \" + url);\n",
       "    }\n",
       "\n",
       "    for (let i = 0; i < css_urls.length; i++) {\n",
       "      const url = css_urls[i];\n",
       "      const element = document.createElement(\"link\");\n",
       "      element.onload = on_load;\n",
       "      element.onerror = on_error.bind(null, url);\n",
       "      element.rel = \"stylesheet\";\n",
       "      element.type = \"text/css\";\n",
       "      element.href = url;\n",
       "      console.debug(\"Bokeh: injecting link tag for BokehJS stylesheet: \", url);\n",
       "      document.body.appendChild(element);\n",
       "    }\n",
       "\n",
       "    for (let i = 0; i < js_urls.length; i++) {\n",
       "      const url = js_urls[i];\n",
       "      const element = document.createElement('script');\n",
       "      element.onload = on_load;\n",
       "      element.onerror = on_error.bind(null, url);\n",
       "      element.async = false;\n",
       "      element.src = url;\n",
       "      console.debug(\"Bokeh: injecting script tag for BokehJS library: \", url);\n",
       "      document.head.appendChild(element);\n",
       "    }\n",
       "  };\n",
       "\n",
       "  function inject_raw_css(css) {\n",
       "    const element = document.createElement(\"style\");\n",
       "    element.appendChild(document.createTextNode(css));\n",
       "    document.body.appendChild(element);\n",
       "  }\n",
       "\n",
       "  const js_urls = [\"https://cdn.bokeh.org/bokeh/release/bokeh-3.4.3.min.js\", \"https://cdn.bokeh.org/bokeh/release/bokeh-gl-3.4.3.min.js\", \"https://cdn.bokeh.org/bokeh/release/bokeh-widgets-3.4.3.min.js\", \"https://cdn.bokeh.org/bokeh/release/bokeh-tables-3.4.3.min.js\", \"https://cdn.bokeh.org/bokeh/release/bokeh-mathjax-3.4.3.min.js\"];\n",
       "  const css_urls = [];\n",
       "\n",
       "  const inline_js = [    function(Bokeh) {\n",
       "      Bokeh.set_log_level(\"info\");\n",
       "    },\n",
       "function(Bokeh) {\n",
       "    }\n",
       "  ];\n",
       "\n",
       "  function run_inline_js() {\n",
       "    if (root.Bokeh !== undefined || force === true) {\n",
       "      try {\n",
       "            for (let i = 0; i < inline_js.length; i++) {\n",
       "      inline_js[i].call(root, root.Bokeh);\n",
       "    }\n",
       "\n",
       "      } catch (error) {display_loaded(error);throw error;\n",
       "      }if (force === true) {\n",
       "        display_loaded();\n",
       "      }} else if (Date.now() < root._bokeh_timeout) {\n",
       "      setTimeout(run_inline_js, 100);\n",
       "    } else if (!root._bokeh_failed_load) {\n",
       "      console.log(\"Bokeh: BokehJS failed to load within specified timeout.\");\n",
       "      root._bokeh_failed_load = true;\n",
       "    } else if (force !== true) {\n",
       "      const cell = $(document.getElementById(\"f0829964-974e-405c-a7f9-8e8d852de125\")).parents('.cell').data().cell;\n",
       "      cell.output_area.append_execute_result(NB_LOAD_WARNING)\n",
       "    }\n",
       "  }\n",
       "\n",
       "  if (root._bokeh_is_loading === 0) {\n",
       "    console.debug(\"Bokeh: BokehJS loaded, going straight to plotting\");\n",
       "    run_inline_js();\n",
       "  } else {\n",
       "    load_libs(css_urls, js_urls, function() {\n",
       "      console.debug(\"Bokeh: BokehJS plotting callback run at\", now());\n",
       "      run_inline_js();\n",
       "    });\n",
       "  }\n",
       "}(window));"
      ],
      "application/vnd.bokehjs_load.v0+json": "'use strict';\n(function(root) {\n  function now() {\n    return new Date();\n  }\n\n  const force = true;\n\n  if (typeof root._bokeh_onload_callbacks === \"undefined\" || force === true) {\n    root._bokeh_onload_callbacks = [];\n    root._bokeh_is_loading = undefined;\n  }\n\n\n  if (typeof (root._bokeh_timeout) === \"undefined\" || force === true) {\n    root._bokeh_timeout = Date.now() + 5000;\n    root._bokeh_failed_load = false;\n  }\n\n  const NB_LOAD_WARNING = {'data': {'text/html':\n     \"<div style='background-color: #fdd'>\\n\"+\n     \"<p>\\n\"+\n     \"BokehJS does not appear to have successfully loaded. If loading BokehJS from CDN, this \\n\"+\n     \"may be due to a slow or bad network connection. Possible fixes:\\n\"+\n     \"</p>\\n\"+\n     \"<ul>\\n\"+\n     \"<li>re-rerun `output_notebook()` to attempt to load from CDN again, or</li>\\n\"+\n     \"<li>use INLINE resources instead, as so:</li>\\n\"+\n     \"</ul>\\n\"+\n     \"<code>\\n\"+\n     \"from bokeh.resources import INLINE\\n\"+\n     \"output_notebook(resources=INLINE)\\n\"+\n     \"</code>\\n\"+\n     \"</div>\"}};\n\n  function display_loaded(error = null) {\n    const el = document.getElementById(\"f0829964-974e-405c-a7f9-8e8d852de125\");\n    if (el != null) {\n      const html = (() => {\n        if (typeof root.Bokeh === \"undefined\") {\n          if (error == null) {\n            return \"BokehJS is loading ...\";\n          } else {\n            return \"BokehJS failed to load.\";\n          }\n        } else {\n          const prefix = `BokehJS ${root.Bokeh.version}`;\n          if (error == null) {\n            return `${prefix} successfully loaded.`;\n          } else {\n            return `${prefix} <b>encountered errors</b> while loading and may not function as expected.`;\n          }\n        }\n      })();\n      el.innerHTML = html;\n\n      if (error != null) {\n        const wrapper = document.createElement(\"div\");\n        wrapper.style.overflow = \"auto\";\n        wrapper.style.height = \"5em\";\n        wrapper.style.resize = \"vertical\";\n        const content = document.createElement(\"div\");\n        content.style.fontFamily = \"monospace\";\n        content.style.whiteSpace = \"pre-wrap\";\n        content.style.backgroundColor = \"rgb(255, 221, 221)\";\n        content.textContent = error.stack ?? error.toString();\n        wrapper.append(content);\n        el.append(wrapper);\n      }\n    } else if (Date.now() < root._bokeh_timeout) {\n      setTimeout(() => display_loaded(error), 100);\n    }\n  }\n\n  function run_callbacks() {\n    try {\n      root._bokeh_onload_callbacks.forEach(function(callback) {\n        if (callback != null)\n          callback();\n      });\n    } finally {\n      delete root._bokeh_onload_callbacks\n    }\n    console.debug(\"Bokeh: all callbacks have finished\");\n  }\n\n  function load_libs(css_urls, js_urls, callback) {\n    if (css_urls == null) css_urls = [];\n    if (js_urls == null) js_urls = [];\n\n    root._bokeh_onload_callbacks.push(callback);\n    if (root._bokeh_is_loading > 0) {\n      console.debug(\"Bokeh: BokehJS is being loaded, scheduling callback at\", now());\n      return null;\n    }\n    if (js_urls == null || js_urls.length === 0) {\n      run_callbacks();\n      return null;\n    }\n    console.debug(\"Bokeh: BokehJS not loaded, scheduling load and callback at\", now());\n    root._bokeh_is_loading = css_urls.length + js_urls.length;\n\n    function on_load() {\n      root._bokeh_is_loading--;\n      if (root._bokeh_is_loading === 0) {\n        console.debug(\"Bokeh: all BokehJS libraries/stylesheets loaded\");\n        run_callbacks()\n      }\n    }\n\n    function on_error(url) {\n      console.error(\"failed to load \" + url);\n    }\n\n    for (let i = 0; i < css_urls.length; i++) {\n      const url = css_urls[i];\n      const element = document.createElement(\"link\");\n      element.onload = on_load;\n      element.onerror = on_error.bind(null, url);\n      element.rel = \"stylesheet\";\n      element.type = \"text/css\";\n      element.href = url;\n      console.debug(\"Bokeh: injecting link tag for BokehJS stylesheet: \", url);\n      document.body.appendChild(element);\n    }\n\n    for (let i = 0; i < js_urls.length; i++) {\n      const url = js_urls[i];\n      const element = document.createElement('script');\n      element.onload = on_load;\n      element.onerror = on_error.bind(null, url);\n      element.async = false;\n      element.src = url;\n      console.debug(\"Bokeh: injecting script tag for BokehJS library: \", url);\n      document.head.appendChild(element);\n    }\n  };\n\n  function inject_raw_css(css) {\n    const element = document.createElement(\"style\");\n    element.appendChild(document.createTextNode(css));\n    document.body.appendChild(element);\n  }\n\n  const js_urls = [\"https://cdn.bokeh.org/bokeh/release/bokeh-3.4.3.min.js\", \"https://cdn.bokeh.org/bokeh/release/bokeh-gl-3.4.3.min.js\", \"https://cdn.bokeh.org/bokeh/release/bokeh-widgets-3.4.3.min.js\", \"https://cdn.bokeh.org/bokeh/release/bokeh-tables-3.4.3.min.js\", \"https://cdn.bokeh.org/bokeh/release/bokeh-mathjax-3.4.3.min.js\"];\n  const css_urls = [];\n\n  const inline_js = [    function(Bokeh) {\n      Bokeh.set_log_level(\"info\");\n    },\nfunction(Bokeh) {\n    }\n  ];\n\n  function run_inline_js() {\n    if (root.Bokeh !== undefined || force === true) {\n      try {\n            for (let i = 0; i < inline_js.length; i++) {\n      inline_js[i].call(root, root.Bokeh);\n    }\n\n      } catch (error) {display_loaded(error);throw error;\n      }if (force === true) {\n        display_loaded();\n      }} else if (Date.now() < root._bokeh_timeout) {\n      setTimeout(run_inline_js, 100);\n    } else if (!root._bokeh_failed_load) {\n      console.log(\"Bokeh: BokehJS failed to load within specified timeout.\");\n      root._bokeh_failed_load = true;\n    } else if (force !== true) {\n      const cell = $(document.getElementById(\"f0829964-974e-405c-a7f9-8e8d852de125\")).parents('.cell').data().cell;\n      cell.output_area.append_execute_result(NB_LOAD_WARNING)\n    }\n  }\n\n  if (root._bokeh_is_loading === 0) {\n    console.debug(\"Bokeh: BokehJS loaded, going straight to plotting\");\n    run_inline_js();\n  } else {\n    load_libs(css_urls, js_urls, function() {\n      console.debug(\"Bokeh: BokehJS plotting callback run at\", now());\n      run_inline_js();\n    });\n  }\n}(window));"
     },
     "metadata": {},
     "output_type": "display_data"
    }
   ],
   "source": [
    "from bokeh.io import output_notebook \n",
    "from bokeh.plotting import show, figure\n",
    "output_notebook()\n",
    "import numpy as np\n",
    "import pandas as pd\n",
    "import astropy.units as u\n",
    "\n",
    "#cloud code\n",
    "import virga.justdoit as jdi\n",
    "import virga.justplotit as jpi\n"
   ]
  },
  {
   "cell_type": "markdown",
   "metadata": {},
   "source": [
    "Initial parameters we will keep fixed for the tutorial"
   ]
  },
  {
   "cell_type": "code",
   "execution_count": 2,
   "metadata": {
    "execution": {
     "iopub.execute_input": "2025-09-05T22:30:13.887766Z",
     "iopub.status.busy": "2025-09-05T22:30:13.887633Z",
     "iopub.status.idle": "2025-09-05T22:30:13.889417Z",
     "shell.execute_reply": "2025-09-05T22:30:13.889187Z"
    }
   },
   "outputs": [],
   "source": [
    "mieff_directory =  '/Users/nbatalh1/Documents/data/virga'\n",
    "fsed = 0.3\n",
    "metallicity = 1 #atmospheric metallicity relative to Solar\n",
    "mean_molecular_weight = 2.2 # atmospheric mean molecular weight"
   ]
  },
  {
   "cell_type": "markdown",
   "metadata": {},
   "source": [
    "## Toy Model: Supply Constant K$_z$"
   ]
  },
  {
   "cell_type": "code",
   "execution_count": 3,
   "metadata": {
    "execution": {
     "iopub.execute_input": "2025-09-05T22:30:13.890520Z",
     "iopub.status.busy": "2025-09-05T22:30:13.890440Z",
     "iopub.status.idle": "2025-09-05T22:30:13.892412Z",
     "shell.execute_reply": "2025-09-05T22:30:13.892165Z"
    }
   },
   "outputs": [],
   "source": [
    "sum_planet = jdi.Atmosphere(['KCl', 'MgSiO3'],fsed=fsed,mh=metallicity,\n",
    "                 mmw = mean_molecular_weight)\n",
    "sum_planet.gravity(gravity=100.00, gravity_unit=u.Unit('m/(s**2)'))"
   ]
  },
  {
   "cell_type": "code",
   "execution_count": 4,
   "metadata": {
    "execution": {
     "iopub.execute_input": "2025-09-05T22:30:13.893499Z",
     "iopub.status.busy": "2025-09-05T22:30:13.893409Z",
     "iopub.status.idle": "2025-09-05T22:30:13.900529Z",
     "shell.execute_reply": "2025-09-05T22:30:13.900233Z"
    }
   },
   "outputs": [],
   "source": [
    "constant_kz = 1e10\n",
    "df = jdi.brown_dwarf()\n",
    "sum_planet.ptk(df = df.loc[:,['pressure','temperature']],constant_kz = constant_kz) "
   ]
  },
  {
   "cell_type": "code",
   "execution_count": 5,
   "metadata": {
    "execution": {
     "iopub.execute_input": "2025-09-05T22:30:13.901568Z",
     "iopub.status.busy": "2025-09-05T22:30:13.901479Z",
     "iopub.status.idle": "2025-09-05T22:30:15.173245Z",
     "shell.execute_reply": "2025-09-05T22:30:15.173006Z"
    }
   },
   "outputs": [],
   "source": [
    "out_constant = sum_planet.compute(as_dict=True, \n",
    "                               directory=mieff_directory)"
   ]
  },
  {
   "cell_type": "markdown",
   "metadata": {},
   "source": [
    "## Informed: Compute K$_z$ from convective heat flux \n",
    "\n",
    "The convective heat flux is supplied through an external radiative transfer model which partitions the transport of interior heat between radiative and convective fluxes. As an example, we will upload one from the Sonora Grid that has a column `chf` which stands for \"Convective Heat Flux\" in units of `ergs/cm2/s`"
   ]
  },
  {
   "cell_type": "code",
   "execution_count": 6,
   "metadata": {
    "execution": {
     "iopub.execute_input": "2025-09-05T22:30:15.174546Z",
     "iopub.status.busy": "2025-09-05T22:30:15.174459Z",
     "iopub.status.idle": "2025-09-05T22:30:16.458942Z",
     "shell.execute_reply": "2025-09-05T22:30:16.458607Z"
    }
   },
   "outputs": [],
   "source": [
    "df = jdi.brown_dwarf()\n",
    "sum_planet = jdi.Atmosphere(['MgSiO3','KCl'],fsed=fsed,mh=metallicity,\n",
    "                 mmw = mean_molecular_weight)\n",
    "sum_planet.gravity(gravity=100.00, gravity_unit=u.Unit('m/(s**2)'))\n",
    "sum_planet.ptk(df=df)\n",
    "out_chf = sum_planet.compute(as_dict=True, \n",
    "                               directory=mieff_directory)"
   ]
  },
  {
   "cell_type": "markdown",
   "metadata": {},
   "source": [
    "### Turn on correction for latent heat"
   ]
  },
  {
   "cell_type": "code",
   "execution_count": 7,
   "metadata": {
    "execution": {
     "iopub.execute_input": "2025-09-05T22:30:16.460443Z",
     "iopub.status.busy": "2025-09-05T22:30:16.460352Z",
     "iopub.status.idle": "2025-09-05T22:30:17.765480Z",
     "shell.execute_reply": "2025-09-05T22:30:17.765151Z"
    }
   },
   "outputs": [],
   "source": [
    "sum_planet = jdi.Atmosphere(['MgSiO3','KCl'],fsed=fsed,mh=metallicity,\n",
    "                 mmw = mean_molecular_weight)\n",
    "sum_planet.gravity(gravity=100.00, gravity_unit=u.Unit('m/(s**2)'))\n",
    "sum_planet.ptk(df = df, latent_heat=True)\n",
    "out_latent = sum_planet.compute(as_dict=True, \n",
    "                               directory=mieff_directory)"
   ]
  },
  {
   "cell_type": "markdown",
   "metadata": {},
   "source": [
    "### Turn on correction for latent heat & convective overshoot"
   ]
  },
  {
   "cell_type": "code",
   "execution_count": 8,
   "metadata": {
    "execution": {
     "iopub.execute_input": "2025-09-05T22:30:17.767197Z",
     "iopub.status.busy": "2025-09-05T22:30:17.767083Z",
     "iopub.status.idle": "2025-09-05T22:30:19.056397Z",
     "shell.execute_reply": "2025-09-05T22:30:19.056097Z"
    }
   },
   "outputs": [],
   "source": [
    "sum_planet = jdi.Atmosphere(['MgSiO3','KCl'],fsed=fsed,mh=metallicity,\n",
    "                 mmw = mean_molecular_weight)\n",
    "sum_planet.gravity(gravity=100.00, gravity_unit=u.Unit('m/(s**2)'))\n",
    "sum_planet.ptk(df = df, latent_heat=True, convective_overshoot=1/3.)\n",
    "out_latent_cos = sum_planet.compute(as_dict=True, \n",
    "                               directory=mieff_directory)"
   ]
  },
  {
   "cell_type": "markdown",
   "metadata": {},
   "source": [
    "## Analyze different $K_z$ formalism via convective heat flux"
   ]
  },
  {
   "cell_type": "code",
   "execution_count": 9,
   "metadata": {
    "execution": {
     "iopub.execute_input": "2025-09-05T22:30:19.057872Z",
     "iopub.status.busy": "2025-09-05T22:30:19.057777Z",
     "iopub.status.idle": "2025-09-05T22:30:19.085251Z",
     "shell.execute_reply": "2025-09-05T22:30:19.085029Z"
    }
   },
   "outputs": [
    {
     "data": {
      "text/html": [
       "\n",
       "  <div id=\"f7adf375-9a79-4e28-956d-4d9208f5c721\" data-root-id=\"p1001\" style=\"display: contents;\"></div>\n"
      ]
     },
     "metadata": {},
     "output_type": "display_data"
    },
    {
     "data": {
      "application/javascript": [
       "(function(root) {\n",
       "  function embed_document(root) {\n",
       "  const docs_json = {\"fd0902d2-79fe-465b-acc7-53e244a6509a\":{\"version\":\"3.4.3\",\"title\":\"Bokeh Application\",\"roots\":[{\"type\":\"object\",\"name\":\"Figure\",\"id\":\"p1001\",\"attributes\":{\"height\":250,\"x_range\":{\"type\":\"object\",\"name\":\"Range1d\",\"id\":\"p1010\",\"attributes\":{\"start\":100000000.0,\"end\":500000000000.0}},\"y_range\":{\"type\":\"object\",\"name\":\"Range1d\",\"id\":\"p1011\",\"attributes\":{\"start\":100.0,\"end\":1e-06}},\"x_scale\":{\"type\":\"object\",\"name\":\"LogScale\",\"id\":\"p1012\"},\"y_scale\":{\"type\":\"object\",\"name\":\"LogScale\",\"id\":\"p1013\"},\"title\":{\"type\":\"object\",\"name\":\"Title\",\"id\":\"p1008\"},\"renderers\":[{\"type\":\"object\",\"name\":\"GlyphRenderer\",\"id\":\"p1041\",\"attributes\":{\"data_source\":{\"type\":\"object\",\"name\":\"ColumnDataSource\",\"id\":\"p1035\",\"attributes\":{\"selected\":{\"type\":\"object\",\"name\":\"Selection\",\"id\":\"p1036\",\"attributes\":{\"indices\":[],\"line_indices\":[]}},\"selection_policy\":{\"type\":\"object\",\"name\":\"UnionRenderers\",\"id\":\"p1037\"},\"data\":{\"type\":\"map\",\"entries\":[[\"x\",{\"type\":\"ndarray\",\"array\":{\"type\":\"bytes\",\"data\":\"AAAAIF+gAkIAAAAgX6ACQgAAACBfoAJCAAAAIF+gAkIAAAAgX6ACQgAAACBfoAJCAAAAIF+gAkIAAAAgX6ACQgAAACBfoAJCAAAAIF+gAkIAAAAgX6ACQgAAACBfoAJCAAAAIF+gAkIAAAAgX6ACQgAAACBfoAJCAAAAIF+gAkIAAAAgX6ACQgAAACBfoAJCAAAAIF+gAkIAAAAgX6ACQgAAACBfoAJCAAAAIF+gAkIAAAAgX6ACQgAAACBfoAJCAAAAIF+gAkIAAAAgX6ACQgAAACBfoAJCAAAAIF+gAkIAAAAgX6ACQgAAACBfoAJCAAAAIF+gAkIAAAAgX6ACQgAAACBfoAJCAAAAIF+gAkIAAAAgX6ACQgAAACBfoAJCAAAAIF+gAkIAAAAgX6ACQgAAACBfoAJCAAAAIF+gAkIAAAAgX6ACQgAAACBfoAJCAAAAIF+gAkIAAAAgX6ACQgAAACBfoAJCAAAAIF+gAkIAAAAgX6ACQgAAACBfoAJCAAAAIF+gAkIAAAAgX6ACQgAAACBfoAJCAAAAIF+gAkIAAAAgX6ACQgAAACBfoAJCAAAAIF+gAkIAAAAgX6ACQgAAACBfoAJCAAAAIF+gAkIAAAAgX6ACQgAAACBfoAJCAAAAIF+gAkIAAAAgX6ACQgAAACBfoAJCAAAAIF+gAkIAAAAgX6ACQgAAACBfoAJCAAAAIF+gAkIAAAAgX6ACQgAAACBfoAJCAAAAIF+gAkIAAAAgX6ACQgAAACBfoAJCAAAAIF+gAkIAAAAgX6ACQgAAACBfoAJCAAAAIF+gAkIAAAAgX6ACQgAAACBfoAJCAAAAIF+gAkIAAAAgX6ACQgAAACBfoAJCAAAAIF+gAkIAAAAgX6ACQgAAACBfoAJCAAAAIF+gAkIAAAAgX6ACQgAAACBfoAJCAAAAIF+gAkIAAAAgX6ACQgAAACBfoAJC\"},\"shape\":[90],\"dtype\":\"float64\",\"order\":\"little\"}],[\"y\",{\"type\":\"ndarray\",\"array\":{\"type\":\"bytes\",\"data\":\"0dYce1EWKT+ZaVYRyessP/lahu5IqzA/k7quqT02Mz/ZhwZzBSU2P+7MBMO5hjk/vz9KkSFsPT/a4a/JGvVAPwL0+/7Ni0M/oB+hwQGIRj/YbhaKz/hJP3ttkQ/V700/en/NgwVBUT8vRD0zd+NTP6uYSj/h7FY/ficcMP5sWj9v57Ec13VeP/JdSl0yjmE/MtXdhmI8ZD/EIitkU1NnP60mPi314mo/ZN3TMNf9bj9DfSZWodxxP4ncwqnFlnQ/BqYudIC7dz9V10bhH1t7P2Wire9oiH8/1x5R/HMsgj9MQtjfyPKEPzyxPWmXJYg/aUVAKmrViz/WU6uvrgqQP7Y8xWC0fZI/Kq0a33JQlT9eSl0yjpGYP/RqJRneUZw/T5ph/mVSoD/cWQV7XdCiP3V2jfG8r6U/bXGNz2T/qD+Z9PdSeNCsPx1jOOhcm7A/e9tMhXgksz+Jbqx6rxC2P5qLCXskb7k/ZFkw8UdRvT/yVCwjmuXAP9adOMoLesM//sQSIFRzxj8s8uuH2ODJP53y6EZY1M0/Ekza+SMx0T+dR8X/HdHTP4ggvZex19Y/E6tQ7ohU2j9AQK1YslneP63tNyT/feE/ecK3VbUp5D/eoRekzz3nP+BrY0c+yuo/IxQAiGDh7j8KFuLsMczxP1CavLfYg/Q/8E4+Pbal9z/6fg8DAkL7P+wX7IZta/8/kL8PYsIbAkBdXsoKj98EQLw3K0dtDwhAC2t0GN27C0DlNPqH4/cPQLXu1X22bBJAyIkbXN88FUDBSvTo/HoYQH96fffYNxxA73eDw2ZDIEDAhMCAFL8iQKeIHdfQmyVAvWU9a23oKECz8iYa/7UsQEasDzUbjDBAx9nPveISM0DPOMPDavw1QPkboyvHVzlAqD5GL1k2PUDGzsqsFNZAQIdZw6AnaENAyKe2irReRkC7KeW1EslJQN50yw7xuE1A\"},\"shape\":[90],\"dtype\":\"float64\",\"order\":\"little\"}]]}}},\"view\":{\"type\":\"object\",\"name\":\"CDSView\",\"id\":\"p1042\",\"attributes\":{\"filter\":{\"type\":\"object\",\"name\":\"AllIndices\",\"id\":\"p1043\"}}},\"glyph\":{\"type\":\"object\",\"name\":\"Line\",\"id\":\"p1038\",\"attributes\":{\"x\":{\"type\":\"field\",\"field\":\"x\"},\"y\":{\"type\":\"field\",\"field\":\"y\"},\"line_color\":\"#0072B2\",\"line_width\":3}},\"nonselection_glyph\":{\"type\":\"object\",\"name\":\"Line\",\"id\":\"p1039\",\"attributes\":{\"x\":{\"type\":\"field\",\"field\":\"x\"},\"y\":{\"type\":\"field\",\"field\":\"y\"},\"line_color\":\"#0072B2\",\"line_alpha\":0.1,\"line_width\":3}},\"muted_glyph\":{\"type\":\"object\",\"name\":\"Line\",\"id\":\"p1040\",\"attributes\":{\"x\":{\"type\":\"field\",\"field\":\"x\"},\"y\":{\"type\":\"field\",\"field\":\"y\"},\"line_color\":\"#0072B2\",\"line_alpha\":0.2,\"line_width\":3}}}},{\"type\":\"object\",\"name\":\"GlyphRenderer\",\"id\":\"p1052\",\"attributes\":{\"data_source\":{\"type\":\"object\",\"name\":\"ColumnDataSource\",\"id\":\"p1046\",\"attributes\":{\"selected\":{\"type\":\"object\",\"name\":\"Selection\",\"id\":\"p1047\",\"attributes\":{\"indices\":[],\"line_indices\":[]}},\"selection_policy\":{\"type\":\"object\",\"name\":\"UnionRenderers\",\"id\":\"p1048\"},\"data\":{\"type\":\"map\",\"entries\":[[\"x\",[4109382653.2047653,4097057987.5994196,3836047192.5216184,3623239778.7751474,3447900213.953578,3291333704.408774,3147875316.9202905,3014506773.9288526,2889983423.1786423,2773049541.426711,2662999917.03717,2559258396.6172175,2461119978.229147,2368060643.5131774,2279898766.706833,2196231015.1026554,2116648781.379874,2040835154.1142926,1968502616.5712514,1899367109.89534,1833304726.6186216,1770153419.920003,1709865616.1964195,1652348857.7222352,1597457519.7151859,1545204469.1479015,1495416616.5673518,1448136014.697525,1403221159.1914113,1360786051.151537,1320885843.1254041,1283441052.1811178,1248343775.565482,1215432387.0759401,1184579847.5874224,1155765686.9079962,1128940815.845938,1104150758.3986123,1081405556.6364307,1060571860.9245037,1041639308.0336094,1024510950.6737307,1009084153.0106957,995268599.4831467,983028375.2888185,972544824.0577109,963801920.3749794,956637192.7016867,951210513.3826773,947485003.4377254,944964246.2237132,943290164.5337231,942862432.4277976,943243535.7361217,943126208.0539484,941500474.2157167,938274791.6771212,933542574.7234038,927108769.6930054,919113270.5529807,909704348.3101907,898823712.9519875,886882096.8768426,874640381.38835,862601195.9611098,850890047.2504749,839570882.5238006,828630173.9051013,818138139.6868995,808563960.9653205,800499831.0610853,794719885.5725603,5160445420.647084,7355497937.0382185,8872277114.128876,10099006174.535234,10876797265.68899,11276562898.175196,11525168782.079332,11657421879.11674,11751351347.188131,11826886504.861694,11872821661.588943,11893443796.484482,11893438840.490345,11870107886.829363,11825348343.172867,11762353964.053343,11683658971.521633,11694267368.535051]],[\"y\",{\"type\":\"ndarray\",\"array\":{\"type\":\"bytes\",\"data\":\"0dYce1EWKT+ZaVYRyessP/lahu5IqzA/k7quqT02Mz/ZhwZzBSU2P+7MBMO5hjk/vz9KkSFsPT/a4a/JGvVAPwL0+/7Ni0M/oB+hwQGIRj/YbhaKz/hJP3ttkQ/V700/en/NgwVBUT8vRD0zd+NTP6uYSj/h7FY/ficcMP5sWj9v57Ec13VeP/JdSl0yjmE/MtXdhmI8ZD/EIitkU1NnP60mPi314mo/ZN3TMNf9bj9DfSZWodxxP4ncwqnFlnQ/BqYudIC7dz9V10bhH1t7P2Wire9oiH8/1x5R/HMsgj9MQtjfyPKEPzyxPWmXJYg/aUVAKmrViz/WU6uvrgqQP7Y8xWC0fZI/Kq0a33JQlT9eSl0yjpGYP/RqJRneUZw/T5ph/mVSoD/cWQV7XdCiP3V2jfG8r6U/bXGNz2T/qD+Z9PdSeNCsPx1jOOhcm7A/e9tMhXgksz+Jbqx6rxC2P5qLCXskb7k/ZFkw8UdRvT/yVCwjmuXAP9adOMoLesM//sQSIFRzxj8s8uuH2ODJP53y6EZY1M0/Ekza+SMx0T+dR8X/HdHTP4ggvZex19Y/E6tQ7ohU2j9AQK1YslneP63tNyT/feE/ecK3VbUp5D/eoRekzz3nP+BrY0c+yuo/IxQAiGDh7j8KFuLsMczxP1CavLfYg/Q/8E4+Pbal9z/6fg8DAkL7P+wX7IZta/8/kL8PYsIbAkBdXsoKj98EQLw3K0dtDwhAC2t0GN27C0DlNPqH4/cPQLXu1X22bBJAyIkbXN88FUDBSvTo/HoYQH96fffYNxxA73eDw2ZDIEDAhMCAFL8iQKeIHdfQmyVAvWU9a23oKECz8iYa/7UsQEasDzUbjDBAx9nPveISM0DPOMPDavw1QPkboyvHVzlAqD5GL1k2PUDGzsqsFNZAQIdZw6AnaENAyKe2irReRkC7KeW1EslJQN50yw7xuE1A\"},\"shape\":[90],\"dtype\":\"float64\",\"order\":\"little\"}]]}}},\"view\":{\"type\":\"object\",\"name\":\"CDSView\",\"id\":\"p1053\",\"attributes\":{\"filter\":{\"type\":\"object\",\"name\":\"AllIndices\",\"id\":\"p1054\"}}},\"glyph\":{\"type\":\"object\",\"name\":\"Line\",\"id\":\"p1049\",\"attributes\":{\"x\":{\"type\":\"field\",\"field\":\"x\"},\"y\":{\"type\":\"field\",\"field\":\"y\"},\"line_color\":\"#E69F00\",\"line_width\":3}},\"nonselection_glyph\":{\"type\":\"object\",\"name\":\"Line\",\"id\":\"p1050\",\"attributes\":{\"x\":{\"type\":\"field\",\"field\":\"x\"},\"y\":{\"type\":\"field\",\"field\":\"y\"},\"line_color\":\"#E69F00\",\"line_alpha\":0.1,\"line_width\":3}},\"muted_glyph\":{\"type\":\"object\",\"name\":\"Line\",\"id\":\"p1051\",\"attributes\":{\"x\":{\"type\":\"field\",\"field\":\"x\"},\"y\":{\"type\":\"field\",\"field\":\"y\"},\"line_color\":\"#E69F00\",\"line_alpha\":0.2,\"line_width\":3}}}},{\"type\":\"object\",\"name\":\"GlyphRenderer\",\"id\":\"p1062\",\"attributes\":{\"data_source\":{\"type\":\"object\",\"name\":\"ColumnDataSource\",\"id\":\"p1056\",\"attributes\":{\"selected\":{\"type\":\"object\",\"name\":\"Selection\",\"id\":\"p1057\",\"attributes\":{\"indices\":[],\"line_indices\":[]}},\"selection_policy\":{\"type\":\"object\",\"name\":\"UnionRenderers\",\"id\":\"p1058\"},\"data\":{\"type\":\"map\",\"entries\":[[\"x\",[190740646.361573,190168586.05905515,224019975.2554764,247449900.5753063,264148370.08526865,281733265.3812326,296679031.95963055,306946818.160308,318436819.91370255,324640673.4388269,330612823.6617093,335107249.84053594,334494099.4358174,335503809.89768946,334848338.9078242,332767167.5557203,326652229.415029,321272536.62260985,315011628.516116,306277494.9869717,300917182.5467758,296082035.9737554,292700872.05592304,290489028.1587998,289261763.316806,289614247.02429926,291320904.1522852,294910746.8416886,298291500.31895226,309458267.7428919,320517761.62565255,332523212.47331095,344332889.1253855,355857495.5599826,368051358.34318095,380851565.18214166,396915153.3731835,416393800.0278709,435402891.1325293,455627512.8802576,477333629.9656513,498648418.65090054,519915689.272396,541046186.5345817,565008711.3883802,596407962.8045616,625039057.8029948,652064860.2278464,691811363.5659353,723058448.5116217,741641781.4047301,759764064.2649935,797170969.1975346,800484003.7628317,773619675.9612343,729491282.0430192,694159852.2710736,653511007.8585091,609427534.6451946,571050067.0720357,533244060.56229997,491269450.71243536,468359859.03060806,458912842.226904,455856811.3910694,453991488.1964386,452694073.14866865,451714945.1598401,453945245.9981958,472013237.01098746,503158719.1030165,556214808.7745475,4515841054.215217,6616388070.170545,7888039933.738384,8833807846.457722,9372646317.339853,9576798442.70995,9569207222.369335,9472483037.912376,9357222175.275206,9159413082.057804,8912222146.259476,8680823403.664587,8439945031.076667,8104432795.853662,7796091159.977558,7503783091.817146,7219105440.681245,6977489605.677495]],[\"y\",{\"type\":\"ndarray\",\"array\":{\"type\":\"bytes\",\"data\":\"0dYce1EWKT+ZaVYRyessP/lahu5IqzA/k7quqT02Mz/ZhwZzBSU2P+7MBMO5hjk/vz9KkSFsPT/a4a/JGvVAPwL0+/7Ni0M/oB+hwQGIRj/YbhaKz/hJP3ttkQ/V700/en/NgwVBUT8vRD0zd+NTP6uYSj/h7FY/ficcMP5sWj9v57Ec13VeP/JdSl0yjmE/MtXdhmI8ZD/EIitkU1NnP60mPi314mo/ZN3TMNf9bj9DfSZWodxxP4ncwqnFlnQ/BqYudIC7dz9V10bhH1t7P2Wire9oiH8/1x5R/HMsgj9MQtjfyPKEPzyxPWmXJYg/aUVAKmrViz/WU6uvrgqQP7Y8xWC0fZI/Kq0a33JQlT9eSl0yjpGYP/RqJRneUZw/T5ph/mVSoD/cWQV7XdCiP3V2jfG8r6U/bXGNz2T/qD+Z9PdSeNCsPx1jOOhcm7A/e9tMhXgksz+Jbqx6rxC2P5qLCXskb7k/ZFkw8UdRvT/yVCwjmuXAP9adOMoLesM//sQSIFRzxj8s8uuH2ODJP53y6EZY1M0/Ekza+SMx0T+dR8X/HdHTP4ggvZex19Y/E6tQ7ohU2j9AQK1YslneP63tNyT/feE/ecK3VbUp5D/eoRekzz3nP+BrY0c+yuo/IxQAiGDh7j8KFuLsMczxP1CavLfYg/Q/8E4+Pbal9z/6fg8DAkL7P+wX7IZta/8/kL8PYsIbAkBdXsoKj98EQLw3K0dtDwhAC2t0GN27C0DlNPqH4/cPQLXu1X22bBJAyIkbXN88FUDBSvTo/HoYQH96fffYNxxA73eDw2ZDIEDAhMCAFL8iQKeIHdfQmyVAvWU9a23oKECz8iYa/7UsQEasDzUbjDBAx9nPveISM0DPOMPDavw1QPkboyvHVzlAqD5GL1k2PUDGzsqsFNZAQIdZw6AnaENAyKe2irReRkC7KeW1EslJQN50yw7xuE1A\"},\"shape\":[90],\"dtype\":\"float64\",\"order\":\"little\"}]]}}},\"view\":{\"type\":\"object\",\"name\":\"CDSView\",\"id\":\"p1063\",\"attributes\":{\"filter\":{\"type\":\"object\",\"name\":\"AllIndices\",\"id\":\"p1064\"}}},\"glyph\":{\"type\":\"object\",\"name\":\"Line\",\"id\":\"p1059\",\"attributes\":{\"x\":{\"type\":\"field\",\"field\":\"x\"},\"y\":{\"type\":\"field\",\"field\":\"y\"},\"line_color\":\"#F0E442\",\"line_width\":3}},\"nonselection_glyph\":{\"type\":\"object\",\"name\":\"Line\",\"id\":\"p1060\",\"attributes\":{\"x\":{\"type\":\"field\",\"field\":\"x\"},\"y\":{\"type\":\"field\",\"field\":\"y\"},\"line_color\":\"#F0E442\",\"line_alpha\":0.1,\"line_width\":3}},\"muted_glyph\":{\"type\":\"object\",\"name\":\"Line\",\"id\":\"p1061\",\"attributes\":{\"x\":{\"type\":\"field\",\"field\":\"x\"},\"y\":{\"type\":\"field\",\"field\":\"y\"},\"line_color\":\"#F0E442\",\"line_alpha\":0.2,\"line_width\":3}}}},{\"type\":\"object\",\"name\":\"GlyphRenderer\",\"id\":\"p1072\",\"attributes\":{\"data_source\":{\"type\":\"object\",\"name\":\"ColumnDataSource\",\"id\":\"p1066\",\"attributes\":{\"selected\":{\"type\":\"object\",\"name\":\"Selection\",\"id\":\"p1067\",\"attributes\":{\"indices\":[],\"line_indices\":[]}},\"selection_policy\":{\"type\":\"object\",\"name\":\"UnionRenderers\",\"id\":\"p1068\"},\"data\":{\"type\":\"map\",\"entries\":[[\"x\",[190740646.361573,190168586.05905515,224019975.2554764,247449900.5753063,264148370.08526865,281733265.3812326,296679031.95963055,306946818.160308,318436819.91370255,324640673.4388269,330612823.6617093,335107249.84053594,334494099.4358174,335503809.89768946,334848338.9078242,332767167.5557203,326652229.415029,321272536.62260985,315011628.516116,306277494.9869717,300917182.5467758,296082035.9737554,292700872.05592304,290489028.1587998,289261763.316806,289614247.02429926,291320904.1522852,294910746.8416886,298291500.31895226,309458267.7428919,320517761.62565255,332523212.47331095,344332889.1253855,355857495.5599826,368051358.34318095,380851565.18214166,396915153.3731835,416393800.0278709,435402891.1325293,455627512.8802576,477333629.9656513,498648418.65090054,519915689.272396,541046186.5345817,565008711.3883802,596407962.8045616,625039057.8029948,652064860.2278464,691811363.5659353,723058448.5116217,741641781.4047301,759764064.2649935,797170969.1975346,800484003.7628317,773619675.9612343,729491282.0430192,694159852.2710736,653511007.8585091,609427534.6451946,571050067.0720357,533244060.56229997,491269450.71243536,468359859.03060806,458912842.226904,455856811.3910694,453991488.1964386,452694073.14866865,451714945.1598401,564972987.7625219,888301255.1148562,1431803829.2920144,2393018960.0592465,4515841054.215217,6616388070.170545,7888039933.738384,8833807846.457722,9372646317.339853,9576798442.70995,9569207222.369335,9472483037.912376,9357222175.275206,9159413082.057804,8912222146.259476,8680823403.664587,8439945031.076667,8104432795.853662,7796091159.977558,7503783091.817146,7219105440.681245,6977489605.677495]],[\"y\",{\"type\":\"ndarray\",\"array\":{\"type\":\"bytes\",\"data\":\"0dYce1EWKT+ZaVYRyessP/lahu5IqzA/k7quqT02Mz/ZhwZzBSU2P+7MBMO5hjk/vz9KkSFsPT/a4a/JGvVAPwL0+/7Ni0M/oB+hwQGIRj/YbhaKz/hJP3ttkQ/V700/en/NgwVBUT8vRD0zd+NTP6uYSj/h7FY/ficcMP5sWj9v57Ec13VeP/JdSl0yjmE/MtXdhmI8ZD/EIitkU1NnP60mPi314mo/ZN3TMNf9bj9DfSZWodxxP4ncwqnFlnQ/BqYudIC7dz9V10bhH1t7P2Wire9oiH8/1x5R/HMsgj9MQtjfyPKEPzyxPWmXJYg/aUVAKmrViz/WU6uvrgqQP7Y8xWC0fZI/Kq0a33JQlT9eSl0yjpGYP/RqJRneUZw/T5ph/mVSoD/cWQV7XdCiP3V2jfG8r6U/bXGNz2T/qD+Z9PdSeNCsPx1jOOhcm7A/e9tMhXgksz+Jbqx6rxC2P5qLCXskb7k/ZFkw8UdRvT/yVCwjmuXAP9adOMoLesM//sQSIFRzxj8s8uuH2ODJP53y6EZY1M0/Ekza+SMx0T+dR8X/HdHTP4ggvZex19Y/E6tQ7ohU2j9AQK1YslneP63tNyT/feE/ecK3VbUp5D/eoRekzz3nP+BrY0c+yuo/IxQAiGDh7j8KFuLsMczxP1CavLfYg/Q/8E4+Pbal9z/6fg8DAkL7P+wX7IZta/8/kL8PYsIbAkBdXsoKj98EQLw3K0dtDwhAC2t0GN27C0DlNPqH4/cPQLXu1X22bBJAyIkbXN88FUDBSvTo/HoYQH96fffYNxxA73eDw2ZDIEDAhMCAFL8iQKeIHdfQmyVAvWU9a23oKECz8iYa/7UsQEasDzUbjDBAx9nPveISM0DPOMPDavw1QPkboyvHVzlAqD5GL1k2PUDGzsqsFNZAQIdZw6AnaENAyKe2irReRkC7KeW1EslJQN50yw7xuE1A\"},\"shape\":[90],\"dtype\":\"float64\",\"order\":\"little\"}]]}}},\"view\":{\"type\":\"object\",\"name\":\"CDSView\",\"id\":\"p1073\",\"attributes\":{\"filter\":{\"type\":\"object\",\"name\":\"AllIndices\",\"id\":\"p1074\"}}},\"glyph\":{\"type\":\"object\",\"name\":\"Line\",\"id\":\"p1069\",\"attributes\":{\"x\":{\"type\":\"field\",\"field\":\"x\"},\"y\":{\"type\":\"field\",\"field\":\"y\"},\"line_color\":\"#009E73\",\"line_width\":3}},\"nonselection_glyph\":{\"type\":\"object\",\"name\":\"Line\",\"id\":\"p1070\",\"attributes\":{\"x\":{\"type\":\"field\",\"field\":\"x\"},\"y\":{\"type\":\"field\",\"field\":\"y\"},\"line_color\":\"#009E73\",\"line_alpha\":0.1,\"line_width\":3}},\"muted_glyph\":{\"type\":\"object\",\"name\":\"Line\",\"id\":\"p1071\",\"attributes\":{\"x\":{\"type\":\"field\",\"field\":\"x\"},\"y\":{\"type\":\"field\",\"field\":\"y\"},\"line_color\":\"#009E73\",\"line_alpha\":0.2,\"line_width\":3}}}}],\"toolbar\":{\"type\":\"object\",\"name\":\"Toolbar\",\"id\":\"p1009\",\"attributes\":{\"tools\":[{\"type\":\"object\",\"name\":\"PanTool\",\"id\":\"p1024\"},{\"type\":\"object\",\"name\":\"WheelZoomTool\",\"id\":\"p1025\",\"attributes\":{\"renderers\":\"auto\"}},{\"type\":\"object\",\"name\":\"BoxZoomTool\",\"id\":\"p1026\",\"attributes\":{\"overlay\":{\"type\":\"object\",\"name\":\"BoxAnnotation\",\"id\":\"p1027\",\"attributes\":{\"syncable\":false,\"level\":\"overlay\",\"visible\":false,\"left\":{\"type\":\"number\",\"value\":\"nan\"},\"right\":{\"type\":\"number\",\"value\":\"nan\"},\"top\":{\"type\":\"number\",\"value\":\"nan\"},\"bottom\":{\"type\":\"number\",\"value\":\"nan\"},\"left_units\":\"canvas\",\"right_units\":\"canvas\",\"top_units\":\"canvas\",\"bottom_units\":\"canvas\",\"line_color\":\"black\",\"line_alpha\":1.0,\"line_width\":2,\"line_dash\":[4,4],\"fill_color\":\"lightgrey\",\"fill_alpha\":0.5}}}},{\"type\":\"object\",\"name\":\"SaveTool\",\"id\":\"p1032\"},{\"type\":\"object\",\"name\":\"ResetTool\",\"id\":\"p1033\"},{\"type\":\"object\",\"name\":\"HelpTool\",\"id\":\"p1034\"}]}},\"left\":[{\"type\":\"object\",\"name\":\"LogAxis\",\"id\":\"p1019\",\"attributes\":{\"ticker\":{\"type\":\"object\",\"name\":\"LogTicker\",\"id\":\"p1020\",\"attributes\":{\"num_minor_ticks\":10,\"mantissas\":[1,5]}},\"formatter\":{\"type\":\"object\",\"name\":\"LogTickFormatter\",\"id\":\"p1021\"},\"axis_label\":\"Pressure (bars)\",\"major_label_policy\":{\"type\":\"object\",\"name\":\"AllLabels\",\"id\":\"p1022\"}}}],\"below\":[{\"type\":\"object\",\"name\":\"LogAxis\",\"id\":\"p1014\",\"attributes\":{\"ticker\":{\"type\":\"object\",\"name\":\"LogTicker\",\"id\":\"p1015\",\"attributes\":{\"num_minor_ticks\":10,\"mantissas\":[1,5]}},\"formatter\":{\"type\":\"object\",\"name\":\"LogTickFormatter\",\"id\":\"p1016\"},\"axis_label\":\"Kz cm2/s\",\"major_label_policy\":{\"type\":\"object\",\"name\":\"AllLabels\",\"id\":\"p1017\"}}}],\"center\":[{\"type\":\"object\",\"name\":\"Grid\",\"id\":\"p1018\",\"attributes\":{\"axis\":{\"id\":\"p1014\"}}},{\"type\":\"object\",\"name\":\"Grid\",\"id\":\"p1023\",\"attributes\":{\"dimension\":1,\"axis\":{\"id\":\"p1019\"}}},{\"type\":\"object\",\"name\":\"Legend\",\"id\":\"p1044\",\"attributes\":{\"items\":[{\"type\":\"object\",\"name\":\"LegendItem\",\"id\":\"p1045\",\"attributes\":{\"label\":{\"type\":\"value\",\"value\":\"Constant\"},\"renderers\":[{\"id\":\"p1041\"}]}},{\"type\":\"object\",\"name\":\"LegendItem\",\"id\":\"p1055\",\"attributes\":{\"label\":{\"type\":\"value\",\"value\":\"CHF-Only\"},\"renderers\":[{\"id\":\"p1052\"}]}},{\"type\":\"object\",\"name\":\"LegendItem\",\"id\":\"p1065\",\"attributes\":{\"label\":{\"type\":\"value\",\"value\":\"CHF+Latent\"},\"renderers\":[{\"id\":\"p1062\"}]}},{\"type\":\"object\",\"name\":\"LegendItem\",\"id\":\"p1075\",\"attributes\":{\"label\":{\"type\":\"value\",\"value\":\"CFH+Latent+COS\"},\"renderers\":[{\"id\":\"p1072\"}]}}]}}]}}]}};\n",
       "  const render_items = [{\"docid\":\"fd0902d2-79fe-465b-acc7-53e244a6509a\",\"roots\":{\"p1001\":\"f7adf375-9a79-4e28-956d-4d9208f5c721\"},\"root_ids\":[\"p1001\"]}];\n",
       "  void root.Bokeh.embed.embed_items_notebook(docs_json, render_items);\n",
       "  }\n",
       "  if (root.Bokeh !== undefined) {\n",
       "    embed_document(root);\n",
       "  } else {\n",
       "    let attempts = 0;\n",
       "    const timer = setInterval(function(root) {\n",
       "      if (root.Bokeh !== undefined) {\n",
       "        clearInterval(timer);\n",
       "        embed_document(root);\n",
       "      } else {\n",
       "        attempts++;\n",
       "        if (attempts > 100) {\n",
       "          clearInterval(timer);\n",
       "          console.log(\"Bokeh: ERROR: Unable to run BokehJS code because BokehJS library is missing\");\n",
       "        }\n",
       "      }\n",
       "    }, 10, root)\n",
       "  }\n",
       "})(window);"
      ],
      "application/vnd.bokehjs_exec.v0+json": ""
     },
     "metadata": {
      "application/vnd.bokehjs_exec.v0+json": {
       "id": "p1001"
      }
     },
     "output_type": "display_data"
    }
   ],
   "source": [
    "legend = ['Constant','CHF-Only','CHF+Latent','CFH+Latent+COS']\n",
    "fig =jpi.pressure_fig(plot_height=250,x_axis_label='Kz cm2/s',x_axis_type='log',x_range=[1e8,5e11])\n",
    "for i,idf in enumerate([out_constant, out_chf, out_latent, out_latent_cos ]):\n",
    "    fig.line(idf['kz'],idf['pressure'],line_width=3,color=jpi.colpals.Colorblind8[i],legend_label=legend[i])\n",
    "show(fig)"
   ]
  },
  {
   "cell_type": "code",
   "execution_count": 10,
   "metadata": {
    "execution": {
     "iopub.execute_input": "2025-09-05T22:30:19.086417Z",
     "iopub.status.busy": "2025-09-05T22:30:19.086336Z",
     "iopub.status.idle": "2025-09-05T22:30:19.154037Z",
     "shell.execute_reply": "2025-09-05T22:30:19.153801Z"
    }
   },
   "outputs": [
    {
     "data": {
      "text/html": [
       "\n",
       "  <div id=\"b6c65e8b-f7eb-49fb-96ce-83680c72a493\" data-root-id=\"p1300\" style=\"display: contents;\"></div>\n"
      ]
     },
     "metadata": {},
     "output_type": "display_data"
    },
    {
     "data": {
      "application/javascript": [
       "(function(root) {\n",
       "  function embed_document(root) {\n",
       "  const docs_json = {\"7a937025-1b85-43f4-8add-67eb1f74ede0\":{\"version\":\"3.4.3\",\"title\":\"Bokeh Application\",\"roots\":[{\"type\":\"object\",\"name\":\"GridPlot\",\"id\":\"p1300\",\"attributes\":{\"rows\":null,\"cols\":null,\"toolbar\":{\"type\":\"object\",\"name\":\"Toolbar\",\"id\":\"p1299\",\"attributes\":{\"tools\":[{\"type\":\"object\",\"name\":\"ToolProxy\",\"id\":\"p1293\",\"attributes\":{\"tools\":[{\"type\":\"object\",\"name\":\"PanTool\",\"id\":\"p1169\"},{\"type\":\"object\",\"name\":\"PanTool\",\"id\":\"p1103\"},{\"type\":\"object\",\"name\":\"PanTool\",\"id\":\"p1136\"}]}},{\"type\":\"object\",\"name\":\"ToolProxy\",\"id\":\"p1294\",\"attributes\":{\"tools\":[{\"type\":\"object\",\"name\":\"WheelZoomTool\",\"id\":\"p1170\",\"attributes\":{\"renderers\":\"auto\"}},{\"type\":\"object\",\"name\":\"WheelZoomTool\",\"id\":\"p1104\",\"attributes\":{\"renderers\":\"auto\"}},{\"type\":\"object\",\"name\":\"WheelZoomTool\",\"id\":\"p1137\",\"attributes\":{\"renderers\":\"auto\"}}]}},{\"type\":\"object\",\"name\":\"ToolProxy\",\"id\":\"p1295\",\"attributes\":{\"tools\":[{\"type\":\"object\",\"name\":\"BoxZoomTool\",\"id\":\"p1171\",\"attributes\":{\"overlay\":{\"type\":\"object\",\"name\":\"BoxAnnotation\",\"id\":\"p1172\",\"attributes\":{\"syncable\":false,\"level\":\"overlay\",\"visible\":false,\"left\":{\"type\":\"number\",\"value\":\"nan\"},\"right\":{\"type\":\"number\",\"value\":\"nan\"},\"top\":{\"type\":\"number\",\"value\":\"nan\"},\"bottom\":{\"type\":\"number\",\"value\":\"nan\"},\"left_units\":\"canvas\",\"right_units\":\"canvas\",\"top_units\":\"canvas\",\"bottom_units\":\"canvas\",\"line_color\":\"black\",\"line_alpha\":1.0,\"line_width\":2,\"line_dash\":[4,4],\"fill_color\":\"lightgrey\",\"fill_alpha\":0.5}}}},{\"type\":\"object\",\"name\":\"BoxZoomTool\",\"id\":\"p1105\",\"attributes\":{\"overlay\":{\"type\":\"object\",\"name\":\"BoxAnnotation\",\"id\":\"p1106\",\"attributes\":{\"syncable\":false,\"level\":\"overlay\",\"visible\":false,\"left\":{\"type\":\"number\",\"value\":\"nan\"},\"right\":{\"type\":\"number\",\"value\":\"nan\"},\"top\":{\"type\":\"number\",\"value\":\"nan\"},\"bottom\":{\"type\":\"number\",\"value\":\"nan\"},\"left_units\":\"canvas\",\"right_units\":\"canvas\",\"top_units\":\"canvas\",\"bottom_units\":\"canvas\",\"line_color\":\"black\",\"line_alpha\":1.0,\"line_width\":2,\"line_dash\":[4,4],\"fill_color\":\"lightgrey\",\"fill_alpha\":0.5}}}},{\"type\":\"object\",\"name\":\"BoxZoomTool\",\"id\":\"p1138\",\"attributes\":{\"overlay\":{\"type\":\"object\",\"name\":\"BoxAnnotation\",\"id\":\"p1139\",\"attributes\":{\"syncable\":false,\"level\":\"overlay\",\"visible\":false,\"left\":{\"type\":\"number\",\"value\":\"nan\"},\"right\":{\"type\":\"number\",\"value\":\"nan\"},\"top\":{\"type\":\"number\",\"value\":\"nan\"},\"bottom\":{\"type\":\"number\",\"value\":\"nan\"},\"left_units\":\"canvas\",\"right_units\":\"canvas\",\"top_units\":\"canvas\",\"bottom_units\":\"canvas\",\"line_color\":\"black\",\"line_alpha\":1.0,\"line_width\":2,\"line_dash\":[4,4],\"fill_color\":\"lightgrey\",\"fill_alpha\":0.5}}}}]}},{\"type\":\"object\",\"name\":\"SaveTool\",\"id\":\"p1296\"},{\"type\":\"object\",\"name\":\"ToolProxy\",\"id\":\"p1297\",\"attributes\":{\"tools\":[{\"type\":\"object\",\"name\":\"ResetTool\",\"id\":\"p1178\"},{\"type\":\"object\",\"name\":\"ResetTool\",\"id\":\"p1112\"},{\"type\":\"object\",\"name\":\"ResetTool\",\"id\":\"p1145\"}]}},{\"type\":\"object\",\"name\":\"ToolProxy\",\"id\":\"p1298\",\"attributes\":{\"tools\":[{\"type\":\"object\",\"name\":\"HelpTool\",\"id\":\"p1179\"},{\"type\":\"object\",\"name\":\"HelpTool\",\"id\":\"p1113\"},{\"type\":\"object\",\"name\":\"HelpTool\",\"id\":\"p1146\"}]}}]}},\"children\":[[{\"type\":\"object\",\"name\":\"Figure\",\"id\":\"p1147\",\"attributes\":{\"width\":300,\"height\":300,\"x_range\":{\"type\":\"object\",\"name\":\"DataRange1d\",\"id\":\"p1149\"},\"y_range\":{\"type\":\"object\",\"name\":\"Range1d\",\"id\":\"p1156\",\"attributes\":{\"start\":59.4448565,\"end\":0.00019140000000000002}},\"x_scale\":{\"type\":\"object\",\"name\":\"LogScale\",\"id\":\"p1157\"},\"y_scale\":{\"type\":\"object\",\"name\":\"LogScale\",\"id\":\"p1158\"},\"title\":{\"type\":\"object\",\"name\":\"Title\",\"id\":\"p1154\"},\"renderers\":[{\"type\":\"object\",\"name\":\"GlyphRenderer\",\"id\":\"p1186\",\"attributes\":{\"data_source\":{\"type\":\"object\",\"name\":\"ColumnDataSource\",\"id\":\"p1180\",\"attributes\":{\"selected\":{\"type\":\"object\",\"name\":\"Selection\",\"id\":\"p1181\",\"attributes\":{\"indices\":[],\"line_indices\":[]}},\"selection_policy\":{\"type\":\"object\",\"name\":\"UnionRenderers\",\"id\":\"p1182\"},\"data\":{\"type\":\"map\",\"entries\":[[\"x\",{\"type\":\"ndarray\",\"array\":{\"type\":\"bytes\",\"data\":\"mjO6xryGSD/ccEzBuCJJP8917/NL40k/90uHGDanSj9p3NLse65LP3BO1+mNqEw/Zh3D9dvYTT/HgTCMihtPP7STDq2SRlA/I5IiXEqBUT+7oefDVZBTP5RE1YA8rlQ/SQYplE3xVT8v4jTgRGJXPzqZ9lF4Dlk/mXNuq+wCWz+t8ObUz1FdP6QWhTCACWA/wXQrXyuvYT8fOtPMWqljP2rrHaYxCWY/LHLaVWTlaD9qyreE9FFsPzTZakxrNXA/IdgyauCocj/KyxO52JR1P3m+/TKKEHk/40l3CUQ0fT/DKUamehGBPxut39/C/4M/cWo6ojt9hz/BlfKvXKSLPzQAjt8eS5A/ynXzn/k8kz8pIAq6yr+WP4HQh5DV7po/+vCbfBftnz9QHXwcTvGiP/LaV/i0gKY/BE/Z9FXBqj+sPzSW/9WvP+cPBfa887I/GjQ2HQeRtj+XfIPV1Nm6P08xOnv53L8/7MejkRHUwj+n3p2ZIXnGP9n56NCQ5Mo/ItIstooa0D+Y2Sa+OU3TPz4v1G3nJdc/X729zuzF2z+ceXB4sqvgP/FFDsF1BeQ/vVvz4gIL6D99m68tz9vsP6GP03GHT/E/2d6BgoXB9D9AA7YNT9/4P1cQR5xUyf0/2DIxUQPTAUDvrpkGb1EFQLRfUyUCewlAxL6pcSlyDkCIpVQY3S4SQCifQyYUtRVAg6McWTfgGUDg0j0ROLseQJ4eP6tVEiJAK03kQyewJEAsyLG4bsAlQCQDuQz14x5AuTXHo1226D+5NcejXbbYP8j3OLYXxbM/AAAAAAAAAAAAAAAAAAAAAAAAAAAAAAAAAAAAAAAAAAAAAAAAAAAAAAAAAAAAAAAAAAAAAAAAAAAAAAAAAAAAAAAAAAAAAAAAAAAAAAAAAAAAAAAAAAAAAAAAAAAAAAAAAAAAAAAAAAAAAAAAAAAAAAAAAAAAAAAA\"},\"shape\":[90],\"dtype\":\"float64\",\"order\":\"little\"}],[\"y\",{\"type\":\"ndarray\",\"array\":{\"type\":\"bytes\",\"data\":\"0dYce1EWKT+ZaVYRyessP/lahu5IqzA/k7quqT02Mz/ZhwZzBSU2P+7MBMO5hjk/vz9KkSFsPT/a4a/JGvVAPwL0+/7Ni0M/oB+hwQGIRj/YbhaKz/hJP3ttkQ/V700/en/NgwVBUT8vRD0zd+NTP6uYSj/h7FY/ficcMP5sWj9v57Ec13VeP/JdSl0yjmE/MtXdhmI8ZD/EIitkU1NnP60mPi314mo/ZN3TMNf9bj9DfSZWodxxP4ncwqnFlnQ/BqYudIC7dz9V10bhH1t7P2Wire9oiH8/1x5R/HMsgj9MQtjfyPKEPzyxPWmXJYg/aUVAKmrViz/WU6uvrgqQP7Y8xWC0fZI/Kq0a33JQlT9eSl0yjpGYP/RqJRneUZw/T5ph/mVSoD/cWQV7XdCiP3V2jfG8r6U/bXGNz2T/qD+Z9PdSeNCsPx1jOOhcm7A/e9tMhXgksz+Jbqx6rxC2P5qLCXskb7k/ZFkw8UdRvT/yVCwjmuXAP9adOMoLesM//sQSIFRzxj8s8uuH2ODJP53y6EZY1M0/Ekza+SMx0T+dR8X/HdHTP4ggvZex19Y/E6tQ7ohU2j9AQK1YslneP63tNyT/feE/ecK3VbUp5D/eoRekzz3nP+BrY0c+yuo/IxQAiGDh7j8KFuLsMczxP1CavLfYg/Q/8E4+Pbal9z/6fg8DAkL7P+wX7IZta/8/kL8PYsIbAkBdXsoKj98EQLw3K0dtDwhAC2t0GN27C0DlNPqH4/cPQLXu1X22bBJAyIkbXN88FUDBSvTo/HoYQH96fffYNxxA73eDw2ZDIEDAhMCAFL8iQKeIHdfQmyVAvWU9a23oKECz8iYa/7UsQEasDzUbjDBAx9nPveISM0DPOMPDavw1QPkboyvHVzlAqD5GL1k2PUDGzsqsFNZAQIdZw6AnaENAyKe2irReRkC7KeW1EslJQN50yw7xuE1A\"},\"shape\":[90],\"dtype\":\"float64\",\"order\":\"little\"}]]}}},\"view\":{\"type\":\"object\",\"name\":\"CDSView\",\"id\":\"p1187\",\"attributes\":{\"filter\":{\"type\":\"object\",\"name\":\"AllIndices\",\"id\":\"p1188\"}}},\"glyph\":{\"type\":\"object\",\"name\":\"Line\",\"id\":\"p1183\",\"attributes\":{\"x\":{\"type\":\"field\",\"field\":\"x\"},\"y\":{\"type\":\"field\",\"field\":\"y\"},\"line_color\":\"#0072B2\",\"line_width\":3}},\"nonselection_glyph\":{\"type\":\"object\",\"name\":\"Line\",\"id\":\"p1184\",\"attributes\":{\"x\":{\"type\":\"field\",\"field\":\"x\"},\"y\":{\"type\":\"field\",\"field\":\"y\"},\"line_color\":\"#0072B2\",\"line_alpha\":0.1,\"line_width\":3}},\"muted_glyph\":{\"type\":\"object\",\"name\":\"Line\",\"id\":\"p1185\",\"attributes\":{\"x\":{\"type\":\"field\",\"field\":\"x\"},\"y\":{\"type\":\"field\",\"field\":\"y\"},\"line_color\":\"#0072B2\",\"line_alpha\":0.2,\"line_width\":3}}}},{\"type\":\"object\",\"name\":\"GlyphRenderer\",\"id\":\"p1215\",\"attributes\":{\"data_source\":{\"type\":\"object\",\"name\":\"ColumnDataSource\",\"id\":\"p1209\",\"attributes\":{\"selected\":{\"type\":\"object\",\"name\":\"Selection\",\"id\":\"p1210\",\"attributes\":{\"indices\":[],\"line_indices\":[]}},\"selection_policy\":{\"type\":\"object\",\"name\":\"UnionRenderers\",\"id\":\"p1211\"},\"data\":{\"type\":\"map\",\"entries\":[[\"x\",{\"type\":\"ndarray\",\"array\":{\"type\":\"bytes\",\"data\":\"hLb21sQVYD+FA2KPXf5gP+R6/xW3D2M/MBdowZsYZT//xE3JvUNnP+kssVc4Ymk/V60pNGGzaz9/36Jxoh5uP4qf6o5AWnA/wvl8x8DBcT8hDIqzgTxzPzkKWvnl3HQ/WXV+k86fdj8Pgn2UfJZ4PyaXtCKpsHo/b2oriehffz/eSWNREFaBPwUISPaG+4I/r4kMalzXhD9+RfLpIPWGP5m0cuiJYYk/RPv3eAAxjD+tgs9rpXSPP5gPFnQzpJE/eb2ds6bnkz9HHDyHMpeWP2dciFZmzJk/zEvLE9uhnT9pQ0/3Ax+hP49Wc9pg46M/pos3yfY3pz+WyHVOMjmrPzWPMrVXBbA/8F9lSkbrsj9aI4VVbGi2P6CKFUv9mbo/mvw3p6Clvz83ge9V5trCP+0LCnnWf8Y/Wapzwk/gyj/xpHDvqhDQPw/wuVVTN9M/134TJeH71j8nk9uoP3fbPwMZsxbPXOA/7VRmjDBo4z/8o3blUTvnP0M9/O3g3es/mbvGe9q28D92drFLCA30P199VMddDvg/ObTHGM3d/D+EPVuBrFEBQL3SQsrHyARAYSFdv8r0CEAJLOC04P0NQFqVRtXeCRJAJz1ppna3FUDdA3fFnCsaQGPlt9qvkB9AKwpq6QoNI0CxY55kRwQnQPPRIr5W0ytAIelRB4TTMEDhuScGNlk0QHz8kvybmThA19fhfNKyPUDxGxRkAd1BQKaAB3rzR0VAsHrEZ4+qSECQDsdZjzpKQAet6pcXyUJADEhEJowODkAMSEQmjA7+P6M50FGjC9g/AAAAAAAAAAAAAAAAAAAAAAAAAAAAAAAAAAAAAAAAAAAAAAAAAAAAAAAAAAAAAAAAAAAAAAAAAAAAAAAAAAAAAAAAAAAAAAAAAAAAAAAAAAAAAAAAAAAAAAAAAAAAAAAAAAAAAAAAAAAAAAAAAAAAAAAAAAAAAAAA\"},\"shape\":[90],\"dtype\":\"float64\",\"order\":\"little\"}],[\"y\",{\"type\":\"ndarray\",\"array\":{\"type\":\"bytes\",\"data\":\"0dYce1EWKT+ZaVYRyessP/lahu5IqzA/k7quqT02Mz/ZhwZzBSU2P+7MBMO5hjk/vz9KkSFsPT/a4a/JGvVAPwL0+/7Ni0M/oB+hwQGIRj/YbhaKz/hJP3ttkQ/V700/en/NgwVBUT8vRD0zd+NTP6uYSj/h7FY/ficcMP5sWj9v57Ec13VeP/JdSl0yjmE/MtXdhmI8ZD/EIitkU1NnP60mPi314mo/ZN3TMNf9bj9DfSZWodxxP4ncwqnFlnQ/BqYudIC7dz9V10bhH1t7P2Wire9oiH8/1x5R/HMsgj9MQtjfyPKEPzyxPWmXJYg/aUVAKmrViz/WU6uvrgqQP7Y8xWC0fZI/Kq0a33JQlT9eSl0yjpGYP/RqJRneUZw/T5ph/mVSoD/cWQV7XdCiP3V2jfG8r6U/bXGNz2T/qD+Z9PdSeNCsPx1jOOhcm7A/e9tMhXgksz+Jbqx6rxC2P5qLCXskb7k/ZFkw8UdRvT/yVCwjmuXAP9adOMoLesM//sQSIFRzxj8s8uuH2ODJP53y6EZY1M0/Ekza+SMx0T+dR8X/HdHTP4ggvZex19Y/E6tQ7ohU2j9AQK1YslneP63tNyT/feE/ecK3VbUp5D/eoRekzz3nP+BrY0c+yuo/IxQAiGDh7j8KFuLsMczxP1CavLfYg/Q/8E4+Pbal9z/6fg8DAkL7P+wX7IZta/8/kL8PYsIbAkBdXsoKj98EQLw3K0dtDwhAC2t0GN27C0DlNPqH4/cPQLXu1X22bBJAyIkbXN88FUDBSvTo/HoYQH96fffYNxxA73eDw2ZDIEDAhMCAFL8iQKeIHdfQmyVAvWU9a23oKECz8iYa/7UsQEasDzUbjDBAx9nPveISM0DPOMPDavw1QPkboyvHVzlAqD5GL1k2PUDGzsqsFNZAQIdZw6AnaENAyKe2irReRkC7KeW1EslJQN50yw7xuE1A\"},\"shape\":[90],\"dtype\":\"float64\",\"order\":\"little\"}]]}}},\"view\":{\"type\":\"object\",\"name\":\"CDSView\",\"id\":\"p1216\",\"attributes\":{\"filter\":{\"type\":\"object\",\"name\":\"AllIndices\",\"id\":\"p1217\"}}},\"glyph\":{\"type\":\"object\",\"name\":\"Line\",\"id\":\"p1212\",\"attributes\":{\"x\":{\"type\":\"field\",\"field\":\"x\"},\"y\":{\"type\":\"field\",\"field\":\"y\"},\"line_color\":\"#E69F00\",\"line_width\":3}},\"nonselection_glyph\":{\"type\":\"object\",\"name\":\"Line\",\"id\":\"p1213\",\"attributes\":{\"x\":{\"type\":\"field\",\"field\":\"x\"},\"y\":{\"type\":\"field\",\"field\":\"y\"},\"line_color\":\"#E69F00\",\"line_alpha\":0.1,\"line_width\":3}},\"muted_glyph\":{\"type\":\"object\",\"name\":\"Line\",\"id\":\"p1214\",\"attributes\":{\"x\":{\"type\":\"field\",\"field\":\"x\"},\"y\":{\"type\":\"field\",\"field\":\"y\"},\"line_color\":\"#E69F00\",\"line_alpha\":0.2,\"line_width\":3}}}},{\"type\":\"object\",\"name\":\"GlyphRenderer\",\"id\":\"p1243\",\"attributes\":{\"data_source\":{\"type\":\"object\",\"name\":\"ColumnDataSource\",\"id\":\"p1237\",\"attributes\":{\"selected\":{\"type\":\"object\",\"name\":\"Selection\",\"id\":\"p1238\",\"attributes\":{\"indices\":[],\"line_indices\":[]}},\"selection_policy\":{\"type\":\"object\",\"name\":\"UnionRenderers\",\"id\":\"p1239\"},\"data\":{\"type\":\"map\",\"entries\":[[\"x\",{\"type\":\"ndarray\",\"array\":{\"type\":\"bytes\",\"data\":\"Cf6YG/ro4D5fN67UclTsPg6y3EtNqvY+A0vcnosDAT8qzqWXp64IPwfXKZRFLxE/tjx1OZxaFz/dHHUhwxAfP59NrR7qOyQ/3HX51xwOKj+Uf+V5zIQwP9NCaoMYwDQ/v6+BxjzvOT+nNVnh9xBAP+LxBi0cz0M/7cIYcfxkSD+QfS/x1fxNP0OyFerellM/LPWoaozHWD/Q1nHIYJxeP9Fbwcuw4GI/6sG67yFRZz+nWILLkc5sP+d/KuGtz3E/JUkmMJUPdj9UT5D2Mlp7P/lY6yWG+4A/87uL9W4ahT/B8KGjcEyKP33M6kWNUZA//J5vULZElD8xmG4dYyuZP5S4pj3mQ58/lLy/Tbhroz+64Um0AR2oP8CDlfgj6K0/+hQBFLN/sj9f3FvNm8+2PweOjeaRFLw/TBEkEXg9wT9Z5AAdmBzFP0M3+zOey8k/cTZp32ptzz9GsPVu5hHTP2eZA4rP99Y/5/5tIoZa2z8Zow8m43/gP1LPLMRU8OM/J9Oh7Z785z9pQ4DB7N3sP/8JQ3cSZvE/QxhBrm329D8/ETU3XSP5P8panhb3Uf4/IHuafSxoAkC6G5TIZHsGQHOIGZzufgtAL807MGfiEECDZftMyNQUQEl5oJX5wxlA/ZFdV1b8H0CU/QAUfvcjQOOqoLwm4ShAxnruS4jrLkBQfJ8NcSwzQPQ7RhxwwDdAdPWikuVbPUAHHwa5nxBCQJ7BAv3X90VAj6ZVK5nNSUC8Wxp1D5lLQOoqMHf0rENA33ezviB7D0Dfd7O+IHv/P+RfXGVNL9k/AAAAAAAAAAAAAAAAAAAAAAAAAAAAAAAAAAAAAAAAAAAAAAAAAAAAAAAAAAAAAAAAAAAAAAAAAAAAAAAAAAAAAAAAAAAAAAAAAAAAAAAAAAAAAAAAAAAAAAAAAAAAAAAAAAAAAAAAAAAAAAAAAAAAAAAAAAAAAAAA\"},\"shape\":[90],\"dtype\":\"float64\",\"order\":\"little\"}],[\"y\",{\"type\":\"ndarray\",\"array\":{\"type\":\"bytes\",\"data\":\"0dYce1EWKT+ZaVYRyessP/lahu5IqzA/k7quqT02Mz/ZhwZzBSU2P+7MBMO5hjk/vz9KkSFsPT/a4a/JGvVAPwL0+/7Ni0M/oB+hwQGIRj/YbhaKz/hJP3ttkQ/V700/en/NgwVBUT8vRD0zd+NTP6uYSj/h7FY/ficcMP5sWj9v57Ec13VeP/JdSl0yjmE/MtXdhmI8ZD/EIitkU1NnP60mPi314mo/ZN3TMNf9bj9DfSZWodxxP4ncwqnFlnQ/BqYudIC7dz9V10bhH1t7P2Wire9oiH8/1x5R/HMsgj9MQtjfyPKEPzyxPWmXJYg/aUVAKmrViz/WU6uvrgqQP7Y8xWC0fZI/Kq0a33JQlT9eSl0yjpGYP/RqJRneUZw/T5ph/mVSoD/cWQV7XdCiP3V2jfG8r6U/bXGNz2T/qD+Z9PdSeNCsPx1jOOhcm7A/e9tMhXgksz+Jbqx6rxC2P5qLCXskb7k/ZFkw8UdRvT/yVCwjmuXAP9adOMoLesM//sQSIFRzxj8s8uuH2ODJP53y6EZY1M0/Ekza+SMx0T+dR8X/HdHTP4ggvZex19Y/E6tQ7ohU2j9AQK1YslneP63tNyT/feE/ecK3VbUp5D/eoRekzz3nP+BrY0c+yuo/IxQAiGDh7j8KFuLsMczxP1CavLfYg/Q/8E4+Pbal9z/6fg8DAkL7P+wX7IZta/8/kL8PYsIbAkBdXsoKj98EQLw3K0dtDwhAC2t0GN27C0DlNPqH4/cPQLXu1X22bBJAyIkbXN88FUDBSvTo/HoYQH96fffYNxxA73eDw2ZDIEDAhMCAFL8iQKeIHdfQmyVAvWU9a23oKECz8iYa/7UsQEasDzUbjDBAx9nPveISM0DPOMPDavw1QPkboyvHVzlAqD5GL1k2PUDGzsqsFNZAQIdZw6AnaENAyKe2irReRkC7KeW1EslJQN50yw7xuE1A\"},\"shape\":[90],\"dtype\":\"float64\",\"order\":\"little\"}]]}}},\"view\":{\"type\":\"object\",\"name\":\"CDSView\",\"id\":\"p1244\",\"attributes\":{\"filter\":{\"type\":\"object\",\"name\":\"AllIndices\",\"id\":\"p1245\"}}},\"glyph\":{\"type\":\"object\",\"name\":\"Line\",\"id\":\"p1240\",\"attributes\":{\"x\":{\"type\":\"field\",\"field\":\"x\"},\"y\":{\"type\":\"field\",\"field\":\"y\"},\"line_color\":\"#F0E442\",\"line_width\":3}},\"nonselection_glyph\":{\"type\":\"object\",\"name\":\"Line\",\"id\":\"p1241\",\"attributes\":{\"x\":{\"type\":\"field\",\"field\":\"x\"},\"y\":{\"type\":\"field\",\"field\":\"y\"},\"line_color\":\"#F0E442\",\"line_alpha\":0.1,\"line_width\":3}},\"muted_glyph\":{\"type\":\"object\",\"name\":\"Line\",\"id\":\"p1242\",\"attributes\":{\"x\":{\"type\":\"field\",\"field\":\"x\"},\"y\":{\"type\":\"field\",\"field\":\"y\"},\"line_color\":\"#F0E442\",\"line_alpha\":0.2,\"line_width\":3}}}},{\"type\":\"object\",\"name\":\"GlyphRenderer\",\"id\":\"p1271\",\"attributes\":{\"data_source\":{\"type\":\"object\",\"name\":\"ColumnDataSource\",\"id\":\"p1265\",\"attributes\":{\"selected\":{\"type\":\"object\",\"name\":\"Selection\",\"id\":\"p1266\",\"attributes\":{\"indices\":[],\"line_indices\":[]}},\"selection_policy\":{\"type\":\"object\",\"name\":\"UnionRenderers\",\"id\":\"p1267\"},\"data\":{\"type\":\"map\",\"entries\":[[\"x\",{\"type\":\"ndarray\",\"array\":{\"type\":\"bytes\",\"data\":\"Cf6YG/ro4D5fN67UclTsPg6y3EtNqvY+A0vcnosDAT8qzqWXp64IPwfXKZRFLxE/tjx1OZxaFz/dHHUhwxAfP59NrR7qOyQ/3HX51xwOKj+Uf+V5zIQwP9NCaoMYwDQ/v6+BxjzvOT+nNVnh9xBAP+LxBi0cz0M/7cIYcfxkSD+QfS/x1fxNP0OyFerellM/LPWoaozHWD/Q1nHIYJxeP9Fbwcuw4GI/6sG67yFRZz+nWILLkc5sP+d/KuGtz3E/JUkmMJUPdj9UT5D2Mlp7P/lY6yWG+4A/87uL9W4ahT/B8KGjcEyKP33M6kWNUZA//J5vULZElD8xmG4dYyuZP5S4pj3mQ58/lLy/Tbhroz+64Um0AR2oP8CDlfgj6K0/+hQBFLN/sj9f3FvNm8+2PweOjeaRFLw/TBEkEXg9wT9Z5AAdmBzFP0M3+zOey8k/cTZp32ptzz9GsPVu5hHTP2eZA4rP99Y/5/5tIoZa2z8Zow8m43/gP1LPLMRU8OM/J9Oh7Z785z9pQ4DB7N3sP/8JQ3cSZvE/QxhBrm329D8/ETU3XSP5P8panhb3Uf4/IHuafSxoAkC6G5TIZHsGQHOIGZzufgtAL807MGfiEECDZftMyNQUQEl5oJX5wxlA/ZFdV1b8H0CU/QAUfvcjQOOqoLwm4ShAxnruS4jrLkBQfJ8NcSwzQPQ7RhxwwDdAdPWikuVbPUAHHwa5nxBCQEKKeqF3W0NAooHYcXXeQUAWPjEG6+g9QIzAQ2zBkDBA4AAGejWB+j/gAAZ6NYHqP4HNBMgqNMU/AAAAAAAAAAAAAAAAAAAAAAAAAAAAAAAAAAAAAAAAAAAAAAAAAAAAAAAAAAAAAAAAAAAAAAAAAAAAAAAAAAAAAAAAAAAAAAAAAAAAAAAAAAAAAAAAAAAAAAAAAAAAAAAAAAAAAAAAAAAAAAAAAAAAAAAAAAAAAAAA\"},\"shape\":[90],\"dtype\":\"float64\",\"order\":\"little\"}],[\"y\",{\"type\":\"ndarray\",\"array\":{\"type\":\"bytes\",\"data\":\"0dYce1EWKT+ZaVYRyessP/lahu5IqzA/k7quqT02Mz/ZhwZzBSU2P+7MBMO5hjk/vz9KkSFsPT/a4a/JGvVAPwL0+/7Ni0M/oB+hwQGIRj/YbhaKz/hJP3ttkQ/V700/en/NgwVBUT8vRD0zd+NTP6uYSj/h7FY/ficcMP5sWj9v57Ec13VeP/JdSl0yjmE/MtXdhmI8ZD/EIitkU1NnP60mPi314mo/ZN3TMNf9bj9DfSZWodxxP4ncwqnFlnQ/BqYudIC7dz9V10bhH1t7P2Wire9oiH8/1x5R/HMsgj9MQtjfyPKEPzyxPWmXJYg/aUVAKmrViz/WU6uvrgqQP7Y8xWC0fZI/Kq0a33JQlT9eSl0yjpGYP/RqJRneUZw/T5ph/mVSoD/cWQV7XdCiP3V2jfG8r6U/bXGNz2T/qD+Z9PdSeNCsPx1jOOhcm7A/e9tMhXgksz+Jbqx6rxC2P5qLCXskb7k/ZFkw8UdRvT/yVCwjmuXAP9adOMoLesM//sQSIFRzxj8s8uuH2ODJP53y6EZY1M0/Ekza+SMx0T+dR8X/HdHTP4ggvZex19Y/E6tQ7ohU2j9AQK1YslneP63tNyT/feE/ecK3VbUp5D/eoRekzz3nP+BrY0c+yuo/IxQAiGDh7j8KFuLsMczxP1CavLfYg/Q/8E4+Pbal9z/6fg8DAkL7P+wX7IZta/8/kL8PYsIbAkBdXsoKj98EQLw3K0dtDwhAC2t0GN27C0DlNPqH4/cPQLXu1X22bBJAyIkbXN88FUDBSvTo/HoYQH96fffYNxxA73eDw2ZDIEDAhMCAFL8iQKeIHdfQmyVAvWU9a23oKECz8iYa/7UsQEasDzUbjDBAx9nPveISM0DPOMPDavw1QPkboyvHVzlAqD5GL1k2PUDGzsqsFNZAQIdZw6AnaENAyKe2irReRkC7KeW1EslJQN50yw7xuE1A\"},\"shape\":[90],\"dtype\":\"float64\",\"order\":\"little\"}]]}}},\"view\":{\"type\":\"object\",\"name\":\"CDSView\",\"id\":\"p1272\",\"attributes\":{\"filter\":{\"type\":\"object\",\"name\":\"AllIndices\",\"id\":\"p1273\"}}},\"glyph\":{\"type\":\"object\",\"name\":\"Line\",\"id\":\"p1268\",\"attributes\":{\"x\":{\"type\":\"field\",\"field\":\"x\"},\"y\":{\"type\":\"field\",\"field\":\"y\"},\"line_color\":\"#009E73\",\"line_width\":3}},\"nonselection_glyph\":{\"type\":\"object\",\"name\":\"Line\",\"id\":\"p1269\",\"attributes\":{\"x\":{\"type\":\"field\",\"field\":\"x\"},\"y\":{\"type\":\"field\",\"field\":\"y\"},\"line_color\":\"#009E73\",\"line_alpha\":0.1,\"line_width\":3}},\"muted_glyph\":{\"type\":\"object\",\"name\":\"Line\",\"id\":\"p1270\",\"attributes\":{\"x\":{\"type\":\"field\",\"field\":\"x\"},\"y\":{\"type\":\"field\",\"field\":\"y\"},\"line_color\":\"#009E73\",\"line_alpha\":0.2,\"line_width\":3}}}}],\"toolbar\":{\"type\":\"object\",\"name\":\"Toolbar\",\"id\":\"p1155\",\"attributes\":{\"tools\":[{\"id\":\"p1169\"},{\"id\":\"p1170\"},{\"id\":\"p1171\"},{\"type\":\"object\",\"name\":\"SaveTool\",\"id\":\"p1177\"},{\"id\":\"p1178\"},{\"id\":\"p1179\"}]}},\"toolbar_location\":null,\"left\":[{\"type\":\"object\",\"name\":\"LogAxis\",\"id\":\"p1164\",\"attributes\":{\"ticker\":{\"type\":\"object\",\"name\":\"LogTicker\",\"id\":\"p1165\",\"attributes\":{\"num_minor_ticks\":10,\"mantissas\":[1,5]}},\"formatter\":{\"type\":\"object\",\"name\":\"LogTickFormatter\",\"id\":\"p1166\"},\"axis_label\":\"Pressure (bars)\",\"major_label_policy\":{\"type\":\"object\",\"name\":\"AllLabels\",\"id\":\"p1167\"}}}],\"below\":[{\"type\":\"object\",\"name\":\"LogAxis\",\"id\":\"p1159\",\"attributes\":{\"ticker\":{\"type\":\"object\",\"name\":\"LogTicker\",\"id\":\"p1160\",\"attributes\":{\"num_minor_ticks\":10,\"mantissas\":[1,5]}},\"formatter\":{\"type\":\"object\",\"name\":\"LogTickFormatter\",\"id\":\"p1161\"},\"axis_label\":\"Optical Depth\",\"major_label_policy\":{\"type\":\"object\",\"name\":\"AllLabels\",\"id\":\"p1162\"}}}],\"center\":[{\"type\":\"object\",\"name\":\"Grid\",\"id\":\"p1163\",\"attributes\":{\"axis\":{\"id\":\"p1159\"}}},{\"type\":\"object\",\"name\":\"Grid\",\"id\":\"p1168\",\"attributes\":{\"dimension\":1,\"axis\":{\"id\":\"p1164\"}}}]}},0,0],[{\"type\":\"object\",\"name\":\"Figure\",\"id\":\"p1081\",\"attributes\":{\"width\":300,\"height\":300,\"x_range\":{\"type\":\"object\",\"name\":\"DataRange1d\",\"id\":\"p1083\"},\"y_range\":{\"type\":\"object\",\"name\":\"Range1d\",\"id\":\"p1090\",\"attributes\":{\"start\":59.4448565,\"end\":0.00019140000000000002}},\"x_scale\":{\"type\":\"object\",\"name\":\"LinearScale\",\"id\":\"p1091\"},\"y_scale\":{\"type\":\"object\",\"name\":\"LogScale\",\"id\":\"p1092\"},\"title\":{\"type\":\"object\",\"name\":\"Title\",\"id\":\"p1088\"},\"renderers\":[{\"type\":\"object\",\"name\":\"GlyphRenderer\",\"id\":\"p1204\",\"attributes\":{\"data_source\":{\"type\":\"object\",\"name\":\"ColumnDataSource\",\"id\":\"p1198\",\"attributes\":{\"selected\":{\"type\":\"object\",\"name\":\"Selection\",\"id\":\"p1199\",\"attributes\":{\"indices\":[],\"line_indices\":[]}},\"selection_policy\":{\"type\":\"object\",\"name\":\"UnionRenderers\",\"id\":\"p1200\"},\"data\":{\"type\":\"map\",\"entries\":[[\"x\",{\"type\":\"ndarray\",\"array\":{\"type\":\"bytes\",\"data\":\"xmsfqN2h7z95AAUMp5TvP/cqsdgThu8/TXw4VQx27z/HC13QYGTvPxqhknrqUO8/L9fvLXk77z+PrHAn0SPvPwAvdhogCu8/8dGRj83z7j+fY0T5xuPuPz+2wUDhxO4/ZsS+obOj7j9x19pIb4DuPyGU0ih1W+4/OYigO0E17j882Fm9fA7uP3RQx7XV5+0/uQ46bBLC7T9wpMYKyJ3tP7FwAEiEe+0/HwWz74hb7T/2Xmu3Bj7tP51cjLHmIu0/0fygAxgK7T+k8QZBVfPsP7Y5HHp63uw/7PhtoD3L7D/TRA/af7nsPwZLayEJqew/9iXPXdGZ7D8fAylHpYvsP1kWs55/fuw/1PZmCTVy7D9Z6tOjxWbsP1qxTR8OXOw/XPktsRVS7D83/v6Lw0jsP0QEKX8bQOw/JyewLPo37D9dRj6HTTDsP8OEiYzpKOw/fJR6+1ch7D8my9O1yBjsP0whBZ48Dew/TPGnwCb96z/AmouM2vbrP2d1b0P98us/4zBiRLfv6z88ZeErDe3rP3MdaXDR6us/yiLIoOjo6z9jKbtDa+frPycwexg+5us/89z5lP/k6z9NAmFpZePrPy36EWFp4es/txTaUwPf6z/mn1rsKtzrP9QF1+7Y2Os/RmR82wjV6z+NvIYQuNDrP5qAc27ry+s/MchnKenG6z/f/7ybwcHrP6oAjLaTvOs/cGrIhky36z9tA4mPAbLrP/Rx/ZOvrOs/oDN6l3yn6z9ToKMt2KLrP4Ca/MvHn+s/gJr8y8ef6z+AmvzLx5/rP4Ca/MvHn+s/AAAAAAAAAAAAAAAAAAAAAAAAAAAAAAAAAAAAAAAAAAAAAAAAAAAAAAAAAAAAAAAAAAAAAAAAAAAAAAAAAAAAAAAAAAAAAAAAAAAAAAAAAAAAAAAAAAAAAAAAAAAAAAAAAAAAAAAAAAAAAAAAAAAAAAAAAAAAAAAA\"},\"shape\":[90],\"dtype\":\"float64\",\"order\":\"little\"}],[\"y\",{\"type\":\"ndarray\",\"array\":{\"type\":\"bytes\",\"data\":\"0dYce1EWKT+ZaVYRyessP/lahu5IqzA/k7quqT02Mz/ZhwZzBSU2P+7MBMO5hjk/vz9KkSFsPT/a4a/JGvVAPwL0+/7Ni0M/oB+hwQGIRj/YbhaKz/hJP3ttkQ/V700/en/NgwVBUT8vRD0zd+NTP6uYSj/h7FY/ficcMP5sWj9v57Ec13VeP/JdSl0yjmE/MtXdhmI8ZD/EIitkU1NnP60mPi314mo/ZN3TMNf9bj9DfSZWodxxP4ncwqnFlnQ/BqYudIC7dz9V10bhH1t7P2Wire9oiH8/1x5R/HMsgj9MQtjfyPKEPzyxPWmXJYg/aUVAKmrViz/WU6uvrgqQP7Y8xWC0fZI/Kq0a33JQlT9eSl0yjpGYP/RqJRneUZw/T5ph/mVSoD/cWQV7XdCiP3V2jfG8r6U/bXGNz2T/qD+Z9PdSeNCsPx1jOOhcm7A/e9tMhXgksz+Jbqx6rxC2P5qLCXskb7k/ZFkw8UdRvT/yVCwjmuXAP9adOMoLesM//sQSIFRzxj8s8uuH2ODJP53y6EZY1M0/Ekza+SMx0T+dR8X/HdHTP4ggvZex19Y/E6tQ7ohU2j9AQK1YslneP63tNyT/feE/ecK3VbUp5D/eoRekzz3nP+BrY0c+yuo/IxQAiGDh7j8KFuLsMczxP1CavLfYg/Q/8E4+Pbal9z/6fg8DAkL7P+wX7IZta/8/kL8PYsIbAkBdXsoKj98EQLw3K0dtDwhAC2t0GN27C0DlNPqH4/cPQLXu1X22bBJAyIkbXN88FUDBSvTo/HoYQH96fffYNxxA73eDw2ZDIEDAhMCAFL8iQKeIHdfQmyVAvWU9a23oKECz8iYa/7UsQEasDzUbjDBAx9nPveISM0DPOMPDavw1QPkboyvHVzlAqD5GL1k2PUDGzsqsFNZAQIdZw6AnaENAyKe2irReRkC7KeW1EslJQN50yw7xuE1A\"},\"shape\":[90],\"dtype\":\"float64\",\"order\":\"little\"}]]}}},\"view\":{\"type\":\"object\",\"name\":\"CDSView\",\"id\":\"p1205\",\"attributes\":{\"filter\":{\"type\":\"object\",\"name\":\"AllIndices\",\"id\":\"p1206\"}}},\"glyph\":{\"type\":\"object\",\"name\":\"Line\",\"id\":\"p1201\",\"attributes\":{\"x\":{\"type\":\"field\",\"field\":\"x\"},\"y\":{\"type\":\"field\",\"field\":\"y\"},\"line_color\":\"#0072B2\",\"line_width\":3}},\"nonselection_glyph\":{\"type\":\"object\",\"name\":\"Line\",\"id\":\"p1202\",\"attributes\":{\"x\":{\"type\":\"field\",\"field\":\"x\"},\"y\":{\"type\":\"field\",\"field\":\"y\"},\"line_color\":\"#0072B2\",\"line_alpha\":0.1,\"line_width\":3}},\"muted_glyph\":{\"type\":\"object\",\"name\":\"Line\",\"id\":\"p1203\",\"attributes\":{\"x\":{\"type\":\"field\",\"field\":\"x\"},\"y\":{\"type\":\"field\",\"field\":\"y\"},\"line_color\":\"#0072B2\",\"line_alpha\":0.2,\"line_width\":3}}}},{\"type\":\"object\",\"name\":\"GlyphRenderer\",\"id\":\"p1233\",\"attributes\":{\"data_source\":{\"type\":\"object\",\"name\":\"ColumnDataSource\",\"id\":\"p1227\",\"attributes\":{\"selected\":{\"type\":\"object\",\"name\":\"Selection\",\"id\":\"p1228\",\"attributes\":{\"indices\":[],\"line_indices\":[]}},\"selection_policy\":{\"type\":\"object\",\"name\":\"UnionRenderers\",\"id\":\"p1229\"},\"data\":{\"type\":\"map\",\"entries\":[[\"x\",{\"type\":\"ndarray\",\"array\":{\"type\":\"bytes\",\"data\":\"3fxylb/Y7z9ctltPadPvP8yq0zxE0O8/j2pw4nrM7z9m0+YL+cfvP81qRAbnwu8/OqSRNEm97z/3Q5nPILfvP1fSM9xmsO8/TI/SARmp7z90Uj00L6HvP/YN1PmlmO8/3Y5rynKP7z8d3rjKyoXvP1ZRflw0e+8/pgtwGBh57z/NORCclm/vP7HGHetIZO8/AdioFYVY7z9dW7+IXEzvPxTtEpXrP+8/avJ3KVMz7z8Qbu8hvybvPwxNaiVbGu8/GumegF4O7z9EEedr8ALvP42DtDpD+O4/ExOw52zu7j+64TZ3ieXuP8mRjr6W3e4/kS4nO5jW7j8wqlljeNDuP5zuFuwty+4/JnZ08pzG7j+zVVobucLuP3+waWZiv+4/nB8hUo287j963QZOHbruP0BpDtsFuO4/n9aZejC27j/34RiZjLTuP+Yon60Fs+4/Yd9xKW2x7j8/ZI7req/uP23UQTh9rO4/wExpVuOn7j8EoN1wa6buP1Cocf2ipe4/R7B+Hd+k7j9HqmY9HqTuPwNfRd1ko+4/esQcmbei7j/AScabCKLuP7CE2wBioe4/b6z/EuKg7j/WugDloKDuP0SWwdCioO4/8c0ua+Cg7j+UKhQXZKHuP5ESJWomou4/rGtoMCCj7j8fQ2pjWaTuPyffLWK/pe4/+YS2e0Sn7j9Rd9Rj0KjuP9DV1tFnqu4/tCB1kv2r7j/dAscpm63uPz/WSXU4r+4/YEyyqMCw7j+/ggU3LbLuP6yEwztus+4/qoTDO26z7j+qhMM7brPuP6yEwztus+4/AAAAAAAAAAAAAAAAAAAAAAAAAAAAAAAAAAAAAAAAAAAAAAAAAAAAAAAAAAAAAAAAAAAAAAAAAAAAAAAAAAAAAAAAAAAAAAAAAAAAAAAAAAAAAAAAAAAAAAAAAAAAAAAAAAAAAAAAAAAAAAAAAAAAAAAAAAAAAAAA\"},\"shape\":[90],\"dtype\":\"float64\",\"order\":\"little\"}],[\"y\",{\"type\":\"ndarray\",\"array\":{\"type\":\"bytes\",\"data\":\"0dYce1EWKT+ZaVYRyessP/lahu5IqzA/k7quqT02Mz/ZhwZzBSU2P+7MBMO5hjk/vz9KkSFsPT/a4a/JGvVAPwL0+/7Ni0M/oB+hwQGIRj/YbhaKz/hJP3ttkQ/V700/en/NgwVBUT8vRD0zd+NTP6uYSj/h7FY/ficcMP5sWj9v57Ec13VeP/JdSl0yjmE/MtXdhmI8ZD/EIitkU1NnP60mPi314mo/ZN3TMNf9bj9DfSZWodxxP4ncwqnFlnQ/BqYudIC7dz9V10bhH1t7P2Wire9oiH8/1x5R/HMsgj9MQtjfyPKEPzyxPWmXJYg/aUVAKmrViz/WU6uvrgqQP7Y8xWC0fZI/Kq0a33JQlT9eSl0yjpGYP/RqJRneUZw/T5ph/mVSoD/cWQV7XdCiP3V2jfG8r6U/bXGNz2T/qD+Z9PdSeNCsPx1jOOhcm7A/e9tMhXgksz+Jbqx6rxC2P5qLCXskb7k/ZFkw8UdRvT/yVCwjmuXAP9adOMoLesM//sQSIFRzxj8s8uuH2ODJP53y6EZY1M0/Ekza+SMx0T+dR8X/HdHTP4ggvZex19Y/E6tQ7ohU2j9AQK1YslneP63tNyT/feE/ecK3VbUp5D/eoRekzz3nP+BrY0c+yuo/IxQAiGDh7j8KFuLsMczxP1CavLfYg/Q/8E4+Pbal9z/6fg8DAkL7P+wX7IZta/8/kL8PYsIbAkBdXsoKj98EQLw3K0dtDwhAC2t0GN27C0DlNPqH4/cPQLXu1X22bBJAyIkbXN88FUDBSvTo/HoYQH96fffYNxxA73eDw2ZDIEDAhMCAFL8iQKeIHdfQmyVAvWU9a23oKECz8iYa/7UsQEasDzUbjDBAx9nPveISM0DPOMPDavw1QPkboyvHVzlAqD5GL1k2PUDGzsqsFNZAQIdZw6AnaENAyKe2irReRkC7KeW1EslJQN50yw7xuE1A\"},\"shape\":[90],\"dtype\":\"float64\",\"order\":\"little\"}]]}}},\"view\":{\"type\":\"object\",\"name\":\"CDSView\",\"id\":\"p1234\",\"attributes\":{\"filter\":{\"type\":\"object\",\"name\":\"AllIndices\",\"id\":\"p1235\"}}},\"glyph\":{\"type\":\"object\",\"name\":\"Line\",\"id\":\"p1230\",\"attributes\":{\"x\":{\"type\":\"field\",\"field\":\"x\"},\"y\":{\"type\":\"field\",\"field\":\"y\"},\"line_color\":\"#E69F00\",\"line_width\":3}},\"nonselection_glyph\":{\"type\":\"object\",\"name\":\"Line\",\"id\":\"p1231\",\"attributes\":{\"x\":{\"type\":\"field\",\"field\":\"x\"},\"y\":{\"type\":\"field\",\"field\":\"y\"},\"line_color\":\"#E69F00\",\"line_alpha\":0.1,\"line_width\":3}},\"muted_glyph\":{\"type\":\"object\",\"name\":\"Line\",\"id\":\"p1232\",\"attributes\":{\"x\":{\"type\":\"field\",\"field\":\"x\"},\"y\":{\"type\":\"field\",\"field\":\"y\"},\"line_color\":\"#E69F00\",\"line_alpha\":0.2,\"line_width\":3}}}},{\"type\":\"object\",\"name\":\"GlyphRenderer\",\"id\":\"p1261\",\"attributes\":{\"data_source\":{\"type\":\"object\",\"name\":\"ColumnDataSource\",\"id\":\"p1255\",\"attributes\":{\"selected\":{\"type\":\"object\",\"name\":\"Selection\",\"id\":\"p1256\",\"attributes\":{\"indices\":[],\"line_indices\":[]}},\"selection_policy\":{\"type\":\"object\",\"name\":\"UnionRenderers\",\"id\":\"p1257\"},\"data\":{\"type\":\"map\",\"entries\":[[\"x\",{\"type\":\"ndarray\",\"array\":{\"type\":\"bytes\",\"data\":\"RBeYo/Lp7z/zyNLwT+jvP1ClDohW5u8/OhLvghrk7z/Htwy2geHvPxThBwpo3u8/ikoTN9za7z9ELOiE7NbvP6wEaCVj0u8/SXpJeXTN7z9cyU/57MfvP22xEo7Vwe8/J6AHKVa77z+8nxH9G7TvPw2l+xpKrO8/VFRjjhik7z8JixP0UZvvPy0eBPKpl+8/o7lzvuOQ7z/2mPUnlYfvP8bfh8CXfe8/3c6JlDZz7z+8MGcwcGjvP8c6vQFkXe8/jY8cFzxS7z8AVsxKCEfvP9xFPWz+O+8/ZPV/FjEx7z/MhIE0DCfvPyMPh92wHO8/BzdvkzET7z8ECrplbwrvP0fASZqPAu8/pMuVV4L77j8WUebFJfXuPywFiOZh7+4/fN1w1uzp7j/65NnrsOTuP3oaFsf93+4/6saESZTb7j9tZK5/XNfuP7bvC+Ff0+4/YDZBa1jP7j8JtSNB3sruP0kVO0nIxO4/6hDBH/O77j+UcwK677fuP2qwXYQhte4/77q7n8Gx7j8kiwneEK/uP11y/yY1re4/GZB7qXur7j+zK+uw2KjuP6Hn1UAKqO4/up5Im+Wo7j9drrN85qruP3yNL7K2rO4/jccijBev7j/9VzatAbLuPwnt/e7ftO4/hnsmxP237j+zHa90wLvuPzAnc55Rvu4/PVDCe/W/7j/xLTKqH8HuP2NstrE/wu4/Zl9Jp1bD7j/UPmWVcsTuP1bbA29Rxe4//bsh/urE7j/UqEyNlMPuP8wgGd7XwO4/zSAZ3tfA7j/NIBne18DuP80gGd7XwO4/AAAAAAAAAAAAAAAAAAAAAAAAAAAAAAAAAAAAAAAAAAAAAAAAAAAAAAAAAAAAAAAAAAAAAAAAAAAAAAAAAAAAAAAAAAAAAAAAAAAAAAAAAAAAAAAAAAAAAAAAAAAAAAAAAAAAAAAAAAAAAAAAAAAAAAAAAAAAAAAA\"},\"shape\":[90],\"dtype\":\"float64\",\"order\":\"little\"}],[\"y\",{\"type\":\"ndarray\",\"array\":{\"type\":\"bytes\",\"data\":\"0dYce1EWKT+ZaVYRyessP/lahu5IqzA/k7quqT02Mz/ZhwZzBSU2P+7MBMO5hjk/vz9KkSFsPT/a4a/JGvVAPwL0+/7Ni0M/oB+hwQGIRj/YbhaKz/hJP3ttkQ/V700/en/NgwVBUT8vRD0zd+NTP6uYSj/h7FY/ficcMP5sWj9v57Ec13VeP/JdSl0yjmE/MtXdhmI8ZD/EIitkU1NnP60mPi314mo/ZN3TMNf9bj9DfSZWodxxP4ncwqnFlnQ/BqYudIC7dz9V10bhH1t7P2Wire9oiH8/1x5R/HMsgj9MQtjfyPKEPzyxPWmXJYg/aUVAKmrViz/WU6uvrgqQP7Y8xWC0fZI/Kq0a33JQlT9eSl0yjpGYP/RqJRneUZw/T5ph/mVSoD/cWQV7XdCiP3V2jfG8r6U/bXGNz2T/qD+Z9PdSeNCsPx1jOOhcm7A/e9tMhXgksz+Jbqx6rxC2P5qLCXskb7k/ZFkw8UdRvT/yVCwjmuXAP9adOMoLesM//sQSIFRzxj8s8uuH2ODJP53y6EZY1M0/Ekza+SMx0T+dR8X/HdHTP4ggvZex19Y/E6tQ7ohU2j9AQK1YslneP63tNyT/feE/ecK3VbUp5D/eoRekzz3nP+BrY0c+yuo/IxQAiGDh7j8KFuLsMczxP1CavLfYg/Q/8E4+Pbal9z/6fg8DAkL7P+wX7IZta/8/kL8PYsIbAkBdXsoKj98EQLw3K0dtDwhAC2t0GN27C0DlNPqH4/cPQLXu1X22bBJAyIkbXN88FUDBSvTo/HoYQH96fffYNxxA73eDw2ZDIEDAhMCAFL8iQKeIHdfQmyVAvWU9a23oKECz8iYa/7UsQEasDzUbjDBAx9nPveISM0DPOMPDavw1QPkboyvHVzlAqD5GL1k2PUDGzsqsFNZAQIdZw6AnaENAyKe2irReRkC7KeW1EslJQN50yw7xuE1A\"},\"shape\":[90],\"dtype\":\"float64\",\"order\":\"little\"}]]}}},\"view\":{\"type\":\"object\",\"name\":\"CDSView\",\"id\":\"p1262\",\"attributes\":{\"filter\":{\"type\":\"object\",\"name\":\"AllIndices\",\"id\":\"p1263\"}}},\"glyph\":{\"type\":\"object\",\"name\":\"Line\",\"id\":\"p1258\",\"attributes\":{\"x\":{\"type\":\"field\",\"field\":\"x\"},\"y\":{\"type\":\"field\",\"field\":\"y\"},\"line_color\":\"#F0E442\",\"line_width\":3}},\"nonselection_glyph\":{\"type\":\"object\",\"name\":\"Line\",\"id\":\"p1259\",\"attributes\":{\"x\":{\"type\":\"field\",\"field\":\"x\"},\"y\":{\"type\":\"field\",\"field\":\"y\"},\"line_color\":\"#F0E442\",\"line_alpha\":0.1,\"line_width\":3}},\"muted_glyph\":{\"type\":\"object\",\"name\":\"Line\",\"id\":\"p1260\",\"attributes\":{\"x\":{\"type\":\"field\",\"field\":\"x\"},\"y\":{\"type\":\"field\",\"field\":\"y\"},\"line_color\":\"#F0E442\",\"line_alpha\":0.2,\"line_width\":3}}}},{\"type\":\"object\",\"name\":\"GlyphRenderer\",\"id\":\"p1289\",\"attributes\":{\"data_source\":{\"type\":\"object\",\"name\":\"ColumnDataSource\",\"id\":\"p1283\",\"attributes\":{\"selected\":{\"type\":\"object\",\"name\":\"Selection\",\"id\":\"p1284\",\"attributes\":{\"indices\":[],\"line_indices\":[]}},\"selection_policy\":{\"type\":\"object\",\"name\":\"UnionRenderers\",\"id\":\"p1285\"},\"data\":{\"type\":\"map\",\"entries\":[[\"x\",{\"type\":\"ndarray\",\"array\":{\"type\":\"bytes\",\"data\":\"RBeYo/Lp7z/zyNLwT+jvP1ClDohW5u8/OhLvghrk7z/Htwy2geHvPxThBwpo3u8/ikoTN9za7z9ELOiE7NbvP6wEaCVj0u8/SXpJeXTN7z9cyU/57MfvP22xEo7Vwe8/J6AHKVa77z+8nxH9G7TvPw2l+xpKrO8/VFRjjhik7z8JixP0UZvvPy0eBPKpl+8/o7lzvuOQ7z/2mPUnlYfvP8bfh8CXfe8/3c6JlDZz7z+8MGcwcGjvP8c6vQFkXe8/jY8cFzxS7z8AVsxKCEfvP9xFPWz+O+8/ZPV/FjEx7z/MhIE0DCfvPyMPh92wHO8/BzdvkzET7z8ECrplbwrvP0fASZqPAu8/pMuVV4L77j8WUebFJfXuPywFiOZh7+4/fN1w1uzp7j/65NnrsOTuP3oaFsf93+4/6saESZTb7j9tZK5/XNfuP7bvC+Ff0+4/YDZBa1jP7j8JtSNB3sruP0kVO0nIxO4/6hDBH/O77j+UcwK677fuP2qwXYQhte4/77q7n8Gx7j8kiwneEK/uP11y/yY1re4/GZB7qXur7j+zK+uw2KjuP6Hn1UAKqO4/up5Im+Wo7j9drrN85qruP3yNL7K2rO4/jccijBev7j/9VzatAbLuPwnt/e7ftO4/hnsmxP237j+zHa90wLvuPzAnc55Rvu4/PVDCe/W/7j/xLTKqH8HuP2NstrE/wu4/Zl9Jp1bD7j/UPmWVcsTuP1zGsiXpo+4/h5jr4bVZ7j+8T85m5/ztP7kf3zjphu0/uR/fOOmG7T+5H9846YbtP7kf3zjphu0/AAAAAAAAAAAAAAAAAAAAAAAAAAAAAAAAAAAAAAAAAAAAAAAAAAAAAAAAAAAAAAAAAAAAAAAAAAAAAAAAAAAAAAAAAAAAAAAAAAAAAAAAAAAAAAAAAAAAAAAAAAAAAAAAAAAAAAAAAAAAAAAAAAAAAAAAAAAAAAAA\"},\"shape\":[90],\"dtype\":\"float64\",\"order\":\"little\"}],[\"y\",{\"type\":\"ndarray\",\"array\":{\"type\":\"bytes\",\"data\":\"0dYce1EWKT+ZaVYRyessP/lahu5IqzA/k7quqT02Mz/ZhwZzBSU2P+7MBMO5hjk/vz9KkSFsPT/a4a/JGvVAPwL0+/7Ni0M/oB+hwQGIRj/YbhaKz/hJP3ttkQ/V700/en/NgwVBUT8vRD0zd+NTP6uYSj/h7FY/ficcMP5sWj9v57Ec13VeP/JdSl0yjmE/MtXdhmI8ZD/EIitkU1NnP60mPi314mo/ZN3TMNf9bj9DfSZWodxxP4ncwqnFlnQ/BqYudIC7dz9V10bhH1t7P2Wire9oiH8/1x5R/HMsgj9MQtjfyPKEPzyxPWmXJYg/aUVAKmrViz/WU6uvrgqQP7Y8xWC0fZI/Kq0a33JQlT9eSl0yjpGYP/RqJRneUZw/T5ph/mVSoD/cWQV7XdCiP3V2jfG8r6U/bXGNz2T/qD+Z9PdSeNCsPx1jOOhcm7A/e9tMhXgksz+Jbqx6rxC2P5qLCXskb7k/ZFkw8UdRvT/yVCwjmuXAP9adOMoLesM//sQSIFRzxj8s8uuH2ODJP53y6EZY1M0/Ekza+SMx0T+dR8X/HdHTP4ggvZex19Y/E6tQ7ohU2j9AQK1YslneP63tNyT/feE/ecK3VbUp5D/eoRekzz3nP+BrY0c+yuo/IxQAiGDh7j8KFuLsMczxP1CavLfYg/Q/8E4+Pbal9z/6fg8DAkL7P+wX7IZta/8/kL8PYsIbAkBdXsoKj98EQLw3K0dtDwhAC2t0GN27C0DlNPqH4/cPQLXu1X22bBJAyIkbXN88FUDBSvTo/HoYQH96fffYNxxA73eDw2ZDIEDAhMCAFL8iQKeIHdfQmyVAvWU9a23oKECz8iYa/7UsQEasDzUbjDBAx9nPveISM0DPOMPDavw1QPkboyvHVzlAqD5GL1k2PUDGzsqsFNZAQIdZw6AnaENAyKe2irReRkC7KeW1EslJQN50yw7xuE1A\"},\"shape\":[90],\"dtype\":\"float64\",\"order\":\"little\"}]]}}},\"view\":{\"type\":\"object\",\"name\":\"CDSView\",\"id\":\"p1290\",\"attributes\":{\"filter\":{\"type\":\"object\",\"name\":\"AllIndices\",\"id\":\"p1291\"}}},\"glyph\":{\"type\":\"object\",\"name\":\"Line\",\"id\":\"p1286\",\"attributes\":{\"x\":{\"type\":\"field\",\"field\":\"x\"},\"y\":{\"type\":\"field\",\"field\":\"y\"},\"line_color\":\"#009E73\",\"line_width\":3}},\"nonselection_glyph\":{\"type\":\"object\",\"name\":\"Line\",\"id\":\"p1287\",\"attributes\":{\"x\":{\"type\":\"field\",\"field\":\"x\"},\"y\":{\"type\":\"field\",\"field\":\"y\"},\"line_color\":\"#009E73\",\"line_alpha\":0.1,\"line_width\":3}},\"muted_glyph\":{\"type\":\"object\",\"name\":\"Line\",\"id\":\"p1288\",\"attributes\":{\"x\":{\"type\":\"field\",\"field\":\"x\"},\"y\":{\"type\":\"field\",\"field\":\"y\"},\"line_color\":\"#009E73\",\"line_alpha\":0.2,\"line_width\":3}}}}],\"toolbar\":{\"type\":\"object\",\"name\":\"Toolbar\",\"id\":\"p1089\",\"attributes\":{\"tools\":[{\"id\":\"p1103\"},{\"id\":\"p1104\"},{\"id\":\"p1105\"},{\"type\":\"object\",\"name\":\"SaveTool\",\"id\":\"p1111\"},{\"id\":\"p1112\"},{\"id\":\"p1113\"}]}},\"toolbar_location\":null,\"left\":[{\"type\":\"object\",\"name\":\"LogAxis\",\"id\":\"p1098\",\"attributes\":{\"ticker\":{\"type\":\"object\",\"name\":\"LogTicker\",\"id\":\"p1099\",\"attributes\":{\"num_minor_ticks\":10,\"mantissas\":[1,5]}},\"formatter\":{\"type\":\"object\",\"name\":\"LogTickFormatter\",\"id\":\"p1100\"},\"major_label_policy\":{\"type\":\"object\",\"name\":\"AllLabels\",\"id\":\"p1101\"}}}],\"below\":[{\"type\":\"object\",\"name\":\"LinearAxis\",\"id\":\"p1093\",\"attributes\":{\"ticker\":{\"type\":\"object\",\"name\":\"BasicTicker\",\"id\":\"p1094\",\"attributes\":{\"mantissas\":[1,2,5]}},\"formatter\":{\"type\":\"object\",\"name\":\"BasicTickFormatter\",\"id\":\"p1095\"},\"axis_label\":\"Single Scattering Albedo\",\"major_label_policy\":{\"type\":\"object\",\"name\":\"AllLabels\",\"id\":\"p1096\"}}}],\"center\":[{\"type\":\"object\",\"name\":\"Grid\",\"id\":\"p1097\",\"attributes\":{\"axis\":{\"id\":\"p1093\"}}},{\"type\":\"object\",\"name\":\"Grid\",\"id\":\"p1102\",\"attributes\":{\"dimension\":1,\"axis\":{\"id\":\"p1098\"}}},{\"type\":\"object\",\"name\":\"Legend\",\"id\":\"p1207\",\"attributes\":{\"location\":\"top_left\",\"items\":[{\"type\":\"object\",\"name\":\"LegendItem\",\"id\":\"p1208\",\"attributes\":{\"label\":{\"type\":\"value\",\"value\":\"Constant\"},\"renderers\":[{\"id\":\"p1204\"}]}},{\"type\":\"object\",\"name\":\"LegendItem\",\"id\":\"p1236\",\"attributes\":{\"label\":{\"type\":\"value\",\"value\":\"CHF-Only\"},\"renderers\":[{\"id\":\"p1233\"}]}},{\"type\":\"object\",\"name\":\"LegendItem\",\"id\":\"p1264\",\"attributes\":{\"label\":{\"type\":\"value\",\"value\":\"CHF+Latent\"},\"renderers\":[{\"id\":\"p1261\"}]}},{\"type\":\"object\",\"name\":\"LegendItem\",\"id\":\"p1292\",\"attributes\":{\"label\":{\"type\":\"value\",\"value\":\"CFH+Latent+COS\"},\"renderers\":[{\"id\":\"p1289\"}]}}]}}]}},0,1],[{\"type\":\"object\",\"name\":\"Figure\",\"id\":\"p1114\",\"attributes\":{\"width\":300,\"height\":300,\"x_range\":{\"type\":\"object\",\"name\":\"DataRange1d\",\"id\":\"p1116\"},\"y_range\":{\"type\":\"object\",\"name\":\"Range1d\",\"id\":\"p1123\",\"attributes\":{\"start\":59.4448565,\"end\":0.00019140000000000002}},\"x_scale\":{\"type\":\"object\",\"name\":\"LinearScale\",\"id\":\"p1124\"},\"y_scale\":{\"type\":\"object\",\"name\":\"LogScale\",\"id\":\"p1125\"},\"title\":{\"type\":\"object\",\"name\":\"Title\",\"id\":\"p1121\"},\"renderers\":[{\"type\":\"object\",\"name\":\"GlyphRenderer\",\"id\":\"p1195\",\"attributes\":{\"data_source\":{\"type\":\"object\",\"name\":\"ColumnDataSource\",\"id\":\"p1189\",\"attributes\":{\"selected\":{\"type\":\"object\",\"name\":\"Selection\",\"id\":\"p1190\",\"attributes\":{\"indices\":[],\"line_indices\":[]}},\"selection_policy\":{\"type\":\"object\",\"name\":\"UnionRenderers\",\"id\":\"p1191\"},\"data\":{\"type\":\"map\",\"entries\":[[\"x\",{\"type\":\"ndarray\",\"array\":{\"type\":\"bytes\",\"data\":\"VbGXY7PW5T/XjGrwaiDmP4nGVPVibuY/vAJFxTO+5j+Es+Ng3g3nP6lM4VtgW+c/Kb+yA0Kl5z9dkJfFsOrnP21INtM9K+g/TQVy3EJa6D95gcSj2nfoPyd0jbr+qug/nyCqn7rZ6D/ktkoAbQTpP8BG3cZeK+k/14TtK9dO6T/XaUhBA2/pP6RqN7gTjOk/QWNe/iSm6T+s3Ofwa73pP2HgUPgQ0uk/EWqg61bk6T/KIXODdfTpP1B2Y/C4Auo/l32xv1kP6j/H8jB6nhrqP5rOkOmyJOo/nH+SDM4t6j8WJwXYDDbqP11+kzSUPeo/U477VXBE6j8pFqn6vkrqP6O4ybGHUOo/KbRfq+FV6j9mxB0g0FrqP7lz19dkX+o/0RuFp55j6j9aDwtEiWfqPzTSPCkja+o/85aGQ3lu6j99qRU4jXHqP19tqhpjdOo/43G8aQt36j+RvoUqk3nqP53bbgQjfOo/qtf3v9N+6j/p8UyksIDqP8wk6Ho1guo/cPFdf4CD6j+MEp7XkITqPwcaorl1heo/TD6ULzmG6j+XgqKJ0YbqPw/LecNJh+o/4+Eg1MiH6j/d05FUbIjqP8kpmqQ2ieo/b3oq4iqK6j/QT1gyTIvqP11zJj6djOo/526kjB+O6j+tYEfc04/qP6lVcuy3keo/QdDF1q+T6j9k978PtZXqP2xkpWq7l+o/GQXoSMqZ6j/3GzRB2ZvqPzlEIJfpneo/L34Mmuyf6j/8bzJgt6HqP4Qio6Hlouo/hCKjoeWi6j+EIqOh5aLqP4Qio6Hlouo/AAAAAAAAAAAAAAAAAAAAAAAAAAAAAAAAAAAAAAAAAAAAAAAAAAAAAAAAAAAAAAAAAAAAAAAAAAAAAAAAAAAAAAAAAAAAAAAAAAAAAAAAAAAAAAAAAAAAAAAAAAAAAAAAAAAAAAAAAAAAAAAAAAAAAAAAAAAAAAAA\"},\"shape\":[90],\"dtype\":\"float64\",\"order\":\"little\"}],[\"y\",{\"type\":\"ndarray\",\"array\":{\"type\":\"bytes\",\"data\":\"0dYce1EWKT+ZaVYRyessP/lahu5IqzA/k7quqT02Mz/ZhwZzBSU2P+7MBMO5hjk/vz9KkSFsPT/a4a/JGvVAPwL0+/7Ni0M/oB+hwQGIRj/YbhaKz/hJP3ttkQ/V700/en/NgwVBUT8vRD0zd+NTP6uYSj/h7FY/ficcMP5sWj9v57Ec13VeP/JdSl0yjmE/MtXdhmI8ZD/EIitkU1NnP60mPi314mo/ZN3TMNf9bj9DfSZWodxxP4ncwqnFlnQ/BqYudIC7dz9V10bhH1t7P2Wire9oiH8/1x5R/HMsgj9MQtjfyPKEPzyxPWmXJYg/aUVAKmrViz/WU6uvrgqQP7Y8xWC0fZI/Kq0a33JQlT9eSl0yjpGYP/RqJRneUZw/T5ph/mVSoD/cWQV7XdCiP3V2jfG8r6U/bXGNz2T/qD+Z9PdSeNCsPx1jOOhcm7A/e9tMhXgksz+Jbqx6rxC2P5qLCXskb7k/ZFkw8UdRvT/yVCwjmuXAP9adOMoLesM//sQSIFRzxj8s8uuH2ODJP53y6EZY1M0/Ekza+SMx0T+dR8X/HdHTP4ggvZex19Y/E6tQ7ohU2j9AQK1YslneP63tNyT/feE/ecK3VbUp5D/eoRekzz3nP+BrY0c+yuo/IxQAiGDh7j8KFuLsMczxP1CavLfYg/Q/8E4+Pbal9z/6fg8DAkL7P+wX7IZta/8/kL8PYsIbAkBdXsoKj98EQLw3K0dtDwhAC2t0GN27C0DlNPqH4/cPQLXu1X22bBJAyIkbXN88FUDBSvTo/HoYQH96fffYNxxA73eDw2ZDIEDAhMCAFL8iQKeIHdfQmyVAvWU9a23oKECz8iYa/7UsQEasDzUbjDBAx9nPveISM0DPOMPDavw1QPkboyvHVzlAqD5GL1k2PUDGzsqsFNZAQIdZw6AnaENAyKe2irReRkC7KeW1EslJQN50yw7xuE1A\"},\"shape\":[90],\"dtype\":\"float64\",\"order\":\"little\"}]]}}},\"view\":{\"type\":\"object\",\"name\":\"CDSView\",\"id\":\"p1196\",\"attributes\":{\"filter\":{\"type\":\"object\",\"name\":\"AllIndices\",\"id\":\"p1197\"}}},\"glyph\":{\"type\":\"object\",\"name\":\"Line\",\"id\":\"p1192\",\"attributes\":{\"x\":{\"type\":\"field\",\"field\":\"x\"},\"y\":{\"type\":\"field\",\"field\":\"y\"},\"line_color\":\"#0072B2\",\"line_width\":3}},\"nonselection_glyph\":{\"type\":\"object\",\"name\":\"Line\",\"id\":\"p1193\",\"attributes\":{\"x\":{\"type\":\"field\",\"field\":\"x\"},\"y\":{\"type\":\"field\",\"field\":\"y\"},\"line_color\":\"#0072B2\",\"line_alpha\":0.1,\"line_width\":3}},\"muted_glyph\":{\"type\":\"object\",\"name\":\"Line\",\"id\":\"p1194\",\"attributes\":{\"x\":{\"type\":\"field\",\"field\":\"x\"},\"y\":{\"type\":\"field\",\"field\":\"y\"},\"line_color\":\"#0072B2\",\"line_alpha\":0.2,\"line_width\":3}}}},{\"type\":\"object\",\"name\":\"GlyphRenderer\",\"id\":\"p1224\",\"attributes\":{\"data_source\":{\"type\":\"object\",\"name\":\"ColumnDataSource\",\"id\":\"p1218\",\"attributes\":{\"selected\":{\"type\":\"object\",\"name\":\"Selection\",\"id\":\"p1219\",\"attributes\":{\"indices\":[],\"line_indices\":[]}},\"selection_policy\":{\"type\":\"object\",\"name\":\"UnionRenderers\",\"id\":\"p1220\"},\"data\":{\"type\":\"map\",\"entries\":[[\"x\",{\"type\":\"ndarray\",\"array\":{\"type\":\"bytes\",\"data\":\"POYwZI/B5D/3QuRGANfkP1jPgy8e5OQ/wkZT56H05D8Bkl5EYgnlP5oE7QoTIuU/x/usdts+5T80m7ZuxV/lP6icJ4TahOU/5PqBO9+t5T95eBfsjNrlP6y02vJaCuY/PFDgbcU85j9N6Yxj/HDmP9Gzwed9puY/Ha3fhPCv5j9oVMh+pdzmPyLAcjSdDuc/mOXp2cM+5z89SDDNi2znP/axlGx3l+c/Rk2ZyTO/5z+3B1kkgePnPy1PS+9MBOg/T3V9YoYh6D8MuyUxVzvoP00AaL/UUeg/QBa3e0xl6D9qkytG8nXoPz1F3bUihOg/79HCzx2Q6D8Zb4QqPproPwNdVW67oug/JLBR1d+p6D8Xcuwu1K/oP1Gr9mTYtOg/PD9KBQi56D/nH195k7zoP+/RzW2Pv+g/4IC6+BnC6D/9h2ZkQMToP5nYzasFxug/cL3EWW/H6D+M6h29W8joP42mv56IyOg/UfUiA73H6D8fKULbd8joP1lc8aVzyeg/CTs+Sm/K6D9s6psabsvoP/2TaiBkzOg/kOAIXUnN6D/nn+AuMM7oP6NYvksLz+g/X+juHbPP6D8Qb8N6CNDoPxGUFvcF0Og/AIlJSbXP6D9T9iaOCM/oP/14ruoIzug/zWSPEb/M6D8WI/ZvH8voP6drZ5JByeg/DNdzxjbH6D//rbEjH8XoP6wsK/nzwug/g4RAEcfA6D/KLF02i77oP4HoqXtLvOg/ycDsHyW66D+s7CECIrjoP/9iGYtZtug//2IZi1m26D//YhmLWbboPwBjGYtZtug/AAAAAAAAAAAAAAAAAAAAAAAAAAAAAAAAAAAAAAAAAAAAAAAAAAAAAAAAAAAAAAAAAAAAAAAAAAAAAAAAAAAAAAAAAAAAAAAAAAAAAAAAAAAAAAAAAAAAAAAAAAAAAAAAAAAAAAAAAAAAAAAAAAAAAAAAAAAAAAAA\"},\"shape\":[90],\"dtype\":\"float64\",\"order\":\"little\"}],[\"y\",{\"type\":\"ndarray\",\"array\":{\"type\":\"bytes\",\"data\":\"0dYce1EWKT+ZaVYRyessP/lahu5IqzA/k7quqT02Mz/ZhwZzBSU2P+7MBMO5hjk/vz9KkSFsPT/a4a/JGvVAPwL0+/7Ni0M/oB+hwQGIRj/YbhaKz/hJP3ttkQ/V700/en/NgwVBUT8vRD0zd+NTP6uYSj/h7FY/ficcMP5sWj9v57Ec13VeP/JdSl0yjmE/MtXdhmI8ZD/EIitkU1NnP60mPi314mo/ZN3TMNf9bj9DfSZWodxxP4ncwqnFlnQ/BqYudIC7dz9V10bhH1t7P2Wire9oiH8/1x5R/HMsgj9MQtjfyPKEPzyxPWmXJYg/aUVAKmrViz/WU6uvrgqQP7Y8xWC0fZI/Kq0a33JQlT9eSl0yjpGYP/RqJRneUZw/T5ph/mVSoD/cWQV7XdCiP3V2jfG8r6U/bXGNz2T/qD+Z9PdSeNCsPx1jOOhcm7A/e9tMhXgksz+Jbqx6rxC2P5qLCXskb7k/ZFkw8UdRvT/yVCwjmuXAP9adOMoLesM//sQSIFRzxj8s8uuH2ODJP53y6EZY1M0/Ekza+SMx0T+dR8X/HdHTP4ggvZex19Y/E6tQ7ohU2j9AQK1YslneP63tNyT/feE/ecK3VbUp5D/eoRekzz3nP+BrY0c+yuo/IxQAiGDh7j8KFuLsMczxP1CavLfYg/Q/8E4+Pbal9z/6fg8DAkL7P+wX7IZta/8/kL8PYsIbAkBdXsoKj98EQLw3K0dtDwhAC2t0GN27C0DlNPqH4/cPQLXu1X22bBJAyIkbXN88FUDBSvTo/HoYQH96fffYNxxA73eDw2ZDIEDAhMCAFL8iQKeIHdfQmyVAvWU9a23oKECz8iYa/7UsQEasDzUbjDBAx9nPveISM0DPOMPDavw1QPkboyvHVzlAqD5GL1k2PUDGzsqsFNZAQIdZw6AnaENAyKe2irReRkC7KeW1EslJQN50yw7xuE1A\"},\"shape\":[90],\"dtype\":\"float64\",\"order\":\"little\"}]]}}},\"view\":{\"type\":\"object\",\"name\":\"CDSView\",\"id\":\"p1225\",\"attributes\":{\"filter\":{\"type\":\"object\",\"name\":\"AllIndices\",\"id\":\"p1226\"}}},\"glyph\":{\"type\":\"object\",\"name\":\"Line\",\"id\":\"p1221\",\"attributes\":{\"x\":{\"type\":\"field\",\"field\":\"x\"},\"y\":{\"type\":\"field\",\"field\":\"y\"},\"line_color\":\"#E69F00\",\"line_width\":3}},\"nonselection_glyph\":{\"type\":\"object\",\"name\":\"Line\",\"id\":\"p1222\",\"attributes\":{\"x\":{\"type\":\"field\",\"field\":\"x\"},\"y\":{\"type\":\"field\",\"field\":\"y\"},\"line_color\":\"#E69F00\",\"line_alpha\":0.1,\"line_width\":3}},\"muted_glyph\":{\"type\":\"object\",\"name\":\"Line\",\"id\":\"p1223\",\"attributes\":{\"x\":{\"type\":\"field\",\"field\":\"x\"},\"y\":{\"type\":\"field\",\"field\":\"y\"},\"line_color\":\"#E69F00\",\"line_alpha\":0.2,\"line_width\":3}}}},{\"type\":\"object\",\"name\":\"GlyphRenderer\",\"id\":\"p1252\",\"attributes\":{\"data_source\":{\"type\":\"object\",\"name\":\"ColumnDataSource\",\"id\":\"p1246\",\"attributes\":{\"selected\":{\"type\":\"object\",\"name\":\"Selection\",\"id\":\"p1247\",\"attributes\":{\"indices\":[],\"line_indices\":[]}},\"selection_policy\":{\"type\":\"object\",\"name\":\"UnionRenderers\",\"id\":\"p1248\"},\"data\":{\"type\":\"map\",\"entries\":[[\"x\",{\"type\":\"ndarray\",\"array\":{\"type\":\"bytes\",\"data\":\"zFSXZGo85D9cGJfIQWHkP6VkR9CEfOQ/lDW688KQ5D8XQfBTaaHkPzxuYJm5sOQ//eroPbq/5D8/B07gis/kP5n3TYUk4uQ/AXq4D5L35D9H+Kw8VRHlP0kwycSyL+U/wQBzBPZR5T/M4RJLtHnlP8BlUD7dpeU/7wCiEPHV5T8QjeDqGwjmP3EWPfusG+Y/qfTv3KxA5j8Iq+v/l3LmP2F1+8XJpeY/Hqg5kw7Y5j9jGwsq7gjnP4zIMPOFN+c/c0wXIxBj5z99AbXmaovnP5/LrM4bsOc/YGrRoErR5z8sfOlANu7nP7/FS76tCeg/o8GOSTUh6D8xn+FvnjXoP21PSHX/Rug/h0sPDNZV6D9GYuQ4q2LoP4A8+/zdbeg/NKPpyBl46D/j6dLHlYHoP6Nnm1LQieg/Rs23PkCR6D8ZXHREA5joP1OpElbkneg/DyLvvfmi6D/dunJvFKfoP/FL03Icqug/6Tx8xhqs6D/WqrrnB7DoP/8/GcP8s+g/zw+obr246D9mrjDSgrzoP4nwlacYv+g/o6AW0HnB6D/v20reE8XoP3/oi6wrxug/ACYiVALF6D/E9X6NRsLoP6aIdaHHv+g/3zWefHm86D9UEYu1X7joP8adrX1ItOg/mg55SMav6D+qVzNQPqroP+PTMrVopug/tuS+Bu+j6D8jgubaKaLoP+m1iptxoOg/xld92sSe6D8WNngKDp3oP9+FGuezm+g/DdXnNFOc6D+/0gBmZZ7oP5k8KDaXoug/mTwoNpei6D+ZPCg2l6LoP5c8KDaXoug/AAAAAAAAAAAAAAAAAAAAAAAAAAAAAAAAAAAAAAAAAAAAAAAAAAAAAAAAAAAAAAAAAAAAAAAAAAAAAAAAAAAAAAAAAAAAAAAAAAAAAAAAAAAAAAAAAAAAAAAAAAAAAAAAAAAAAAAAAAAAAAAAAAAAAAAAAAAAAAAA\"},\"shape\":[90],\"dtype\":\"float64\",\"order\":\"little\"}],[\"y\",{\"type\":\"ndarray\",\"array\":{\"type\":\"bytes\",\"data\":\"0dYce1EWKT+ZaVYRyessP/lahu5IqzA/k7quqT02Mz/ZhwZzBSU2P+7MBMO5hjk/vz9KkSFsPT/a4a/JGvVAPwL0+/7Ni0M/oB+hwQGIRj/YbhaKz/hJP3ttkQ/V700/en/NgwVBUT8vRD0zd+NTP6uYSj/h7FY/ficcMP5sWj9v57Ec13VeP/JdSl0yjmE/MtXdhmI8ZD/EIitkU1NnP60mPi314mo/ZN3TMNf9bj9DfSZWodxxP4ncwqnFlnQ/BqYudIC7dz9V10bhH1t7P2Wire9oiH8/1x5R/HMsgj9MQtjfyPKEPzyxPWmXJYg/aUVAKmrViz/WU6uvrgqQP7Y8xWC0fZI/Kq0a33JQlT9eSl0yjpGYP/RqJRneUZw/T5ph/mVSoD/cWQV7XdCiP3V2jfG8r6U/bXGNz2T/qD+Z9PdSeNCsPx1jOOhcm7A/e9tMhXgksz+Jbqx6rxC2P5qLCXskb7k/ZFkw8UdRvT/yVCwjmuXAP9adOMoLesM//sQSIFRzxj8s8uuH2ODJP53y6EZY1M0/Ekza+SMx0T+dR8X/HdHTP4ggvZex19Y/E6tQ7ohU2j9AQK1YslneP63tNyT/feE/ecK3VbUp5D/eoRekzz3nP+BrY0c+yuo/IxQAiGDh7j8KFuLsMczxP1CavLfYg/Q/8E4+Pbal9z/6fg8DAkL7P+wX7IZta/8/kL8PYsIbAkBdXsoKj98EQLw3K0dtDwhAC2t0GN27C0DlNPqH4/cPQLXu1X22bBJAyIkbXN88FUDBSvTo/HoYQH96fffYNxxA73eDw2ZDIEDAhMCAFL8iQKeIHdfQmyVAvWU9a23oKECz8iYa/7UsQEasDzUbjDBAx9nPveISM0DPOMPDavw1QPkboyvHVzlAqD5GL1k2PUDGzsqsFNZAQIdZw6AnaENAyKe2irReRkC7KeW1EslJQN50yw7xuE1A\"},\"shape\":[90],\"dtype\":\"float64\",\"order\":\"little\"}]]}}},\"view\":{\"type\":\"object\",\"name\":\"CDSView\",\"id\":\"p1253\",\"attributes\":{\"filter\":{\"type\":\"object\",\"name\":\"AllIndices\",\"id\":\"p1254\"}}},\"glyph\":{\"type\":\"object\",\"name\":\"Line\",\"id\":\"p1249\",\"attributes\":{\"x\":{\"type\":\"field\",\"field\":\"x\"},\"y\":{\"type\":\"field\",\"field\":\"y\"},\"line_color\":\"#F0E442\",\"line_width\":3}},\"nonselection_glyph\":{\"type\":\"object\",\"name\":\"Line\",\"id\":\"p1250\",\"attributes\":{\"x\":{\"type\":\"field\",\"field\":\"x\"},\"y\":{\"type\":\"field\",\"field\":\"y\"},\"line_color\":\"#F0E442\",\"line_alpha\":0.1,\"line_width\":3}},\"muted_glyph\":{\"type\":\"object\",\"name\":\"Line\",\"id\":\"p1251\",\"attributes\":{\"x\":{\"type\":\"field\",\"field\":\"x\"},\"y\":{\"type\":\"field\",\"field\":\"y\"},\"line_color\":\"#F0E442\",\"line_alpha\":0.2,\"line_width\":3}}}},{\"type\":\"object\",\"name\":\"GlyphRenderer\",\"id\":\"p1280\",\"attributes\":{\"data_source\":{\"type\":\"object\",\"name\":\"ColumnDataSource\",\"id\":\"p1274\",\"attributes\":{\"selected\":{\"type\":\"object\",\"name\":\"Selection\",\"id\":\"p1275\",\"attributes\":{\"indices\":[],\"line_indices\":[]}},\"selection_policy\":{\"type\":\"object\",\"name\":\"UnionRenderers\",\"id\":\"p1276\"},\"data\":{\"type\":\"map\",\"entries\":[[\"x\",{\"type\":\"ndarray\",\"array\":{\"type\":\"bytes\",\"data\":\"zFSXZGo85D9cGJfIQWHkP6VkR9CEfOQ/lDW688KQ5D8XQfBTaaHkPzxuYJm5sOQ//eroPbq/5D8/B07gis/kP5n3TYUk4uQ/AXq4D5L35D9H+Kw8VRHlP0kwycSyL+U/wQBzBPZR5T/M4RJLtHnlP8BlUD7dpeU/7wCiEPHV5T8QjeDqGwjmP3EWPfusG+Y/qfTv3KxA5j8Iq+v/l3LmP2F1+8XJpeY/Hqg5kw7Y5j9jGwsq7gjnP4zIMPOFN+c/c0wXIxBj5z99AbXmaovnP5/LrM4bsOc/YGrRoErR5z8sfOlANu7nP7/FS76tCeg/o8GOSTUh6D8xn+FvnjXoP21PSHX/Rug/h0sPDNZV6D9GYuQ4q2LoP4A8+/zdbeg/NKPpyBl46D/j6dLHlYHoP6Nnm1LQieg/Rs23PkCR6D8ZXHREA5joP1OpElbkneg/DyLvvfmi6D/dunJvFKfoP/FL03Icqug/6Tx8xhqs6D/WqrrnB7DoP/8/GcP8s+g/zw+obr246D9mrjDSgrzoP4nwlacYv+g/o6AW0HnB6D/v20reE8XoP3/oi6wrxug/ACYiVALF6D/E9X6NRsLoP6aIdaHHv+g/3zWefHm86D9UEYu1X7joP8adrX1ItOg/mg55SMav6D+qVzNQPqroP+PTMrVopug/tuS+Bu+j6D8jgubaKaLoP+m1iptxoOg/xld92sSe6D8WNngKDp3oP19ltaW0y+g/KhSu1MMg6T8w2wlOYnHpP2NBUd8Mwek/Y0FR3wzB6T9jQVHfDMHpP2NBUd8Mwek/AAAAAAAAAAAAAAAAAAAAAAAAAAAAAAAAAAAAAAAAAAAAAAAAAAAAAAAAAAAAAAAAAAAAAAAAAAAAAAAAAAAAAAAAAAAAAAAAAAAAAAAAAAAAAAAAAAAAAAAAAAAAAAAAAAAAAAAAAAAAAAAAAAAAAAAAAAAAAAAA\"},\"shape\":[90],\"dtype\":\"float64\",\"order\":\"little\"}],[\"y\",{\"type\":\"ndarray\",\"array\":{\"type\":\"bytes\",\"data\":\"0dYce1EWKT+ZaVYRyessP/lahu5IqzA/k7quqT02Mz/ZhwZzBSU2P+7MBMO5hjk/vz9KkSFsPT/a4a/JGvVAPwL0+/7Ni0M/oB+hwQGIRj/YbhaKz/hJP3ttkQ/V700/en/NgwVBUT8vRD0zd+NTP6uYSj/h7FY/ficcMP5sWj9v57Ec13VeP/JdSl0yjmE/MtXdhmI8ZD/EIitkU1NnP60mPi314mo/ZN3TMNf9bj9DfSZWodxxP4ncwqnFlnQ/BqYudIC7dz9V10bhH1t7P2Wire9oiH8/1x5R/HMsgj9MQtjfyPKEPzyxPWmXJYg/aUVAKmrViz/WU6uvrgqQP7Y8xWC0fZI/Kq0a33JQlT9eSl0yjpGYP/RqJRneUZw/T5ph/mVSoD/cWQV7XdCiP3V2jfG8r6U/bXGNz2T/qD+Z9PdSeNCsPx1jOOhcm7A/e9tMhXgksz+Jbqx6rxC2P5qLCXskb7k/ZFkw8UdRvT/yVCwjmuXAP9adOMoLesM//sQSIFRzxj8s8uuH2ODJP53y6EZY1M0/Ekza+SMx0T+dR8X/HdHTP4ggvZex19Y/E6tQ7ohU2j9AQK1YslneP63tNyT/feE/ecK3VbUp5D/eoRekzz3nP+BrY0c+yuo/IxQAiGDh7j8KFuLsMczxP1CavLfYg/Q/8E4+Pbal9z/6fg8DAkL7P+wX7IZta/8/kL8PYsIbAkBdXsoKj98EQLw3K0dtDwhAC2t0GN27C0DlNPqH4/cPQLXu1X22bBJAyIkbXN88FUDBSvTo/HoYQH96fffYNxxA73eDw2ZDIEDAhMCAFL8iQKeIHdfQmyVAvWU9a23oKECz8iYa/7UsQEasDzUbjDBAx9nPveISM0DPOMPDavw1QPkboyvHVzlAqD5GL1k2PUDGzsqsFNZAQIdZw6AnaENAyKe2irReRkC7KeW1EslJQN50yw7xuE1A\"},\"shape\":[90],\"dtype\":\"float64\",\"order\":\"little\"}]]}}},\"view\":{\"type\":\"object\",\"name\":\"CDSView\",\"id\":\"p1281\",\"attributes\":{\"filter\":{\"type\":\"object\",\"name\":\"AllIndices\",\"id\":\"p1282\"}}},\"glyph\":{\"type\":\"object\",\"name\":\"Line\",\"id\":\"p1277\",\"attributes\":{\"x\":{\"type\":\"field\",\"field\":\"x\"},\"y\":{\"type\":\"field\",\"field\":\"y\"},\"line_color\":\"#009E73\",\"line_width\":3}},\"nonselection_glyph\":{\"type\":\"object\",\"name\":\"Line\",\"id\":\"p1278\",\"attributes\":{\"x\":{\"type\":\"field\",\"field\":\"x\"},\"y\":{\"type\":\"field\",\"field\":\"y\"},\"line_color\":\"#009E73\",\"line_alpha\":0.1,\"line_width\":3}},\"muted_glyph\":{\"type\":\"object\",\"name\":\"Line\",\"id\":\"p1279\",\"attributes\":{\"x\":{\"type\":\"field\",\"field\":\"x\"},\"y\":{\"type\":\"field\",\"field\":\"y\"},\"line_color\":\"#009E73\",\"line_alpha\":0.2,\"line_width\":3}}}}],\"toolbar\":{\"type\":\"object\",\"name\":\"Toolbar\",\"id\":\"p1122\",\"attributes\":{\"tools\":[{\"id\":\"p1136\"},{\"id\":\"p1137\"},{\"id\":\"p1138\"},{\"type\":\"object\",\"name\":\"SaveTool\",\"id\":\"p1144\"},{\"id\":\"p1145\"},{\"id\":\"p1146\"}]}},\"toolbar_location\":null,\"left\":[{\"type\":\"object\",\"name\":\"LogAxis\",\"id\":\"p1131\",\"attributes\":{\"ticker\":{\"type\":\"object\",\"name\":\"LogTicker\",\"id\":\"p1132\",\"attributes\":{\"num_minor_ticks\":10,\"mantissas\":[1,5]}},\"formatter\":{\"type\":\"object\",\"name\":\"LogTickFormatter\",\"id\":\"p1133\"},\"major_label_policy\":{\"type\":\"object\",\"name\":\"AllLabels\",\"id\":\"p1134\"}}}],\"below\":[{\"type\":\"object\",\"name\":\"LinearAxis\",\"id\":\"p1126\",\"attributes\":{\"ticker\":{\"type\":\"object\",\"name\":\"BasicTicker\",\"id\":\"p1127\",\"attributes\":{\"mantissas\":[1,2,5]}},\"formatter\":{\"type\":\"object\",\"name\":\"BasicTickFormatter\",\"id\":\"p1128\"},\"axis_label\":\"Asymmetry\",\"major_label_policy\":{\"type\":\"object\",\"name\":\"AllLabels\",\"id\":\"p1129\"}}}],\"center\":[{\"type\":\"object\",\"name\":\"Grid\",\"id\":\"p1130\",\"attributes\":{\"axis\":{\"id\":\"p1126\"}}},{\"type\":\"object\",\"name\":\"Grid\",\"id\":\"p1135\",\"attributes\":{\"dimension\":1,\"axis\":{\"id\":\"p1131\"}}}]}},0,2]]}}]}};\n",
       "  const render_items = [{\"docid\":\"7a937025-1b85-43f4-8add-67eb1f74ede0\",\"roots\":{\"p1300\":\"b6c65e8b-f7eb-49fb-96ce-83680c72a493\"},\"root_ids\":[\"p1300\"]}];\n",
       "  void root.Bokeh.embed.embed_items_notebook(docs_json, render_items);\n",
       "  }\n",
       "  if (root.Bokeh !== undefined) {\n",
       "    embed_document(root);\n",
       "  } else {\n",
       "    let attempts = 0;\n",
       "    const timer = setInterval(function(root) {\n",
       "      if (root.Bokeh !== undefined) {\n",
       "        clearInterval(timer);\n",
       "        embed_document(root);\n",
       "      } else {\n",
       "        attempts++;\n",
       "        if (attempts > 100) {\n",
       "          clearInterval(timer);\n",
       "          console.log(\"Bokeh: ERROR: Unable to run BokehJS code because BokehJS library is missing\");\n",
       "        }\n",
       "      }\n",
       "    }, 10, root)\n",
       "  }\n",
       "})(window);"
      ],
      "application/vnd.bokehjs_exec.v0+json": ""
     },
     "metadata": {
      "application/vnd.bokehjs_exec.v0+json": {
       "id": "p1300"
      }
     },
     "output_type": "display_data"
    }
   ],
   "source": [
    "show(jpi.all_optics_1d([out_constant, out_chf, out_latent, out_latent_cos ], wave_range=[0.3,1],\n",
    "                       legend = legend))"
   ]
  },
  {
   "cell_type": "markdown",
   "metadata": {},
   "source": [
    "## More informed: Input K$_z$ from external model \n",
    "\n",
    "(e.g. Global Circulation Model) "
   ]
  },
  {
   "cell_type": "code",
   "execution_count": 11,
   "metadata": {
    "execution": {
     "iopub.execute_input": "2025-09-05T22:30:19.155182Z",
     "iopub.status.busy": "2025-09-05T22:30:19.155100Z",
     "iopub.status.idle": "2025-09-05T22:30:20.002328Z",
     "shell.execute_reply": "2025-09-05T22:30:20.002000Z"
    }
   },
   "outputs": [],
   "source": [
    "df = jdi.hot_jupiter()\n",
    "\n",
    "sum_planet = jdi.Atmosphere(['MgSiO3','KCl'],fsed=1,mh=metallicity,\n",
    "                 mmw = mean_molecular_weight)\n",
    "sum_planet.gravity(gravity=25.00, gravity_unit=u.Unit('m/(s**2)'))\n",
    "sum_planet.ptk(df=df)\n",
    "hj_real = sum_planet.compute(directory=mieff_directory,as_dict=True)\n",
    "sum_planet.ptk(df=df.loc[:,['pressure','temperature']],constant_kz=1e10)\n",
    "hj_constant = sum_planet.compute(directory=mieff_directory,as_dict=True)"
   ]
  },
  {
   "cell_type": "markdown",
   "metadata": {},
   "source": [
    "## Analyze different $K_z$ formalism via external input\n"
   ]
  },
  {
   "cell_type": "code",
   "execution_count": 12,
   "metadata": {
    "execution": {
     "iopub.execute_input": "2025-09-05T22:30:20.003789Z",
     "iopub.status.busy": "2025-09-05T22:30:20.003689Z",
     "iopub.status.idle": "2025-09-05T22:30:20.061681Z",
     "shell.execute_reply": "2025-09-05T22:30:20.061444Z"
    }
   },
   "outputs": [
    {
     "data": {
      "text/html": [
       "\n",
       "  <div id=\"b7f1ca3d-d017-471c-9b51-0631133e4ddc\" data-root-id=\"p1489\" style=\"display: contents;\"></div>\n"
      ]
     },
     "metadata": {},
     "output_type": "display_data"
    },
    {
     "data": {
      "application/javascript": [
       "(function(root) {\n",
       "  function embed_document(root) {\n",
       "  const docs_json = {\"69e0a4d8-a985-47ff-9d37-30f5e93ad767\":{\"version\":\"3.4.3\",\"title\":\"Bokeh Application\",\"roots\":[{\"type\":\"object\",\"name\":\"GridPlot\",\"id\":\"p1489\",\"attributes\":{\"rows\":null,\"cols\":null,\"toolbar\":{\"type\":\"object\",\"name\":\"Toolbar\",\"id\":\"p1488\",\"attributes\":{\"tools\":[{\"type\":\"object\",\"name\":\"ToolProxy\",\"id\":\"p1482\",\"attributes\":{\"tools\":[{\"type\":\"object\",\"name\":\"PanTool\",\"id\":\"p1414\"},{\"type\":\"object\",\"name\":\"PanTool\",\"id\":\"p1348\"},{\"type\":\"object\",\"name\":\"PanTool\",\"id\":\"p1381\"}]}},{\"type\":\"object\",\"name\":\"ToolProxy\",\"id\":\"p1483\",\"attributes\":{\"tools\":[{\"type\":\"object\",\"name\":\"WheelZoomTool\",\"id\":\"p1415\",\"attributes\":{\"renderers\":\"auto\"}},{\"type\":\"object\",\"name\":\"WheelZoomTool\",\"id\":\"p1349\",\"attributes\":{\"renderers\":\"auto\"}},{\"type\":\"object\",\"name\":\"WheelZoomTool\",\"id\":\"p1382\",\"attributes\":{\"renderers\":\"auto\"}}]}},{\"type\":\"object\",\"name\":\"ToolProxy\",\"id\":\"p1484\",\"attributes\":{\"tools\":[{\"type\":\"object\",\"name\":\"BoxZoomTool\",\"id\":\"p1416\",\"attributes\":{\"overlay\":{\"type\":\"object\",\"name\":\"BoxAnnotation\",\"id\":\"p1417\",\"attributes\":{\"syncable\":false,\"level\":\"overlay\",\"visible\":false,\"left\":{\"type\":\"number\",\"value\":\"nan\"},\"right\":{\"type\":\"number\",\"value\":\"nan\"},\"top\":{\"type\":\"number\",\"value\":\"nan\"},\"bottom\":{\"type\":\"number\",\"value\":\"nan\"},\"left_units\":\"canvas\",\"right_units\":\"canvas\",\"top_units\":\"canvas\",\"bottom_units\":\"canvas\",\"line_color\":\"black\",\"line_alpha\":1.0,\"line_width\":2,\"line_dash\":[4,4],\"fill_color\":\"lightgrey\",\"fill_alpha\":0.5}}}},{\"type\":\"object\",\"name\":\"BoxZoomTool\",\"id\":\"p1350\",\"attributes\":{\"overlay\":{\"type\":\"object\",\"name\":\"BoxAnnotation\",\"id\":\"p1351\",\"attributes\":{\"syncable\":false,\"level\":\"overlay\",\"visible\":false,\"left\":{\"type\":\"number\",\"value\":\"nan\"},\"right\":{\"type\":\"number\",\"value\":\"nan\"},\"top\":{\"type\":\"number\",\"value\":\"nan\"},\"bottom\":{\"type\":\"number\",\"value\":\"nan\"},\"left_units\":\"canvas\",\"right_units\":\"canvas\",\"top_units\":\"canvas\",\"bottom_units\":\"canvas\",\"line_color\":\"black\",\"line_alpha\":1.0,\"line_width\":2,\"line_dash\":[4,4],\"fill_color\":\"lightgrey\",\"fill_alpha\":0.5}}}},{\"type\":\"object\",\"name\":\"BoxZoomTool\",\"id\":\"p1383\",\"attributes\":{\"overlay\":{\"type\":\"object\",\"name\":\"BoxAnnotation\",\"id\":\"p1384\",\"attributes\":{\"syncable\":false,\"level\":\"overlay\",\"visible\":false,\"left\":{\"type\":\"number\",\"value\":\"nan\"},\"right\":{\"type\":\"number\",\"value\":\"nan\"},\"top\":{\"type\":\"number\",\"value\":\"nan\"},\"bottom\":{\"type\":\"number\",\"value\":\"nan\"},\"left_units\":\"canvas\",\"right_units\":\"canvas\",\"top_units\":\"canvas\",\"bottom_units\":\"canvas\",\"line_color\":\"black\",\"line_alpha\":1.0,\"line_width\":2,\"line_dash\":[4,4],\"fill_color\":\"lightgrey\",\"fill_alpha\":0.5}}}}]}},{\"type\":\"object\",\"name\":\"SaveTool\",\"id\":\"p1485\"},{\"type\":\"object\",\"name\":\"ToolProxy\",\"id\":\"p1486\",\"attributes\":{\"tools\":[{\"type\":\"object\",\"name\":\"ResetTool\",\"id\":\"p1423\"},{\"type\":\"object\",\"name\":\"ResetTool\",\"id\":\"p1357\"},{\"type\":\"object\",\"name\":\"ResetTool\",\"id\":\"p1390\"}]}},{\"type\":\"object\",\"name\":\"ToolProxy\",\"id\":\"p1487\",\"attributes\":{\"tools\":[{\"type\":\"object\",\"name\":\"HelpTool\",\"id\":\"p1424\"},{\"type\":\"object\",\"name\":\"HelpTool\",\"id\":\"p1358\"},{\"type\":\"object\",\"name\":\"HelpTool\",\"id\":\"p1391\"}]}}]}},\"children\":[[{\"type\":\"object\",\"name\":\"Figure\",\"id\":\"p1392\",\"attributes\":{\"width\":300,\"height\":300,\"x_range\":{\"type\":\"object\",\"name\":\"DataRange1d\",\"id\":\"p1394\"},\"y_range\":{\"type\":\"object\",\"name\":\"Range1d\",\"id\":\"p1401\",\"attributes\":{\"start\":145.59,\"end\":2.9176000000000002e-06}},\"x_scale\":{\"type\":\"object\",\"name\":\"LogScale\",\"id\":\"p1402\"},\"y_scale\":{\"type\":\"object\",\"name\":\"LogScale\",\"id\":\"p1403\"},\"title\":{\"type\":\"object\",\"name\":\"Title\",\"id\":\"p1399\"},\"renderers\":[{\"type\":\"object\",\"name\":\"GlyphRenderer\",\"id\":\"p1431\",\"attributes\":{\"data_source\":{\"type\":\"object\",\"name\":\"ColumnDataSource\",\"id\":\"p1425\",\"attributes\":{\"selected\":{\"type\":\"object\",\"name\":\"Selection\",\"id\":\"p1426\",\"attributes\":{\"indices\":[],\"line_indices\":[]}},\"selection_policy\":{\"type\":\"object\",\"name\":\"UnionRenderers\",\"id\":\"p1427\"},\"data\":{\"type\":\"map\",\"entries\":[[\"x\",{\"type\":\"ndarray\",\"array\":{\"type\":\"bytes\",\"data\":\"OE4dlMHjYj6EjKL5FGx8Pmeoc73yt4k+BBhwEGlTlD6ALA1IBW2ePse63UqshaY+Zhiauy6DsD4fkYWSSQu4PuZ0kMvyksE+Rh2zMsbkyT4t/6Arhw3TPkz8zsujtts+LOEzD7Hu4z7ngN1WbqHsPsPfuS3twPQ+XHmKljiO/j6RS7WKidQGP6trzVE+kRA/v/ABVZMWGj+Rq8srtCMlP6c+dDGS2DE/MDWmLc6qPz/pKTRdl15NP1R5NSA+GVw/mRAlsm5caz9K69pzRMl6P0YQdD4wNIo/oXIiAJeJmT+6aVD0LMeoPwkjZaxa+bc/Cfrdpn8rxz/B5v6mHyXWP5WVyfZuOeU/+W2cH2kz9D887FXwL18CQE/WEv7QZA5AUAnWlAecFEAHPmRLHaMAQAwwbUWVnso/DDBtRZWeuj878/CdqkuVPwAAAAAAAAAAAAAAAAAAAAAAAAAAAAAAAAAAAAAAAAAAAAAAAAAAAAAAAAAAAAAAAAAAAAAAAAAAAAAAAAAAAAAAAAAAAAAAAAAAAAAAAAAAAAAAAAAAAAA=\"},\"shape\":[52],\"dtype\":\"float64\",\"order\":\"little\"}],[\"y\",{\"type\":\"ndarray\",\"array\":{\"type\":\"bytes\",\"data\":\"f4cGkH95yD7N3DO7xFLRPmljlajYhdg+D8oHPndb4T5nUrQCJJLoPiqRuz1FZPE+d9g69Lqe+D4JXdPND20BP2C0yQwUqwg/6SjrXdp1ET+YYHCBj7cYP97oCIWtfiE/+PQiJBzEKD/3kDLakYcxPzmbTOSb0Dg/4FbNtWCQQT97QXakG91IPz5kBDMqmVE/1lhnIabpWD+40Et7OaJhPwN8EjNW9mg/AeTfwhWrcT91BMts6wJ5P5pQd1Trs4E/ij+KOnMPiT9bmfBL/byRP9NKIZBLHJk/t5p1xvfFoT/7c9GQ8SipP7jLft3pzrE/j95wH7k1uT+ADvPlBdjBP22oGOdvQsk/VFc+y/Pg0T8BE7h1N0/ZP3ztmSUB6uE/JLn8h/Rb6T9QNuUK7/LxP9Sa5h2naPk/zhlR2hv8AUDZPXlYqHUJQKHWNO84BRJANIC3QIKCGUAgY+5aQg4iQI/C9ShcjylAgZVDi2wXMkA/NV66SZw5QH9qvHSTIEJA8KfGSzepSUB9PzVeuilSQKAaL90ktllAexSuR+EyYkA=\"},\"shape\":[52],\"dtype\":\"float64\",\"order\":\"little\"}]]}}},\"view\":{\"type\":\"object\",\"name\":\"CDSView\",\"id\":\"p1432\",\"attributes\":{\"filter\":{\"type\":\"object\",\"name\":\"AllIndices\",\"id\":\"p1433\"}}},\"glyph\":{\"type\":\"object\",\"name\":\"Line\",\"id\":\"p1428\",\"attributes\":{\"x\":{\"type\":\"field\",\"field\":\"x\"},\"y\":{\"type\":\"field\",\"field\":\"y\"},\"line_color\":\"#0072B2\",\"line_width\":3}},\"nonselection_glyph\":{\"type\":\"object\",\"name\":\"Line\",\"id\":\"p1429\",\"attributes\":{\"x\":{\"type\":\"field\",\"field\":\"x\"},\"y\":{\"type\":\"field\",\"field\":\"y\"},\"line_color\":\"#0072B2\",\"line_alpha\":0.1,\"line_width\":3}},\"muted_glyph\":{\"type\":\"object\",\"name\":\"Line\",\"id\":\"p1430\",\"attributes\":{\"x\":{\"type\":\"field\",\"field\":\"x\"},\"y\":{\"type\":\"field\",\"field\":\"y\"},\"line_color\":\"#0072B2\",\"line_alpha\":0.2,\"line_width\":3}}}},{\"type\":\"object\",\"name\":\"GlyphRenderer\",\"id\":\"p1460\",\"attributes\":{\"data_source\":{\"type\":\"object\",\"name\":\"ColumnDataSource\",\"id\":\"p1454\",\"attributes\":{\"selected\":{\"type\":\"object\",\"name\":\"Selection\",\"id\":\"p1455\",\"attributes\":{\"indices\":[],\"line_indices\":[]}},\"selection_policy\":{\"type\":\"object\",\"name\":\"UnionRenderers\",\"id\":\"p1456\"},\"data\":{\"type\":\"map\",\"entries\":[[\"x\",{\"type\":\"ndarray\",\"array\":{\"type\":\"bytes\",\"data\":\"1OHQstcKQT5GPlidyC1fPre/LZO8G3k+75IB6ikSkj504c1zwGCnPs1eOwydSrs+b2t+dNG9zD7BUPzki1HbPjxFEbGPguc+POWOe+qF8j5vPJ04l0P7PowQwIWiPAM/9NGkRbOpCj9Vwq8nfXMSP/O3E+nzsRk/VKb1gsECIj9dTMG8D1kpPy/9bB7c2zE/secfG+EyOT8KxeqSbSFBP395u6f+X0k/a21CIJuGUz8dyCGs4JVfP/GJ1cVs9Wo/HDWAg5kpeD+ZfNITxX2GPwcNMIjYf5U/kqXsgH3opD8653hmkYu0P5080N0USsQ/Y6EvMqoA1D+rIksTenHjP06T0dPHJ/I/7eOPIm6N/z9kud8ctw0JQEios9NMzxFAwUvAK4ojFUD8DhgH5zv+P8rYrAXsL8g/ytisBewvuD+h4COeiVmTPwAAAAAAAAAAAAAAAAAAAAAAAAAAAAAAAAAAAAAAAAAAAAAAAAAAAAAAAAAAAAAAAAAAAAAAAAAAAAAAAAAAAAAAAAAAAAAAAAAAAAAAAAAAAAAAAAAAAAA=\"},\"shape\":[52],\"dtype\":\"float64\",\"order\":\"little\"}],[\"y\",{\"type\":\"ndarray\",\"array\":{\"type\":\"bytes\",\"data\":\"f4cGkH95yD7N3DO7xFLRPmljlajYhdg+D8oHPndb4T5nUrQCJJLoPiqRuz1FZPE+d9g69Lqe+D4JXdPND20BP2C0yQwUqwg/6SjrXdp1ET+YYHCBj7cYP97oCIWtfiE/+PQiJBzEKD/3kDLakYcxPzmbTOSb0Dg/4FbNtWCQQT97QXakG91IPz5kBDMqmVE/1lhnIabpWD+40Et7OaJhPwN8EjNW9mg/AeTfwhWrcT91BMts6wJ5P5pQd1Trs4E/ij+KOnMPiT9bmfBL/byRP9NKIZBLHJk/t5p1xvfFoT/7c9GQ8SipP7jLft3pzrE/j95wH7k1uT+ADvPlBdjBP22oGOdvQsk/VFc+y/Pg0T8BE7h1N0/ZP3ztmSUB6uE/JLn8h/Rb6T9QNuUK7/LxP9Sa5h2naPk/zhlR2hv8AUDZPXlYqHUJQKHWNO84BRJANIC3QIKCGUAgY+5aQg4iQI/C9ShcjylAgZVDi2wXMkA/NV66SZw5QH9qvHSTIEJA8KfGSzepSUB9PzVeuilSQKAaL90ktllAexSuR+EyYkA=\"},\"shape\":[52],\"dtype\":\"float64\",\"order\":\"little\"}]]}}},\"view\":{\"type\":\"object\",\"name\":\"CDSView\",\"id\":\"p1461\",\"attributes\":{\"filter\":{\"type\":\"object\",\"name\":\"AllIndices\",\"id\":\"p1462\"}}},\"glyph\":{\"type\":\"object\",\"name\":\"Line\",\"id\":\"p1457\",\"attributes\":{\"x\":{\"type\":\"field\",\"field\":\"x\"},\"y\":{\"type\":\"field\",\"field\":\"y\"},\"line_color\":\"#E69F00\",\"line_width\":3}},\"nonselection_glyph\":{\"type\":\"object\",\"name\":\"Line\",\"id\":\"p1458\",\"attributes\":{\"x\":{\"type\":\"field\",\"field\":\"x\"},\"y\":{\"type\":\"field\",\"field\":\"y\"},\"line_color\":\"#E69F00\",\"line_alpha\":0.1,\"line_width\":3}},\"muted_glyph\":{\"type\":\"object\",\"name\":\"Line\",\"id\":\"p1459\",\"attributes\":{\"x\":{\"type\":\"field\",\"field\":\"x\"},\"y\":{\"type\":\"field\",\"field\":\"y\"},\"line_color\":\"#E69F00\",\"line_alpha\":0.2,\"line_width\":3}}}}],\"toolbar\":{\"type\":\"object\",\"name\":\"Toolbar\",\"id\":\"p1400\",\"attributes\":{\"tools\":[{\"id\":\"p1414\"},{\"id\":\"p1415\"},{\"id\":\"p1416\"},{\"type\":\"object\",\"name\":\"SaveTool\",\"id\":\"p1422\"},{\"id\":\"p1423\"},{\"id\":\"p1424\"}]}},\"toolbar_location\":null,\"left\":[{\"type\":\"object\",\"name\":\"LogAxis\",\"id\":\"p1409\",\"attributes\":{\"ticker\":{\"type\":\"object\",\"name\":\"LogTicker\",\"id\":\"p1410\",\"attributes\":{\"num_minor_ticks\":10,\"mantissas\":[1,5]}},\"formatter\":{\"type\":\"object\",\"name\":\"LogTickFormatter\",\"id\":\"p1411\"},\"axis_label\":\"Pressure (bars)\",\"major_label_policy\":{\"type\":\"object\",\"name\":\"AllLabels\",\"id\":\"p1412\"}}}],\"below\":[{\"type\":\"object\",\"name\":\"LogAxis\",\"id\":\"p1404\",\"attributes\":{\"ticker\":{\"type\":\"object\",\"name\":\"LogTicker\",\"id\":\"p1405\",\"attributes\":{\"num_minor_ticks\":10,\"mantissas\":[1,5]}},\"formatter\":{\"type\":\"object\",\"name\":\"LogTickFormatter\",\"id\":\"p1406\"},\"axis_label\":\"Optical Depth\",\"major_label_policy\":{\"type\":\"object\",\"name\":\"AllLabels\",\"id\":\"p1407\"}}}],\"center\":[{\"type\":\"object\",\"name\":\"Grid\",\"id\":\"p1408\",\"attributes\":{\"axis\":{\"id\":\"p1404\"}}},{\"type\":\"object\",\"name\":\"Grid\",\"id\":\"p1413\",\"attributes\":{\"dimension\":1,\"axis\":{\"id\":\"p1409\"}}}]}},0,0],[{\"type\":\"object\",\"name\":\"Figure\",\"id\":\"p1326\",\"attributes\":{\"width\":300,\"height\":300,\"x_range\":{\"type\":\"object\",\"name\":\"DataRange1d\",\"id\":\"p1328\"},\"y_range\":{\"type\":\"object\",\"name\":\"Range1d\",\"id\":\"p1335\",\"attributes\":{\"start\":145.59,\"end\":2.9176000000000002e-06}},\"x_scale\":{\"type\":\"object\",\"name\":\"LinearScale\",\"id\":\"p1336\"},\"y_scale\":{\"type\":\"object\",\"name\":\"LogScale\",\"id\":\"p1337\"},\"title\":{\"type\":\"object\",\"name\":\"Title\",\"id\":\"p1333\"},\"renderers\":[{\"type\":\"object\",\"name\":\"GlyphRenderer\",\"id\":\"p1449\",\"attributes\":{\"data_source\":{\"type\":\"object\",\"name\":\"ColumnDataSource\",\"id\":\"p1443\",\"attributes\":{\"selected\":{\"type\":\"object\",\"name\":\"Selection\",\"id\":\"p1444\",\"attributes\":{\"indices\":[],\"line_indices\":[]}},\"selection_policy\":{\"type\":\"object\",\"name\":\"UnionRenderers\",\"id\":\"p1445\"},\"data\":{\"type\":\"map\",\"entries\":[[\"x\",{\"type\":\"ndarray\",\"array\":{\"type\":\"bytes\",\"data\":\"1Jx7I43k7z+JsC7KeuvvPxcOxINN5+8/UaGIEknf7z9HwCcvwtPvP5CVBU4Sxe8/lK5t9kiy7z9K5ZILNZrvP5pBPgo/fO8/4xG5WV5X7z+foXcLaijvP0YRRe3R6e4/hp+zQKmV7j86YiH2wifuPzw6gy7Lnu0/5758ldD77D8jfPLuyz/sP3/B9TC9XOs/4A2PRn+N6j9hvm+iH8fpP2dJ30YGHuk/n2vN802i6D+HJrDullLoPwMBIHXPIug/enmCPugE6D+081Ev1OznP7bqabgd1Oc/ebkAUqm35z8AmztYe5fnPzz9ry3uduc/I294uTZc5z93qTgqKkjnP+ClQbUGY+c/zJkzB2zC5z9w84wz2k/oP0Cyqu0R6+g/4BgjbX9v6T9XNYX0xOXpP1Y1hfTE5ek/VjWF9MTl6T9XNYX0xOXpPwAAAAAAAAAAAAAAAAAAAAAAAAAAAAAAAAAAAAAAAAAAAAAAAAAAAAAAAAAAAAAAAAAAAAAAAAAAAAAAAAAAAAAAAAAAAAAAAAAAAAAAAAAAAAAAAAAAAAA=\"},\"shape\":[52],\"dtype\":\"float64\",\"order\":\"little\"}],[\"y\",{\"type\":\"ndarray\",\"array\":{\"type\":\"bytes\",\"data\":\"f4cGkH95yD7N3DO7xFLRPmljlajYhdg+D8oHPndb4T5nUrQCJJLoPiqRuz1FZPE+d9g69Lqe+D4JXdPND20BP2C0yQwUqwg/6SjrXdp1ET+YYHCBj7cYP97oCIWtfiE/+PQiJBzEKD/3kDLakYcxPzmbTOSb0Dg/4FbNtWCQQT97QXakG91IPz5kBDMqmVE/1lhnIabpWD+40Et7OaJhPwN8EjNW9mg/AeTfwhWrcT91BMts6wJ5P5pQd1Trs4E/ij+KOnMPiT9bmfBL/byRP9NKIZBLHJk/t5p1xvfFoT/7c9GQ8SipP7jLft3pzrE/j95wH7k1uT+ADvPlBdjBP22oGOdvQsk/VFc+y/Pg0T8BE7h1N0/ZP3ztmSUB6uE/JLn8h/Rb6T9QNuUK7/LxP9Sa5h2naPk/zhlR2hv8AUDZPXlYqHUJQKHWNO84BRJANIC3QIKCGUAgY+5aQg4iQI/C9ShcjylAgZVDi2wXMkA/NV66SZw5QH9qvHSTIEJA8KfGSzepSUB9PzVeuilSQKAaL90ktllAexSuR+EyYkA=\"},\"shape\":[52],\"dtype\":\"float64\",\"order\":\"little\"}]]}}},\"view\":{\"type\":\"object\",\"name\":\"CDSView\",\"id\":\"p1450\",\"attributes\":{\"filter\":{\"type\":\"object\",\"name\":\"AllIndices\",\"id\":\"p1451\"}}},\"glyph\":{\"type\":\"object\",\"name\":\"Line\",\"id\":\"p1446\",\"attributes\":{\"x\":{\"type\":\"field\",\"field\":\"x\"},\"y\":{\"type\":\"field\",\"field\":\"y\"},\"line_color\":\"#0072B2\",\"line_width\":3}},\"nonselection_glyph\":{\"type\":\"object\",\"name\":\"Line\",\"id\":\"p1447\",\"attributes\":{\"x\":{\"type\":\"field\",\"field\":\"x\"},\"y\":{\"type\":\"field\",\"field\":\"y\"},\"line_color\":\"#0072B2\",\"line_alpha\":0.1,\"line_width\":3}},\"muted_glyph\":{\"type\":\"object\",\"name\":\"Line\",\"id\":\"p1448\",\"attributes\":{\"x\":{\"type\":\"field\",\"field\":\"x\"},\"y\":{\"type\":\"field\",\"field\":\"y\"},\"line_color\":\"#0072B2\",\"line_alpha\":0.2,\"line_width\":3}}}},{\"type\":\"object\",\"name\":\"GlyphRenderer\",\"id\":\"p1478\",\"attributes\":{\"data_source\":{\"type\":\"object\",\"name\":\"ColumnDataSource\",\"id\":\"p1472\",\"attributes\":{\"selected\":{\"type\":\"object\",\"name\":\"Selection\",\"id\":\"p1473\",\"attributes\":{\"indices\":[],\"line_indices\":[]}},\"selection_policy\":{\"type\":\"object\",\"name\":\"UnionRenderers\",\"id\":\"p1474\"},\"data\":{\"type\":\"map\",\"entries\":[[\"x\",{\"type\":\"ndarray\",\"array\":{\"type\":\"bytes\",\"data\":\"XRqjhCF57z/3T7PgFbvvPw3ydEWs1u8/YOP4dzzj7z9DG0crEunvP0DJ9/1h6+8/6nJazk3r7z9cn0Zt++jvP0Hsajn34+8/hCjAcmbb7z/TafstPM7vP/zL7OZmu+8/PbSYttmh7z/ftHN8V4DvP0ps3dwEVe8/QznUQ8wc7z9ReY8l+9LuP+oM5UNxce4/1nuPW3Lx7T+a7QjsBUTtP1Mc17nJkOw/SXd1zmXX6z+jCa21Fy3rP4kN9aSCouo/bVaTHbE86j+0i5G1dffpP2rjcZ+Oyuk/7PQDUguu6T+sigptS5zpPy/bVCq5kek/TAT8+weM6T/E1mx0qInpP5Ab3mt0iek/zwYMif6J6T9vDQ0nNorpP5ZK7vbHiek/toKCx4CI6T/jM4/7yIjpP+Mzj/vIiOk/4zOP+8iI6T/jM4/7yIjpPwAAAAAAAAAAAAAAAAAAAAAAAAAAAAAAAAAAAAAAAAAAAAAAAAAAAAAAAAAAAAAAAAAAAAAAAAAAAAAAAAAAAAAAAAAAAAAAAAAAAAAAAAAAAAAAAAAAAAA=\"},\"shape\":[52],\"dtype\":\"float64\",\"order\":\"little\"}],[\"y\",{\"type\":\"ndarray\",\"array\":{\"type\":\"bytes\",\"data\":\"f4cGkH95yD7N3DO7xFLRPmljlajYhdg+D8oHPndb4T5nUrQCJJLoPiqRuz1FZPE+d9g69Lqe+D4JXdPND20BP2C0yQwUqwg/6SjrXdp1ET+YYHCBj7cYP97oCIWtfiE/+PQiJBzEKD/3kDLakYcxPzmbTOSb0Dg/4FbNtWCQQT97QXakG91IPz5kBDMqmVE/1lhnIabpWD+40Et7OaJhPwN8EjNW9mg/AeTfwhWrcT91BMts6wJ5P5pQd1Trs4E/ij+KOnMPiT9bmfBL/byRP9NKIZBLHJk/t5p1xvfFoT/7c9GQ8SipP7jLft3pzrE/j95wH7k1uT+ADvPlBdjBP22oGOdvQsk/VFc+y/Pg0T8BE7h1N0/ZP3ztmSUB6uE/JLn8h/Rb6T9QNuUK7/LxP9Sa5h2naPk/zhlR2hv8AUDZPXlYqHUJQKHWNO84BRJANIC3QIKCGUAgY+5aQg4iQI/C9ShcjylAgZVDi2wXMkA/NV66SZw5QH9qvHSTIEJA8KfGSzepSUB9PzVeuilSQKAaL90ktllAexSuR+EyYkA=\"},\"shape\":[52],\"dtype\":\"float64\",\"order\":\"little\"}]]}}},\"view\":{\"type\":\"object\",\"name\":\"CDSView\",\"id\":\"p1479\",\"attributes\":{\"filter\":{\"type\":\"object\",\"name\":\"AllIndices\",\"id\":\"p1480\"}}},\"glyph\":{\"type\":\"object\",\"name\":\"Line\",\"id\":\"p1475\",\"attributes\":{\"x\":{\"type\":\"field\",\"field\":\"x\"},\"y\":{\"type\":\"field\",\"field\":\"y\"},\"line_color\":\"#E69F00\",\"line_width\":3}},\"nonselection_glyph\":{\"type\":\"object\",\"name\":\"Line\",\"id\":\"p1476\",\"attributes\":{\"x\":{\"type\":\"field\",\"field\":\"x\"},\"y\":{\"type\":\"field\",\"field\":\"y\"},\"line_color\":\"#E69F00\",\"line_alpha\":0.1,\"line_width\":3}},\"muted_glyph\":{\"type\":\"object\",\"name\":\"Line\",\"id\":\"p1477\",\"attributes\":{\"x\":{\"type\":\"field\",\"field\":\"x\"},\"y\":{\"type\":\"field\",\"field\":\"y\"},\"line_color\":\"#E69F00\",\"line_alpha\":0.2,\"line_width\":3}}}}],\"toolbar\":{\"type\":\"object\",\"name\":\"Toolbar\",\"id\":\"p1334\",\"attributes\":{\"tools\":[{\"id\":\"p1348\"},{\"id\":\"p1349\"},{\"id\":\"p1350\"},{\"type\":\"object\",\"name\":\"SaveTool\",\"id\":\"p1356\"},{\"id\":\"p1357\"},{\"id\":\"p1358\"}]}},\"toolbar_location\":null,\"left\":[{\"type\":\"object\",\"name\":\"LogAxis\",\"id\":\"p1343\",\"attributes\":{\"ticker\":{\"type\":\"object\",\"name\":\"LogTicker\",\"id\":\"p1344\",\"attributes\":{\"num_minor_ticks\":10,\"mantissas\":[1,5]}},\"formatter\":{\"type\":\"object\",\"name\":\"LogTickFormatter\",\"id\":\"p1345\"},\"major_label_policy\":{\"type\":\"object\",\"name\":\"AllLabels\",\"id\":\"p1346\"}}}],\"below\":[{\"type\":\"object\",\"name\":\"LinearAxis\",\"id\":\"p1338\",\"attributes\":{\"ticker\":{\"type\":\"object\",\"name\":\"BasicTicker\",\"id\":\"p1339\",\"attributes\":{\"mantissas\":[1,2,5]}},\"formatter\":{\"type\":\"object\",\"name\":\"BasicTickFormatter\",\"id\":\"p1340\"},\"axis_label\":\"Single Scattering Albedo\",\"major_label_policy\":{\"type\":\"object\",\"name\":\"AllLabels\",\"id\":\"p1341\"}}}],\"center\":[{\"type\":\"object\",\"name\":\"Grid\",\"id\":\"p1342\",\"attributes\":{\"axis\":{\"id\":\"p1338\"}}},{\"type\":\"object\",\"name\":\"Grid\",\"id\":\"p1347\",\"attributes\":{\"dimension\":1,\"axis\":{\"id\":\"p1343\"}}},{\"type\":\"object\",\"name\":\"Legend\",\"id\":\"p1452\",\"attributes\":{\"location\":\"top_left\",\"items\":[{\"type\":\"object\",\"name\":\"LegendItem\",\"id\":\"p1453\",\"attributes\":{\"label\":{\"type\":\"value\",\"value\":\"Real\"},\"renderers\":[{\"id\":\"p1449\"}]}},{\"type\":\"object\",\"name\":\"LegendItem\",\"id\":\"p1481\",\"attributes\":{\"label\":{\"type\":\"value\",\"value\":\"Constant\"},\"renderers\":[{\"id\":\"p1478\"}]}}]}}]}},0,1],[{\"type\":\"object\",\"name\":\"Figure\",\"id\":\"p1359\",\"attributes\":{\"width\":300,\"height\":300,\"x_range\":{\"type\":\"object\",\"name\":\"DataRange1d\",\"id\":\"p1361\"},\"y_range\":{\"type\":\"object\",\"name\":\"Range1d\",\"id\":\"p1368\",\"attributes\":{\"start\":145.59,\"end\":2.9176000000000002e-06}},\"x_scale\":{\"type\":\"object\",\"name\":\"LinearScale\",\"id\":\"p1369\"},\"y_scale\":{\"type\":\"object\",\"name\":\"LogScale\",\"id\":\"p1370\"},\"title\":{\"type\":\"object\",\"name\":\"Title\",\"id\":\"p1366\"},\"renderers\":[{\"type\":\"object\",\"name\":\"GlyphRenderer\",\"id\":\"p1440\",\"attributes\":{\"data_source\":{\"type\":\"object\",\"name\":\"ColumnDataSource\",\"id\":\"p1434\",\"attributes\":{\"selected\":{\"type\":\"object\",\"name\":\"Selection\",\"id\":\"p1435\",\"attributes\":{\"indices\":[],\"line_indices\":[]}},\"selection_policy\":{\"type\":\"object\",\"name\":\"UnionRenderers\",\"id\":\"p1436\"},\"data\":{\"type\":\"map\",\"entries\":[[\"x\",{\"type\":\"ndarray\",\"array\":{\"type\":\"bytes\",\"data\":\"EbD3WCd04D9EeSaI1YTjP0kS+uIVUuQ/+RNX0COZ5D8ULC3dcsnkP9dDYVBVCeU/Coc2nqBp5T/Eyi7JXu7lPxZTLUaQi+Y/CQGUD7Yu5z8WzNi12cvnP/zUXCkBXeg/1GUJbA3e6D+ZDiOnyE7pPzSfhk9csuk/U6hh/OMM6j8Kvc++lGLqP0DRPNJVvOo/ua9m9D4H6z9XdcV8iUvrPxk83XBLhOs/wPRdrmCt6z8dsy+0wcfrP5aP6nGO1+s/zOHXGXLh6z+DqZ4taenrPyaB7s6W8es/YI9H3AL76z/EK7n/rAXsP7qvLct5EOw/M5wkw1kZ7D+Gkp+SBCDsP0Pg1S0WF+w/JP7SgHL36z95NNdxqcjrP2DqUbM+les/x7HNlRBp6z8GKX91IkHrPwYpf3UiQes/Bil/dSJB6z8EKX91IkHrPwAAAAAAAAAAAAAAAAAAAAAAAAAAAAAAAAAAAAAAAAAAAAAAAAAAAAAAAAAAAAAAAAAAAAAAAAAAAAAAAAAAAAAAAAAAAAAAAAAAAAAAAAAAAAAAAAAAAAA=\"},\"shape\":[52],\"dtype\":\"float64\",\"order\":\"little\"}],[\"y\",{\"type\":\"ndarray\",\"array\":{\"type\":\"bytes\",\"data\":\"f4cGkH95yD7N3DO7xFLRPmljlajYhdg+D8oHPndb4T5nUrQCJJLoPiqRuz1FZPE+d9g69Lqe+D4JXdPND20BP2C0yQwUqwg/6SjrXdp1ET+YYHCBj7cYP97oCIWtfiE/+PQiJBzEKD/3kDLakYcxPzmbTOSb0Dg/4FbNtWCQQT97QXakG91IPz5kBDMqmVE/1lhnIabpWD+40Et7OaJhPwN8EjNW9mg/AeTfwhWrcT91BMts6wJ5P5pQd1Trs4E/ij+KOnMPiT9bmfBL/byRP9NKIZBLHJk/t5p1xvfFoT/7c9GQ8SipP7jLft3pzrE/j95wH7k1uT+ADvPlBdjBP22oGOdvQsk/VFc+y/Pg0T8BE7h1N0/ZP3ztmSUB6uE/JLn8h/Rb6T9QNuUK7/LxP9Sa5h2naPk/zhlR2hv8AUDZPXlYqHUJQKHWNO84BRJANIC3QIKCGUAgY+5aQg4iQI/C9ShcjylAgZVDi2wXMkA/NV66SZw5QH9qvHSTIEJA8KfGSzepSUB9PzVeuilSQKAaL90ktllAexSuR+EyYkA=\"},\"shape\":[52],\"dtype\":\"float64\",\"order\":\"little\"}]]}}},\"view\":{\"type\":\"object\",\"name\":\"CDSView\",\"id\":\"p1441\",\"attributes\":{\"filter\":{\"type\":\"object\",\"name\":\"AllIndices\",\"id\":\"p1442\"}}},\"glyph\":{\"type\":\"object\",\"name\":\"Line\",\"id\":\"p1437\",\"attributes\":{\"x\":{\"type\":\"field\",\"field\":\"x\"},\"y\":{\"type\":\"field\",\"field\":\"y\"},\"line_color\":\"#0072B2\",\"line_width\":3}},\"nonselection_glyph\":{\"type\":\"object\",\"name\":\"Line\",\"id\":\"p1438\",\"attributes\":{\"x\":{\"type\":\"field\",\"field\":\"x\"},\"y\":{\"type\":\"field\",\"field\":\"y\"},\"line_color\":\"#0072B2\",\"line_alpha\":0.1,\"line_width\":3}},\"muted_glyph\":{\"type\":\"object\",\"name\":\"Line\",\"id\":\"p1439\",\"attributes\":{\"x\":{\"type\":\"field\",\"field\":\"x\"},\"y\":{\"type\":\"field\",\"field\":\"y\"},\"line_color\":\"#0072B2\",\"line_alpha\":0.2,\"line_width\":3}}}},{\"type\":\"object\",\"name\":\"GlyphRenderer\",\"id\":\"p1469\",\"attributes\":{\"data_source\":{\"type\":\"object\",\"name\":\"ColumnDataSource\",\"id\":\"p1463\",\"attributes\":{\"selected\":{\"type\":\"object\",\"name\":\"Selection\",\"id\":\"p1464\",\"attributes\":{\"indices\":[],\"line_indices\":[]}},\"selection_policy\":{\"type\":\"object\",\"name\":\"UnionRenderers\",\"id\":\"p1465\"},\"data\":{\"type\":\"map\",\"entries\":[[\"x\",{\"type\":\"ndarray\",\"array\":{\"type\":\"bytes\",\"data\":\"xL5yEbiq0z/vwjY5rGvYPz2E8NNZsdw/Epu1jDwu4D9npO1haKzhP5yFCyW30uI/p9TTNRGl4z/t+bM4pyzkP6wVba2meuQ/RF3Ukduq5D85AKvcJuDkP2s7xtFTOeU/hRIHFCXE5T/Xy4HWM3fmP1TXg0HaN+c/JhTiYnHr5z+0bh/mqoXoP/3kdNEgCOk/8QnNHAV66T+gZsBVU+fpPyq7vaFhP+o/ZA2+NzCN6j9XpKemAM7qP0wwKP/Z/+o/80AVhVwj6z9NouLkGzvrP+QNv6xfSus/8dWVzQRU6z/zT02GAVrrP3P8i+iQXes/NIsINHtf6z+dsG+HR2DrPzwt0wZZYOs/4FDUlCpg6z+Py6XgF2DrP3dv0O48YOs/eojk86pg6z8qXb6skmDrPyddvqySYOs/J12+rJJg6z8qXb6skmDrPwAAAAAAAAAAAAAAAAAAAAAAAAAAAAAAAAAAAAAAAAAAAAAAAAAAAAAAAAAAAAAAAAAAAAAAAAAAAAAAAAAAAAAAAAAAAAAAAAAAAAAAAAAAAAAAAAAAAAA=\"},\"shape\":[52],\"dtype\":\"float64\",\"order\":\"little\"}],[\"y\",{\"type\":\"ndarray\",\"array\":{\"type\":\"bytes\",\"data\":\"f4cGkH95yD7N3DO7xFLRPmljlajYhdg+D8oHPndb4T5nUrQCJJLoPiqRuz1FZPE+d9g69Lqe+D4JXdPND20BP2C0yQwUqwg/6SjrXdp1ET+YYHCBj7cYP97oCIWtfiE/+PQiJBzEKD/3kDLakYcxPzmbTOSb0Dg/4FbNtWCQQT97QXakG91IPz5kBDMqmVE/1lhnIabpWD+40Et7OaJhPwN8EjNW9mg/AeTfwhWrcT91BMts6wJ5P5pQd1Trs4E/ij+KOnMPiT9bmfBL/byRP9NKIZBLHJk/t5p1xvfFoT/7c9GQ8SipP7jLft3pzrE/j95wH7k1uT+ADvPlBdjBP22oGOdvQsk/VFc+y/Pg0T8BE7h1N0/ZP3ztmSUB6uE/JLn8h/Rb6T9QNuUK7/LxP9Sa5h2naPk/zhlR2hv8AUDZPXlYqHUJQKHWNO84BRJANIC3QIKCGUAgY+5aQg4iQI/C9ShcjylAgZVDi2wXMkA/NV66SZw5QH9qvHSTIEJA8KfGSzepSUB9PzVeuilSQKAaL90ktllAexSuR+EyYkA=\"},\"shape\":[52],\"dtype\":\"float64\",\"order\":\"little\"}]]}}},\"view\":{\"type\":\"object\",\"name\":\"CDSView\",\"id\":\"p1470\",\"attributes\":{\"filter\":{\"type\":\"object\",\"name\":\"AllIndices\",\"id\":\"p1471\"}}},\"glyph\":{\"type\":\"object\",\"name\":\"Line\",\"id\":\"p1466\",\"attributes\":{\"x\":{\"type\":\"field\",\"field\":\"x\"},\"y\":{\"type\":\"field\",\"field\":\"y\"},\"line_color\":\"#E69F00\",\"line_width\":3}},\"nonselection_glyph\":{\"type\":\"object\",\"name\":\"Line\",\"id\":\"p1467\",\"attributes\":{\"x\":{\"type\":\"field\",\"field\":\"x\"},\"y\":{\"type\":\"field\",\"field\":\"y\"},\"line_color\":\"#E69F00\",\"line_alpha\":0.1,\"line_width\":3}},\"muted_glyph\":{\"type\":\"object\",\"name\":\"Line\",\"id\":\"p1468\",\"attributes\":{\"x\":{\"type\":\"field\",\"field\":\"x\"},\"y\":{\"type\":\"field\",\"field\":\"y\"},\"line_color\":\"#E69F00\",\"line_alpha\":0.2,\"line_width\":3}}}}],\"toolbar\":{\"type\":\"object\",\"name\":\"Toolbar\",\"id\":\"p1367\",\"attributes\":{\"tools\":[{\"id\":\"p1381\"},{\"id\":\"p1382\"},{\"id\":\"p1383\"},{\"type\":\"object\",\"name\":\"SaveTool\",\"id\":\"p1389\"},{\"id\":\"p1390\"},{\"id\":\"p1391\"}]}},\"toolbar_location\":null,\"left\":[{\"type\":\"object\",\"name\":\"LogAxis\",\"id\":\"p1376\",\"attributes\":{\"ticker\":{\"type\":\"object\",\"name\":\"LogTicker\",\"id\":\"p1377\",\"attributes\":{\"num_minor_ticks\":10,\"mantissas\":[1,5]}},\"formatter\":{\"type\":\"object\",\"name\":\"LogTickFormatter\",\"id\":\"p1378\"},\"major_label_policy\":{\"type\":\"object\",\"name\":\"AllLabels\",\"id\":\"p1379\"}}}],\"below\":[{\"type\":\"object\",\"name\":\"LinearAxis\",\"id\":\"p1371\",\"attributes\":{\"ticker\":{\"type\":\"object\",\"name\":\"BasicTicker\",\"id\":\"p1372\",\"attributes\":{\"mantissas\":[1,2,5]}},\"formatter\":{\"type\":\"object\",\"name\":\"BasicTickFormatter\",\"id\":\"p1373\"},\"axis_label\":\"Asymmetry\",\"major_label_policy\":{\"type\":\"object\",\"name\":\"AllLabels\",\"id\":\"p1374\"}}}],\"center\":[{\"type\":\"object\",\"name\":\"Grid\",\"id\":\"p1375\",\"attributes\":{\"axis\":{\"id\":\"p1371\"}}},{\"type\":\"object\",\"name\":\"Grid\",\"id\":\"p1380\",\"attributes\":{\"dimension\":1,\"axis\":{\"id\":\"p1376\"}}}]}},0,2]]}}]}};\n",
       "  const render_items = [{\"docid\":\"69e0a4d8-a985-47ff-9d37-30f5e93ad767\",\"roots\":{\"p1489\":\"b7f1ca3d-d017-471c-9b51-0631133e4ddc\"},\"root_ids\":[\"p1489\"]}];\n",
       "  void root.Bokeh.embed.embed_items_notebook(docs_json, render_items);\n",
       "  }\n",
       "  if (root.Bokeh !== undefined) {\n",
       "    embed_document(root);\n",
       "  } else {\n",
       "    let attempts = 0;\n",
       "    const timer = setInterval(function(root) {\n",
       "      if (root.Bokeh !== undefined) {\n",
       "        clearInterval(timer);\n",
       "        embed_document(root);\n",
       "      } else {\n",
       "        attempts++;\n",
       "        if (attempts > 100) {\n",
       "          clearInterval(timer);\n",
       "          console.log(\"Bokeh: ERROR: Unable to run BokehJS code because BokehJS library is missing\");\n",
       "        }\n",
       "      }\n",
       "    }, 10, root)\n",
       "  }\n",
       "})(window);"
      ],
      "application/vnd.bokehjs_exec.v0+json": ""
     },
     "metadata": {
      "application/vnd.bokehjs_exec.v0+json": {
       "id": "p1489"
      }
     },
     "output_type": "display_data"
    }
   ],
   "source": [
    "#get full dictionary output \n",
    "show(jpi.all_optics_1d([hj_real,hj_constant],[0.3,1] , legend=['Real','Constant']))"
   ]
  },
  {
   "cell_type": "code",
   "execution_count": null,
   "metadata": {},
   "outputs": [],
   "source": []
  }
 ],
 "metadata": {
  "kernelspec": {
   "display_name": "Python 3 (ipykernel)",
   "language": "python",
   "name": "python3"
  },
  "language_info": {
   "codemirror_mode": {
    "name": "ipython",
    "version": 3
   },
   "file_extension": ".py",
   "mimetype": "text/x-python",
   "name": "python",
   "nbconvert_exporter": "python",
   "pygments_lexer": "ipython3",
   "version": "3.12.2"
  },
  "toc": {
   "base_numbering": 1,
   "nav_menu": {},
   "number_sections": true,
   "sideBar": true,
   "skip_h1_title": false,
   "title_cell": "Table of Contents",
   "title_sidebar": "Contents",
   "toc_cell": true,
   "toc_position": {},
   "toc_section_display": true,
   "toc_window_display": false
  }
 },
 "nbformat": 4,
 "nbformat_minor": 4
}
